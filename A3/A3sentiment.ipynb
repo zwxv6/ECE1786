{
  "nbformat": 4,
  "nbformat_minor": 0,
  "metadata": {
    "colab": {
      "provenance": []
    },
    "kernelspec": {
      "name": "python3",
      "display_name": "Python 3"
    },
    "language_info": {
      "name": "python"
    },
    "widgets": {
      "application/vnd.jupyter.widget-state+json": {
        "453bc4b7dd464c55a15398d056b48a05": {
          "model_module": "@jupyter-widgets/controls",
          "model_name": "HBoxModel",
          "model_module_version": "1.5.0",
          "state": {
            "_dom_classes": [],
            "_model_module": "@jupyter-widgets/controls",
            "_model_module_version": "1.5.0",
            "_model_name": "HBoxModel",
            "_view_count": null,
            "_view_module": "@jupyter-widgets/controls",
            "_view_module_version": "1.5.0",
            "_view_name": "HBoxView",
            "box_style": "",
            "children": [
              "IPY_MODEL_17776d10d1e34b81aef312d960666ee2",
              "IPY_MODEL_53603316b2d44791b279ca47edc305bd",
              "IPY_MODEL_c8ab628127fd4dd798531ba481a1e235"
            ],
            "layout": "IPY_MODEL_434137d927a0477b86bbd463865b8896"
          }
        },
        "17776d10d1e34b81aef312d960666ee2": {
          "model_module": "@jupyter-widgets/controls",
          "model_name": "HTMLModel",
          "model_module_version": "1.5.0",
          "state": {
            "_dom_classes": [],
            "_model_module": "@jupyter-widgets/controls",
            "_model_module_version": "1.5.0",
            "_model_name": "HTMLModel",
            "_view_count": null,
            "_view_module": "@jupyter-widgets/controls",
            "_view_module_version": "1.5.0",
            "_view_name": "HTMLView",
            "description": "",
            "description_tooltip": null,
            "layout": "IPY_MODEL_fd793493ee844af58ea9175752d641cb",
            "placeholder": "​",
            "style": "IPY_MODEL_9876bb543a204477aa9e634b61f6c8a3",
            "value": "Downloading builder script: 100%"
          }
        },
        "53603316b2d44791b279ca47edc305bd": {
          "model_module": "@jupyter-widgets/controls",
          "model_name": "FloatProgressModel",
          "model_module_version": "1.5.0",
          "state": {
            "_dom_classes": [],
            "_model_module": "@jupyter-widgets/controls",
            "_model_module_version": "1.5.0",
            "_model_name": "FloatProgressModel",
            "_view_count": null,
            "_view_module": "@jupyter-widgets/controls",
            "_view_module_version": "1.5.0",
            "_view_name": "ProgressView",
            "bar_style": "success",
            "description": "",
            "description_tooltip": null,
            "layout": "IPY_MODEL_719f3178000643439fbc7b725b5fc021",
            "max": 28751,
            "min": 0,
            "orientation": "horizontal",
            "style": "IPY_MODEL_25234c65c4214df6babbf9c5f0b9104b",
            "value": 28751
          }
        },
        "c8ab628127fd4dd798531ba481a1e235": {
          "model_module": "@jupyter-widgets/controls",
          "model_name": "HTMLModel",
          "model_module_version": "1.5.0",
          "state": {
            "_dom_classes": [],
            "_model_module": "@jupyter-widgets/controls",
            "_model_module_version": "1.5.0",
            "_model_name": "HTMLModel",
            "_view_count": null,
            "_view_module": "@jupyter-widgets/controls",
            "_view_module_version": "1.5.0",
            "_view_name": "HTMLView",
            "description": "",
            "description_tooltip": null,
            "layout": "IPY_MODEL_98667646b6594c1b99c79818d3d64fab",
            "placeholder": "​",
            "style": "IPY_MODEL_cc93114a6fbe40a7b758b31e790d8aaa",
            "value": " 28.8k/28.8k [00:00&lt;00:00, 1.21MB/s]"
          }
        },
        "434137d927a0477b86bbd463865b8896": {
          "model_module": "@jupyter-widgets/base",
          "model_name": "LayoutModel",
          "model_module_version": "1.2.0",
          "state": {
            "_model_module": "@jupyter-widgets/base",
            "_model_module_version": "1.2.0",
            "_model_name": "LayoutModel",
            "_view_count": null,
            "_view_module": "@jupyter-widgets/base",
            "_view_module_version": "1.2.0",
            "_view_name": "LayoutView",
            "align_content": null,
            "align_items": null,
            "align_self": null,
            "border": null,
            "bottom": null,
            "display": null,
            "flex": null,
            "flex_flow": null,
            "grid_area": null,
            "grid_auto_columns": null,
            "grid_auto_flow": null,
            "grid_auto_rows": null,
            "grid_column": null,
            "grid_gap": null,
            "grid_row": null,
            "grid_template_areas": null,
            "grid_template_columns": null,
            "grid_template_rows": null,
            "height": null,
            "justify_content": null,
            "justify_items": null,
            "left": null,
            "margin": null,
            "max_height": null,
            "max_width": null,
            "min_height": null,
            "min_width": null,
            "object_fit": null,
            "object_position": null,
            "order": null,
            "overflow": null,
            "overflow_x": null,
            "overflow_y": null,
            "padding": null,
            "right": null,
            "top": null,
            "visibility": null,
            "width": null
          }
        },
        "fd793493ee844af58ea9175752d641cb": {
          "model_module": "@jupyter-widgets/base",
          "model_name": "LayoutModel",
          "model_module_version": "1.2.0",
          "state": {
            "_model_module": "@jupyter-widgets/base",
            "_model_module_version": "1.2.0",
            "_model_name": "LayoutModel",
            "_view_count": null,
            "_view_module": "@jupyter-widgets/base",
            "_view_module_version": "1.2.0",
            "_view_name": "LayoutView",
            "align_content": null,
            "align_items": null,
            "align_self": null,
            "border": null,
            "bottom": null,
            "display": null,
            "flex": null,
            "flex_flow": null,
            "grid_area": null,
            "grid_auto_columns": null,
            "grid_auto_flow": null,
            "grid_auto_rows": null,
            "grid_column": null,
            "grid_gap": null,
            "grid_row": null,
            "grid_template_areas": null,
            "grid_template_columns": null,
            "grid_template_rows": null,
            "height": null,
            "justify_content": null,
            "justify_items": null,
            "left": null,
            "margin": null,
            "max_height": null,
            "max_width": null,
            "min_height": null,
            "min_width": null,
            "object_fit": null,
            "object_position": null,
            "order": null,
            "overflow": null,
            "overflow_x": null,
            "overflow_y": null,
            "padding": null,
            "right": null,
            "top": null,
            "visibility": null,
            "width": null
          }
        },
        "9876bb543a204477aa9e634b61f6c8a3": {
          "model_module": "@jupyter-widgets/controls",
          "model_name": "DescriptionStyleModel",
          "model_module_version": "1.5.0",
          "state": {
            "_model_module": "@jupyter-widgets/controls",
            "_model_module_version": "1.5.0",
            "_model_name": "DescriptionStyleModel",
            "_view_count": null,
            "_view_module": "@jupyter-widgets/base",
            "_view_module_version": "1.2.0",
            "_view_name": "StyleView",
            "description_width": ""
          }
        },
        "719f3178000643439fbc7b725b5fc021": {
          "model_module": "@jupyter-widgets/base",
          "model_name": "LayoutModel",
          "model_module_version": "1.2.0",
          "state": {
            "_model_module": "@jupyter-widgets/base",
            "_model_module_version": "1.2.0",
            "_model_name": "LayoutModel",
            "_view_count": null,
            "_view_module": "@jupyter-widgets/base",
            "_view_module_version": "1.2.0",
            "_view_name": "LayoutView",
            "align_content": null,
            "align_items": null,
            "align_self": null,
            "border": null,
            "bottom": null,
            "display": null,
            "flex": null,
            "flex_flow": null,
            "grid_area": null,
            "grid_auto_columns": null,
            "grid_auto_flow": null,
            "grid_auto_rows": null,
            "grid_column": null,
            "grid_gap": null,
            "grid_row": null,
            "grid_template_areas": null,
            "grid_template_columns": null,
            "grid_template_rows": null,
            "height": null,
            "justify_content": null,
            "justify_items": null,
            "left": null,
            "margin": null,
            "max_height": null,
            "max_width": null,
            "min_height": null,
            "min_width": null,
            "object_fit": null,
            "object_position": null,
            "order": null,
            "overflow": null,
            "overflow_x": null,
            "overflow_y": null,
            "padding": null,
            "right": null,
            "top": null,
            "visibility": null,
            "width": null
          }
        },
        "25234c65c4214df6babbf9c5f0b9104b": {
          "model_module": "@jupyter-widgets/controls",
          "model_name": "ProgressStyleModel",
          "model_module_version": "1.5.0",
          "state": {
            "_model_module": "@jupyter-widgets/controls",
            "_model_module_version": "1.5.0",
            "_model_name": "ProgressStyleModel",
            "_view_count": null,
            "_view_module": "@jupyter-widgets/base",
            "_view_module_version": "1.2.0",
            "_view_name": "StyleView",
            "bar_color": null,
            "description_width": ""
          }
        },
        "98667646b6594c1b99c79818d3d64fab": {
          "model_module": "@jupyter-widgets/base",
          "model_name": "LayoutModel",
          "model_module_version": "1.2.0",
          "state": {
            "_model_module": "@jupyter-widgets/base",
            "_model_module_version": "1.2.0",
            "_model_name": "LayoutModel",
            "_view_count": null,
            "_view_module": "@jupyter-widgets/base",
            "_view_module_version": "1.2.0",
            "_view_name": "LayoutView",
            "align_content": null,
            "align_items": null,
            "align_self": null,
            "border": null,
            "bottom": null,
            "display": null,
            "flex": null,
            "flex_flow": null,
            "grid_area": null,
            "grid_auto_columns": null,
            "grid_auto_flow": null,
            "grid_auto_rows": null,
            "grid_column": null,
            "grid_gap": null,
            "grid_row": null,
            "grid_template_areas": null,
            "grid_template_columns": null,
            "grid_template_rows": null,
            "height": null,
            "justify_content": null,
            "justify_items": null,
            "left": null,
            "margin": null,
            "max_height": null,
            "max_width": null,
            "min_height": null,
            "min_width": null,
            "object_fit": null,
            "object_position": null,
            "order": null,
            "overflow": null,
            "overflow_x": null,
            "overflow_y": null,
            "padding": null,
            "right": null,
            "top": null,
            "visibility": null,
            "width": null
          }
        },
        "cc93114a6fbe40a7b758b31e790d8aaa": {
          "model_module": "@jupyter-widgets/controls",
          "model_name": "DescriptionStyleModel",
          "model_module_version": "1.5.0",
          "state": {
            "_model_module": "@jupyter-widgets/controls",
            "_model_module_version": "1.5.0",
            "_model_name": "DescriptionStyleModel",
            "_view_count": null,
            "_view_module": "@jupyter-widgets/base",
            "_view_module_version": "1.2.0",
            "_view_name": "StyleView",
            "description_width": ""
          }
        },
        "4f3eebc258674552b2438cc94e11fa4c": {
          "model_module": "@jupyter-widgets/controls",
          "model_name": "HBoxModel",
          "model_module_version": "1.5.0",
          "state": {
            "_dom_classes": [],
            "_model_module": "@jupyter-widgets/controls",
            "_model_module_version": "1.5.0",
            "_model_name": "HBoxModel",
            "_view_count": null,
            "_view_module": "@jupyter-widgets/controls",
            "_view_module_version": "1.5.0",
            "_view_name": "HBoxView",
            "box_style": "",
            "children": [
              "IPY_MODEL_6fe51721a3fc4a00a9fd87723e50bd80",
              "IPY_MODEL_118b439eb7564900805d4d6adf7fec14",
              "IPY_MODEL_74bf27ae843d4a00bc2aab3c6cc0ca7e"
            ],
            "layout": "IPY_MODEL_2b224f475acc4ef795a52c7764704400"
          }
        },
        "6fe51721a3fc4a00a9fd87723e50bd80": {
          "model_module": "@jupyter-widgets/controls",
          "model_name": "HTMLModel",
          "model_module_version": "1.5.0",
          "state": {
            "_dom_classes": [],
            "_model_module": "@jupyter-widgets/controls",
            "_model_module_version": "1.5.0",
            "_model_name": "HTMLModel",
            "_view_count": null,
            "_view_module": "@jupyter-widgets/controls",
            "_view_module_version": "1.5.0",
            "_view_name": "HTMLView",
            "description": "",
            "description_tooltip": null,
            "layout": "IPY_MODEL_c9b91e8e86c5442786f116086739413e",
            "placeholder": "​",
            "style": "IPY_MODEL_7e83c6cdc7e646ad83d516f9a035695a",
            "value": "Downloading metadata: 100%"
          }
        },
        "118b439eb7564900805d4d6adf7fec14": {
          "model_module": "@jupyter-widgets/controls",
          "model_name": "FloatProgressModel",
          "model_module_version": "1.5.0",
          "state": {
            "_dom_classes": [],
            "_model_module": "@jupyter-widgets/controls",
            "_model_module_version": "1.5.0",
            "_model_name": "FloatProgressModel",
            "_view_count": null,
            "_view_module": "@jupyter-widgets/controls",
            "_view_module_version": "1.5.0",
            "_view_name": "ProgressView",
            "bar_style": "success",
            "description": "",
            "description_tooltip": null,
            "layout": "IPY_MODEL_0e8ffe81cd1840a48fc490f2dbf314cd",
            "max": 28682,
            "min": 0,
            "orientation": "horizontal",
            "style": "IPY_MODEL_6674c70c15f64964ac4c655727961992",
            "value": 28682
          }
        },
        "74bf27ae843d4a00bc2aab3c6cc0ca7e": {
          "model_module": "@jupyter-widgets/controls",
          "model_name": "HTMLModel",
          "model_module_version": "1.5.0",
          "state": {
            "_dom_classes": [],
            "_model_module": "@jupyter-widgets/controls",
            "_model_module_version": "1.5.0",
            "_model_name": "HTMLModel",
            "_view_count": null,
            "_view_module": "@jupyter-widgets/controls",
            "_view_module_version": "1.5.0",
            "_view_name": "HTMLView",
            "description": "",
            "description_tooltip": null,
            "layout": "IPY_MODEL_b887034abd8f42c5bbffd74576a4f41f",
            "placeholder": "​",
            "style": "IPY_MODEL_a3425d9575d440dcadccf39b76832918",
            "value": " 28.7k/28.7k [00:00&lt;00:00, 476kB/s]"
          }
        },
        "2b224f475acc4ef795a52c7764704400": {
          "model_module": "@jupyter-widgets/base",
          "model_name": "LayoutModel",
          "model_module_version": "1.2.0",
          "state": {
            "_model_module": "@jupyter-widgets/base",
            "_model_module_version": "1.2.0",
            "_model_name": "LayoutModel",
            "_view_count": null,
            "_view_module": "@jupyter-widgets/base",
            "_view_module_version": "1.2.0",
            "_view_name": "LayoutView",
            "align_content": null,
            "align_items": null,
            "align_self": null,
            "border": null,
            "bottom": null,
            "display": null,
            "flex": null,
            "flex_flow": null,
            "grid_area": null,
            "grid_auto_columns": null,
            "grid_auto_flow": null,
            "grid_auto_rows": null,
            "grid_column": null,
            "grid_gap": null,
            "grid_row": null,
            "grid_template_areas": null,
            "grid_template_columns": null,
            "grid_template_rows": null,
            "height": null,
            "justify_content": null,
            "justify_items": null,
            "left": null,
            "margin": null,
            "max_height": null,
            "max_width": null,
            "min_height": null,
            "min_width": null,
            "object_fit": null,
            "object_position": null,
            "order": null,
            "overflow": null,
            "overflow_x": null,
            "overflow_y": null,
            "padding": null,
            "right": null,
            "top": null,
            "visibility": null,
            "width": null
          }
        },
        "c9b91e8e86c5442786f116086739413e": {
          "model_module": "@jupyter-widgets/base",
          "model_name": "LayoutModel",
          "model_module_version": "1.2.0",
          "state": {
            "_model_module": "@jupyter-widgets/base",
            "_model_module_version": "1.2.0",
            "_model_name": "LayoutModel",
            "_view_count": null,
            "_view_module": "@jupyter-widgets/base",
            "_view_module_version": "1.2.0",
            "_view_name": "LayoutView",
            "align_content": null,
            "align_items": null,
            "align_self": null,
            "border": null,
            "bottom": null,
            "display": null,
            "flex": null,
            "flex_flow": null,
            "grid_area": null,
            "grid_auto_columns": null,
            "grid_auto_flow": null,
            "grid_auto_rows": null,
            "grid_column": null,
            "grid_gap": null,
            "grid_row": null,
            "grid_template_areas": null,
            "grid_template_columns": null,
            "grid_template_rows": null,
            "height": null,
            "justify_content": null,
            "justify_items": null,
            "left": null,
            "margin": null,
            "max_height": null,
            "max_width": null,
            "min_height": null,
            "min_width": null,
            "object_fit": null,
            "object_position": null,
            "order": null,
            "overflow": null,
            "overflow_x": null,
            "overflow_y": null,
            "padding": null,
            "right": null,
            "top": null,
            "visibility": null,
            "width": null
          }
        },
        "7e83c6cdc7e646ad83d516f9a035695a": {
          "model_module": "@jupyter-widgets/controls",
          "model_name": "DescriptionStyleModel",
          "model_module_version": "1.5.0",
          "state": {
            "_model_module": "@jupyter-widgets/controls",
            "_model_module_version": "1.5.0",
            "_model_name": "DescriptionStyleModel",
            "_view_count": null,
            "_view_module": "@jupyter-widgets/base",
            "_view_module_version": "1.2.0",
            "_view_name": "StyleView",
            "description_width": ""
          }
        },
        "0e8ffe81cd1840a48fc490f2dbf314cd": {
          "model_module": "@jupyter-widgets/base",
          "model_name": "LayoutModel",
          "model_module_version": "1.2.0",
          "state": {
            "_model_module": "@jupyter-widgets/base",
            "_model_module_version": "1.2.0",
            "_model_name": "LayoutModel",
            "_view_count": null,
            "_view_module": "@jupyter-widgets/base",
            "_view_module_version": "1.2.0",
            "_view_name": "LayoutView",
            "align_content": null,
            "align_items": null,
            "align_self": null,
            "border": null,
            "bottom": null,
            "display": null,
            "flex": null,
            "flex_flow": null,
            "grid_area": null,
            "grid_auto_columns": null,
            "grid_auto_flow": null,
            "grid_auto_rows": null,
            "grid_column": null,
            "grid_gap": null,
            "grid_row": null,
            "grid_template_areas": null,
            "grid_template_columns": null,
            "grid_template_rows": null,
            "height": null,
            "justify_content": null,
            "justify_items": null,
            "left": null,
            "margin": null,
            "max_height": null,
            "max_width": null,
            "min_height": null,
            "min_width": null,
            "object_fit": null,
            "object_position": null,
            "order": null,
            "overflow": null,
            "overflow_x": null,
            "overflow_y": null,
            "padding": null,
            "right": null,
            "top": null,
            "visibility": null,
            "width": null
          }
        },
        "6674c70c15f64964ac4c655727961992": {
          "model_module": "@jupyter-widgets/controls",
          "model_name": "ProgressStyleModel",
          "model_module_version": "1.5.0",
          "state": {
            "_model_module": "@jupyter-widgets/controls",
            "_model_module_version": "1.5.0",
            "_model_name": "ProgressStyleModel",
            "_view_count": null,
            "_view_module": "@jupyter-widgets/base",
            "_view_module_version": "1.2.0",
            "_view_name": "StyleView",
            "bar_color": null,
            "description_width": ""
          }
        },
        "b887034abd8f42c5bbffd74576a4f41f": {
          "model_module": "@jupyter-widgets/base",
          "model_name": "LayoutModel",
          "model_module_version": "1.2.0",
          "state": {
            "_model_module": "@jupyter-widgets/base",
            "_model_module_version": "1.2.0",
            "_model_name": "LayoutModel",
            "_view_count": null,
            "_view_module": "@jupyter-widgets/base",
            "_view_module_version": "1.2.0",
            "_view_name": "LayoutView",
            "align_content": null,
            "align_items": null,
            "align_self": null,
            "border": null,
            "bottom": null,
            "display": null,
            "flex": null,
            "flex_flow": null,
            "grid_area": null,
            "grid_auto_columns": null,
            "grid_auto_flow": null,
            "grid_auto_rows": null,
            "grid_column": null,
            "grid_gap": null,
            "grid_row": null,
            "grid_template_areas": null,
            "grid_template_columns": null,
            "grid_template_rows": null,
            "height": null,
            "justify_content": null,
            "justify_items": null,
            "left": null,
            "margin": null,
            "max_height": null,
            "max_width": null,
            "min_height": null,
            "min_width": null,
            "object_fit": null,
            "object_position": null,
            "order": null,
            "overflow": null,
            "overflow_x": null,
            "overflow_y": null,
            "padding": null,
            "right": null,
            "top": null,
            "visibility": null,
            "width": null
          }
        },
        "a3425d9575d440dcadccf39b76832918": {
          "model_module": "@jupyter-widgets/controls",
          "model_name": "DescriptionStyleModel",
          "model_module_version": "1.5.0",
          "state": {
            "_model_module": "@jupyter-widgets/controls",
            "_model_module_version": "1.5.0",
            "_model_name": "DescriptionStyleModel",
            "_view_count": null,
            "_view_module": "@jupyter-widgets/base",
            "_view_module_version": "1.2.0",
            "_view_name": "StyleView",
            "description_width": ""
          }
        },
        "4f646170afeb4444aff172b307ddc552": {
          "model_module": "@jupyter-widgets/controls",
          "model_name": "HBoxModel",
          "model_module_version": "1.5.0",
          "state": {
            "_dom_classes": [],
            "_model_module": "@jupyter-widgets/controls",
            "_model_module_version": "1.5.0",
            "_model_name": "HBoxModel",
            "_view_count": null,
            "_view_module": "@jupyter-widgets/controls",
            "_view_module_version": "1.5.0",
            "_view_name": "HBoxView",
            "box_style": "",
            "children": [
              "IPY_MODEL_a0e7571692bb42d5b65000800484b20b",
              "IPY_MODEL_243bce5d2f65458b8280720704e7ecb2",
              "IPY_MODEL_f8545fb7faeb42808b8f2fbdfb12c51d"
            ],
            "layout": "IPY_MODEL_f35f2fcf11d44793a030757f45c8a746"
          }
        },
        "a0e7571692bb42d5b65000800484b20b": {
          "model_module": "@jupyter-widgets/controls",
          "model_name": "HTMLModel",
          "model_module_version": "1.5.0",
          "state": {
            "_dom_classes": [],
            "_model_module": "@jupyter-widgets/controls",
            "_model_module_version": "1.5.0",
            "_model_name": "HTMLModel",
            "_view_count": null,
            "_view_module": "@jupyter-widgets/controls",
            "_view_module_version": "1.5.0",
            "_view_name": "HTMLView",
            "description": "",
            "description_tooltip": null,
            "layout": "IPY_MODEL_7f09326977d448dea888f79ebb1ff536",
            "placeholder": "​",
            "style": "IPY_MODEL_3ef3ace1b17e41c094d16403e9346373",
            "value": "Downloading readme: 100%"
          }
        },
        "243bce5d2f65458b8280720704e7ecb2": {
          "model_module": "@jupyter-widgets/controls",
          "model_name": "FloatProgressModel",
          "model_module_version": "1.5.0",
          "state": {
            "_dom_classes": [],
            "_model_module": "@jupyter-widgets/controls",
            "_model_module_version": "1.5.0",
            "_model_name": "FloatProgressModel",
            "_view_count": null,
            "_view_module": "@jupyter-widgets/controls",
            "_view_module_version": "1.5.0",
            "_view_name": "ProgressView",
            "bar_style": "success",
            "description": "",
            "description_tooltip": null,
            "layout": "IPY_MODEL_46b8886a2a434e94ba565174dfd93a1c",
            "max": 27887,
            "min": 0,
            "orientation": "horizontal",
            "style": "IPY_MODEL_309b0fdb17da4a71977a992ddf3cbffd",
            "value": 27887
          }
        },
        "f8545fb7faeb42808b8f2fbdfb12c51d": {
          "model_module": "@jupyter-widgets/controls",
          "model_name": "HTMLModel",
          "model_module_version": "1.5.0",
          "state": {
            "_dom_classes": [],
            "_model_module": "@jupyter-widgets/controls",
            "_model_module_version": "1.5.0",
            "_model_name": "HTMLModel",
            "_view_count": null,
            "_view_module": "@jupyter-widgets/controls",
            "_view_module_version": "1.5.0",
            "_view_name": "HTMLView",
            "description": "",
            "description_tooltip": null,
            "layout": "IPY_MODEL_20bb46c8cbc74aec8c7e0f94a68ad60f",
            "placeholder": "​",
            "style": "IPY_MODEL_da183dd85a3640d09fefb38ba16186b1",
            "value": " 27.9k/27.9k [00:00&lt;00:00, 1.11MB/s]"
          }
        },
        "f35f2fcf11d44793a030757f45c8a746": {
          "model_module": "@jupyter-widgets/base",
          "model_name": "LayoutModel",
          "model_module_version": "1.2.0",
          "state": {
            "_model_module": "@jupyter-widgets/base",
            "_model_module_version": "1.2.0",
            "_model_name": "LayoutModel",
            "_view_count": null,
            "_view_module": "@jupyter-widgets/base",
            "_view_module_version": "1.2.0",
            "_view_name": "LayoutView",
            "align_content": null,
            "align_items": null,
            "align_self": null,
            "border": null,
            "bottom": null,
            "display": null,
            "flex": null,
            "flex_flow": null,
            "grid_area": null,
            "grid_auto_columns": null,
            "grid_auto_flow": null,
            "grid_auto_rows": null,
            "grid_column": null,
            "grid_gap": null,
            "grid_row": null,
            "grid_template_areas": null,
            "grid_template_columns": null,
            "grid_template_rows": null,
            "height": null,
            "justify_content": null,
            "justify_items": null,
            "left": null,
            "margin": null,
            "max_height": null,
            "max_width": null,
            "min_height": null,
            "min_width": null,
            "object_fit": null,
            "object_position": null,
            "order": null,
            "overflow": null,
            "overflow_x": null,
            "overflow_y": null,
            "padding": null,
            "right": null,
            "top": null,
            "visibility": null,
            "width": null
          }
        },
        "7f09326977d448dea888f79ebb1ff536": {
          "model_module": "@jupyter-widgets/base",
          "model_name": "LayoutModel",
          "model_module_version": "1.2.0",
          "state": {
            "_model_module": "@jupyter-widgets/base",
            "_model_module_version": "1.2.0",
            "_model_name": "LayoutModel",
            "_view_count": null,
            "_view_module": "@jupyter-widgets/base",
            "_view_module_version": "1.2.0",
            "_view_name": "LayoutView",
            "align_content": null,
            "align_items": null,
            "align_self": null,
            "border": null,
            "bottom": null,
            "display": null,
            "flex": null,
            "flex_flow": null,
            "grid_area": null,
            "grid_auto_columns": null,
            "grid_auto_flow": null,
            "grid_auto_rows": null,
            "grid_column": null,
            "grid_gap": null,
            "grid_row": null,
            "grid_template_areas": null,
            "grid_template_columns": null,
            "grid_template_rows": null,
            "height": null,
            "justify_content": null,
            "justify_items": null,
            "left": null,
            "margin": null,
            "max_height": null,
            "max_width": null,
            "min_height": null,
            "min_width": null,
            "object_fit": null,
            "object_position": null,
            "order": null,
            "overflow": null,
            "overflow_x": null,
            "overflow_y": null,
            "padding": null,
            "right": null,
            "top": null,
            "visibility": null,
            "width": null
          }
        },
        "3ef3ace1b17e41c094d16403e9346373": {
          "model_module": "@jupyter-widgets/controls",
          "model_name": "DescriptionStyleModel",
          "model_module_version": "1.5.0",
          "state": {
            "_model_module": "@jupyter-widgets/controls",
            "_model_module_version": "1.5.0",
            "_model_name": "DescriptionStyleModel",
            "_view_count": null,
            "_view_module": "@jupyter-widgets/base",
            "_view_module_version": "1.2.0",
            "_view_name": "StyleView",
            "description_width": ""
          }
        },
        "46b8886a2a434e94ba565174dfd93a1c": {
          "model_module": "@jupyter-widgets/base",
          "model_name": "LayoutModel",
          "model_module_version": "1.2.0",
          "state": {
            "_model_module": "@jupyter-widgets/base",
            "_model_module_version": "1.2.0",
            "_model_name": "LayoutModel",
            "_view_count": null,
            "_view_module": "@jupyter-widgets/base",
            "_view_module_version": "1.2.0",
            "_view_name": "LayoutView",
            "align_content": null,
            "align_items": null,
            "align_self": null,
            "border": null,
            "bottom": null,
            "display": null,
            "flex": null,
            "flex_flow": null,
            "grid_area": null,
            "grid_auto_columns": null,
            "grid_auto_flow": null,
            "grid_auto_rows": null,
            "grid_column": null,
            "grid_gap": null,
            "grid_row": null,
            "grid_template_areas": null,
            "grid_template_columns": null,
            "grid_template_rows": null,
            "height": null,
            "justify_content": null,
            "justify_items": null,
            "left": null,
            "margin": null,
            "max_height": null,
            "max_width": null,
            "min_height": null,
            "min_width": null,
            "object_fit": null,
            "object_position": null,
            "order": null,
            "overflow": null,
            "overflow_x": null,
            "overflow_y": null,
            "padding": null,
            "right": null,
            "top": null,
            "visibility": null,
            "width": null
          }
        },
        "309b0fdb17da4a71977a992ddf3cbffd": {
          "model_module": "@jupyter-widgets/controls",
          "model_name": "ProgressStyleModel",
          "model_module_version": "1.5.0",
          "state": {
            "_model_module": "@jupyter-widgets/controls",
            "_model_module_version": "1.5.0",
            "_model_name": "ProgressStyleModel",
            "_view_count": null,
            "_view_module": "@jupyter-widgets/base",
            "_view_module_version": "1.2.0",
            "_view_name": "StyleView",
            "bar_color": null,
            "description_width": ""
          }
        },
        "20bb46c8cbc74aec8c7e0f94a68ad60f": {
          "model_module": "@jupyter-widgets/base",
          "model_name": "LayoutModel",
          "model_module_version": "1.2.0",
          "state": {
            "_model_module": "@jupyter-widgets/base",
            "_model_module_version": "1.2.0",
            "_model_name": "LayoutModel",
            "_view_count": null,
            "_view_module": "@jupyter-widgets/base",
            "_view_module_version": "1.2.0",
            "_view_name": "LayoutView",
            "align_content": null,
            "align_items": null,
            "align_self": null,
            "border": null,
            "bottom": null,
            "display": null,
            "flex": null,
            "flex_flow": null,
            "grid_area": null,
            "grid_auto_columns": null,
            "grid_auto_flow": null,
            "grid_auto_rows": null,
            "grid_column": null,
            "grid_gap": null,
            "grid_row": null,
            "grid_template_areas": null,
            "grid_template_columns": null,
            "grid_template_rows": null,
            "height": null,
            "justify_content": null,
            "justify_items": null,
            "left": null,
            "margin": null,
            "max_height": null,
            "max_width": null,
            "min_height": null,
            "min_width": null,
            "object_fit": null,
            "object_position": null,
            "order": null,
            "overflow": null,
            "overflow_x": null,
            "overflow_y": null,
            "padding": null,
            "right": null,
            "top": null,
            "visibility": null,
            "width": null
          }
        },
        "da183dd85a3640d09fefb38ba16186b1": {
          "model_module": "@jupyter-widgets/controls",
          "model_name": "DescriptionStyleModel",
          "model_module_version": "1.5.0",
          "state": {
            "_model_module": "@jupyter-widgets/controls",
            "_model_module_version": "1.5.0",
            "_model_name": "DescriptionStyleModel",
            "_view_count": null,
            "_view_module": "@jupyter-widgets/base",
            "_view_module_version": "1.2.0",
            "_view_name": "StyleView",
            "description_width": ""
          }
        },
        "6b656a6c68844b9cbd91cf84d23238f9": {
          "model_module": "@jupyter-widgets/controls",
          "model_name": "HBoxModel",
          "model_module_version": "1.5.0",
          "state": {
            "_dom_classes": [],
            "_model_module": "@jupyter-widgets/controls",
            "_model_module_version": "1.5.0",
            "_model_name": "HBoxModel",
            "_view_count": null,
            "_view_module": "@jupyter-widgets/controls",
            "_view_module_version": "1.5.0",
            "_view_name": "HBoxView",
            "box_style": "",
            "children": [
              "IPY_MODEL_49ed70de38874c149eeeed1c188ff661",
              "IPY_MODEL_1304f788a3ad4200834d7195cefa68b0",
              "IPY_MODEL_7ca6e0f286634c5fbfc897fd4bfc3b9d"
            ],
            "layout": "IPY_MODEL_9743d286e94e45959173af95afa3a0b3"
          }
        },
        "49ed70de38874c149eeeed1c188ff661": {
          "model_module": "@jupyter-widgets/controls",
          "model_name": "HTMLModel",
          "model_module_version": "1.5.0",
          "state": {
            "_dom_classes": [],
            "_model_module": "@jupyter-widgets/controls",
            "_model_module_version": "1.5.0",
            "_model_name": "HTMLModel",
            "_view_count": null,
            "_view_module": "@jupyter-widgets/controls",
            "_view_module_version": "1.5.0",
            "_view_name": "HTMLView",
            "description": "",
            "description_tooltip": null,
            "layout": "IPY_MODEL_adee257c49374377a7ba87dc4f1badb9",
            "placeholder": "​",
            "style": "IPY_MODEL_f7f9d195b0f94c778673fde143d388b8",
            "value": "Downloading data: 100%"
          }
        },
        "1304f788a3ad4200834d7195cefa68b0": {
          "model_module": "@jupyter-widgets/controls",
          "model_name": "FloatProgressModel",
          "model_module_version": "1.5.0",
          "state": {
            "_dom_classes": [],
            "_model_module": "@jupyter-widgets/controls",
            "_model_module_version": "1.5.0",
            "_model_name": "FloatProgressModel",
            "_view_count": null,
            "_view_module": "@jupyter-widgets/controls",
            "_view_module_version": "1.5.0",
            "_view_name": "ProgressView",
            "bar_style": "success",
            "description": "",
            "description_tooltip": null,
            "layout": "IPY_MODEL_ae55f1e81ce840d6bb31cd69495b3beb",
            "max": 7439277,
            "min": 0,
            "orientation": "horizontal",
            "style": "IPY_MODEL_c6402f2fc7d54190a173c0316b850c18",
            "value": 7439277
          }
        },
        "7ca6e0f286634c5fbfc897fd4bfc3b9d": {
          "model_module": "@jupyter-widgets/controls",
          "model_name": "HTMLModel",
          "model_module_version": "1.5.0",
          "state": {
            "_dom_classes": [],
            "_model_module": "@jupyter-widgets/controls",
            "_model_module_version": "1.5.0",
            "_model_name": "HTMLModel",
            "_view_count": null,
            "_view_module": "@jupyter-widgets/controls",
            "_view_module_version": "1.5.0",
            "_view_name": "HTMLView",
            "description": "",
            "description_tooltip": null,
            "layout": "IPY_MODEL_9f696218330b48029ea25c1288a87774",
            "placeholder": "​",
            "style": "IPY_MODEL_e63be4aa246e4e6a81a921fbc06a8486",
            "value": " 7.44M/7.44M [00:00&lt;00:00, 14.7MB/s]"
          }
        },
        "9743d286e94e45959173af95afa3a0b3": {
          "model_module": "@jupyter-widgets/base",
          "model_name": "LayoutModel",
          "model_module_version": "1.2.0",
          "state": {
            "_model_module": "@jupyter-widgets/base",
            "_model_module_version": "1.2.0",
            "_model_name": "LayoutModel",
            "_view_count": null,
            "_view_module": "@jupyter-widgets/base",
            "_view_module_version": "1.2.0",
            "_view_name": "LayoutView",
            "align_content": null,
            "align_items": null,
            "align_self": null,
            "border": null,
            "bottom": null,
            "display": null,
            "flex": null,
            "flex_flow": null,
            "grid_area": null,
            "grid_auto_columns": null,
            "grid_auto_flow": null,
            "grid_auto_rows": null,
            "grid_column": null,
            "grid_gap": null,
            "grid_row": null,
            "grid_template_areas": null,
            "grid_template_columns": null,
            "grid_template_rows": null,
            "height": null,
            "justify_content": null,
            "justify_items": null,
            "left": null,
            "margin": null,
            "max_height": null,
            "max_width": null,
            "min_height": null,
            "min_width": null,
            "object_fit": null,
            "object_position": null,
            "order": null,
            "overflow": null,
            "overflow_x": null,
            "overflow_y": null,
            "padding": null,
            "right": null,
            "top": null,
            "visibility": null,
            "width": null
          }
        },
        "adee257c49374377a7ba87dc4f1badb9": {
          "model_module": "@jupyter-widgets/base",
          "model_name": "LayoutModel",
          "model_module_version": "1.2.0",
          "state": {
            "_model_module": "@jupyter-widgets/base",
            "_model_module_version": "1.2.0",
            "_model_name": "LayoutModel",
            "_view_count": null,
            "_view_module": "@jupyter-widgets/base",
            "_view_module_version": "1.2.0",
            "_view_name": "LayoutView",
            "align_content": null,
            "align_items": null,
            "align_self": null,
            "border": null,
            "bottom": null,
            "display": null,
            "flex": null,
            "flex_flow": null,
            "grid_area": null,
            "grid_auto_columns": null,
            "grid_auto_flow": null,
            "grid_auto_rows": null,
            "grid_column": null,
            "grid_gap": null,
            "grid_row": null,
            "grid_template_areas": null,
            "grid_template_columns": null,
            "grid_template_rows": null,
            "height": null,
            "justify_content": null,
            "justify_items": null,
            "left": null,
            "margin": null,
            "max_height": null,
            "max_width": null,
            "min_height": null,
            "min_width": null,
            "object_fit": null,
            "object_position": null,
            "order": null,
            "overflow": null,
            "overflow_x": null,
            "overflow_y": null,
            "padding": null,
            "right": null,
            "top": null,
            "visibility": null,
            "width": null
          }
        },
        "f7f9d195b0f94c778673fde143d388b8": {
          "model_module": "@jupyter-widgets/controls",
          "model_name": "DescriptionStyleModel",
          "model_module_version": "1.5.0",
          "state": {
            "_model_module": "@jupyter-widgets/controls",
            "_model_module_version": "1.5.0",
            "_model_name": "DescriptionStyleModel",
            "_view_count": null,
            "_view_module": "@jupyter-widgets/base",
            "_view_module_version": "1.2.0",
            "_view_name": "StyleView",
            "description_width": ""
          }
        },
        "ae55f1e81ce840d6bb31cd69495b3beb": {
          "model_module": "@jupyter-widgets/base",
          "model_name": "LayoutModel",
          "model_module_version": "1.2.0",
          "state": {
            "_model_module": "@jupyter-widgets/base",
            "_model_module_version": "1.2.0",
            "_model_name": "LayoutModel",
            "_view_count": null,
            "_view_module": "@jupyter-widgets/base",
            "_view_module_version": "1.2.0",
            "_view_name": "LayoutView",
            "align_content": null,
            "align_items": null,
            "align_self": null,
            "border": null,
            "bottom": null,
            "display": null,
            "flex": null,
            "flex_flow": null,
            "grid_area": null,
            "grid_auto_columns": null,
            "grid_auto_flow": null,
            "grid_auto_rows": null,
            "grid_column": null,
            "grid_gap": null,
            "grid_row": null,
            "grid_template_areas": null,
            "grid_template_columns": null,
            "grid_template_rows": null,
            "height": null,
            "justify_content": null,
            "justify_items": null,
            "left": null,
            "margin": null,
            "max_height": null,
            "max_width": null,
            "min_height": null,
            "min_width": null,
            "object_fit": null,
            "object_position": null,
            "order": null,
            "overflow": null,
            "overflow_x": null,
            "overflow_y": null,
            "padding": null,
            "right": null,
            "top": null,
            "visibility": null,
            "width": null
          }
        },
        "c6402f2fc7d54190a173c0316b850c18": {
          "model_module": "@jupyter-widgets/controls",
          "model_name": "ProgressStyleModel",
          "model_module_version": "1.5.0",
          "state": {
            "_model_module": "@jupyter-widgets/controls",
            "_model_module_version": "1.5.0",
            "_model_name": "ProgressStyleModel",
            "_view_count": null,
            "_view_module": "@jupyter-widgets/base",
            "_view_module_version": "1.2.0",
            "_view_name": "StyleView",
            "bar_color": null,
            "description_width": ""
          }
        },
        "9f696218330b48029ea25c1288a87774": {
          "model_module": "@jupyter-widgets/base",
          "model_name": "LayoutModel",
          "model_module_version": "1.2.0",
          "state": {
            "_model_module": "@jupyter-widgets/base",
            "_model_module_version": "1.2.0",
            "_model_name": "LayoutModel",
            "_view_count": null,
            "_view_module": "@jupyter-widgets/base",
            "_view_module_version": "1.2.0",
            "_view_name": "LayoutView",
            "align_content": null,
            "align_items": null,
            "align_self": null,
            "border": null,
            "bottom": null,
            "display": null,
            "flex": null,
            "flex_flow": null,
            "grid_area": null,
            "grid_auto_columns": null,
            "grid_auto_flow": null,
            "grid_auto_rows": null,
            "grid_column": null,
            "grid_gap": null,
            "grid_row": null,
            "grid_template_areas": null,
            "grid_template_columns": null,
            "grid_template_rows": null,
            "height": null,
            "justify_content": null,
            "justify_items": null,
            "left": null,
            "margin": null,
            "max_height": null,
            "max_width": null,
            "min_height": null,
            "min_width": null,
            "object_fit": null,
            "object_position": null,
            "order": null,
            "overflow": null,
            "overflow_x": null,
            "overflow_y": null,
            "padding": null,
            "right": null,
            "top": null,
            "visibility": null,
            "width": null
          }
        },
        "e63be4aa246e4e6a81a921fbc06a8486": {
          "model_module": "@jupyter-widgets/controls",
          "model_name": "DescriptionStyleModel",
          "model_module_version": "1.5.0",
          "state": {
            "_model_module": "@jupyter-widgets/controls",
            "_model_module_version": "1.5.0",
            "_model_name": "DescriptionStyleModel",
            "_view_count": null,
            "_view_module": "@jupyter-widgets/base",
            "_view_module_version": "1.2.0",
            "_view_name": "StyleView",
            "description_width": ""
          }
        },
        "26beb917070b420195cfa7d2f5d94c46": {
          "model_module": "@jupyter-widgets/controls",
          "model_name": "HBoxModel",
          "model_module_version": "1.5.0",
          "state": {
            "_dom_classes": [],
            "_model_module": "@jupyter-widgets/controls",
            "_model_module_version": "1.5.0",
            "_model_name": "HBoxModel",
            "_view_count": null,
            "_view_module": "@jupyter-widgets/controls",
            "_view_module_version": "1.5.0",
            "_view_name": "HBoxView",
            "box_style": "",
            "children": [
              "IPY_MODEL_50e4afeee01f4b1d8b9aaad2afb4f195",
              "IPY_MODEL_0fd7377cc08b400894ff30bcf0f957c8",
              "IPY_MODEL_9e69a7a93c724e87b594e315e1dc552d"
            ],
            "layout": "IPY_MODEL_e93ff22f51274e52881f228a635f04a6"
          }
        },
        "50e4afeee01f4b1d8b9aaad2afb4f195": {
          "model_module": "@jupyter-widgets/controls",
          "model_name": "HTMLModel",
          "model_module_version": "1.5.0",
          "state": {
            "_dom_classes": [],
            "_model_module": "@jupyter-widgets/controls",
            "_model_module_version": "1.5.0",
            "_model_name": "HTMLModel",
            "_view_count": null,
            "_view_module": "@jupyter-widgets/controls",
            "_view_module_version": "1.5.0",
            "_view_name": "HTMLView",
            "description": "",
            "description_tooltip": null,
            "layout": "IPY_MODEL_6501c22c7b374d10a2ea0cdd08e586ec",
            "placeholder": "​",
            "style": "IPY_MODEL_26e5ffcf271e4174be440f7f177865c0",
            "value": "Generating train split: 100%"
          }
        },
        "0fd7377cc08b400894ff30bcf0f957c8": {
          "model_module": "@jupyter-widgets/controls",
          "model_name": "FloatProgressModel",
          "model_module_version": "1.5.0",
          "state": {
            "_dom_classes": [],
            "_model_module": "@jupyter-widgets/controls",
            "_model_module_version": "1.5.0",
            "_model_name": "FloatProgressModel",
            "_view_count": null,
            "_view_module": "@jupyter-widgets/controls",
            "_view_module_version": "1.5.0",
            "_view_name": "ProgressView",
            "bar_style": "success",
            "description": "",
            "description_tooltip": null,
            "layout": "IPY_MODEL_efab52fb5703425994280e4187272a4f",
            "max": 67349,
            "min": 0,
            "orientation": "horizontal",
            "style": "IPY_MODEL_9ef1f24944104da8904bd919c5f42944",
            "value": 67349
          }
        },
        "9e69a7a93c724e87b594e315e1dc552d": {
          "model_module": "@jupyter-widgets/controls",
          "model_name": "HTMLModel",
          "model_module_version": "1.5.0",
          "state": {
            "_dom_classes": [],
            "_model_module": "@jupyter-widgets/controls",
            "_model_module_version": "1.5.0",
            "_model_name": "HTMLModel",
            "_view_count": null,
            "_view_module": "@jupyter-widgets/controls",
            "_view_module_version": "1.5.0",
            "_view_name": "HTMLView",
            "description": "",
            "description_tooltip": null,
            "layout": "IPY_MODEL_b74e5e8da6e7448f972ed4e7042b3e28",
            "placeholder": "​",
            "style": "IPY_MODEL_9bf76deb967d4bef869e6d74767b2520",
            "value": " 67349/67349 [00:06&lt;00:00, 13037.47 examples/s]"
          }
        },
        "e93ff22f51274e52881f228a635f04a6": {
          "model_module": "@jupyter-widgets/base",
          "model_name": "LayoutModel",
          "model_module_version": "1.2.0",
          "state": {
            "_model_module": "@jupyter-widgets/base",
            "_model_module_version": "1.2.0",
            "_model_name": "LayoutModel",
            "_view_count": null,
            "_view_module": "@jupyter-widgets/base",
            "_view_module_version": "1.2.0",
            "_view_name": "LayoutView",
            "align_content": null,
            "align_items": null,
            "align_self": null,
            "border": null,
            "bottom": null,
            "display": null,
            "flex": null,
            "flex_flow": null,
            "grid_area": null,
            "grid_auto_columns": null,
            "grid_auto_flow": null,
            "grid_auto_rows": null,
            "grid_column": null,
            "grid_gap": null,
            "grid_row": null,
            "grid_template_areas": null,
            "grid_template_columns": null,
            "grid_template_rows": null,
            "height": null,
            "justify_content": null,
            "justify_items": null,
            "left": null,
            "margin": null,
            "max_height": null,
            "max_width": null,
            "min_height": null,
            "min_width": null,
            "object_fit": null,
            "object_position": null,
            "order": null,
            "overflow": null,
            "overflow_x": null,
            "overflow_y": null,
            "padding": null,
            "right": null,
            "top": null,
            "visibility": null,
            "width": null
          }
        },
        "6501c22c7b374d10a2ea0cdd08e586ec": {
          "model_module": "@jupyter-widgets/base",
          "model_name": "LayoutModel",
          "model_module_version": "1.2.0",
          "state": {
            "_model_module": "@jupyter-widgets/base",
            "_model_module_version": "1.2.0",
            "_model_name": "LayoutModel",
            "_view_count": null,
            "_view_module": "@jupyter-widgets/base",
            "_view_module_version": "1.2.0",
            "_view_name": "LayoutView",
            "align_content": null,
            "align_items": null,
            "align_self": null,
            "border": null,
            "bottom": null,
            "display": null,
            "flex": null,
            "flex_flow": null,
            "grid_area": null,
            "grid_auto_columns": null,
            "grid_auto_flow": null,
            "grid_auto_rows": null,
            "grid_column": null,
            "grid_gap": null,
            "grid_row": null,
            "grid_template_areas": null,
            "grid_template_columns": null,
            "grid_template_rows": null,
            "height": null,
            "justify_content": null,
            "justify_items": null,
            "left": null,
            "margin": null,
            "max_height": null,
            "max_width": null,
            "min_height": null,
            "min_width": null,
            "object_fit": null,
            "object_position": null,
            "order": null,
            "overflow": null,
            "overflow_x": null,
            "overflow_y": null,
            "padding": null,
            "right": null,
            "top": null,
            "visibility": null,
            "width": null
          }
        },
        "26e5ffcf271e4174be440f7f177865c0": {
          "model_module": "@jupyter-widgets/controls",
          "model_name": "DescriptionStyleModel",
          "model_module_version": "1.5.0",
          "state": {
            "_model_module": "@jupyter-widgets/controls",
            "_model_module_version": "1.5.0",
            "_model_name": "DescriptionStyleModel",
            "_view_count": null,
            "_view_module": "@jupyter-widgets/base",
            "_view_module_version": "1.2.0",
            "_view_name": "StyleView",
            "description_width": ""
          }
        },
        "efab52fb5703425994280e4187272a4f": {
          "model_module": "@jupyter-widgets/base",
          "model_name": "LayoutModel",
          "model_module_version": "1.2.0",
          "state": {
            "_model_module": "@jupyter-widgets/base",
            "_model_module_version": "1.2.0",
            "_model_name": "LayoutModel",
            "_view_count": null,
            "_view_module": "@jupyter-widgets/base",
            "_view_module_version": "1.2.0",
            "_view_name": "LayoutView",
            "align_content": null,
            "align_items": null,
            "align_self": null,
            "border": null,
            "bottom": null,
            "display": null,
            "flex": null,
            "flex_flow": null,
            "grid_area": null,
            "grid_auto_columns": null,
            "grid_auto_flow": null,
            "grid_auto_rows": null,
            "grid_column": null,
            "grid_gap": null,
            "grid_row": null,
            "grid_template_areas": null,
            "grid_template_columns": null,
            "grid_template_rows": null,
            "height": null,
            "justify_content": null,
            "justify_items": null,
            "left": null,
            "margin": null,
            "max_height": null,
            "max_width": null,
            "min_height": null,
            "min_width": null,
            "object_fit": null,
            "object_position": null,
            "order": null,
            "overflow": null,
            "overflow_x": null,
            "overflow_y": null,
            "padding": null,
            "right": null,
            "top": null,
            "visibility": null,
            "width": null
          }
        },
        "9ef1f24944104da8904bd919c5f42944": {
          "model_module": "@jupyter-widgets/controls",
          "model_name": "ProgressStyleModel",
          "model_module_version": "1.5.0",
          "state": {
            "_model_module": "@jupyter-widgets/controls",
            "_model_module_version": "1.5.0",
            "_model_name": "ProgressStyleModel",
            "_view_count": null,
            "_view_module": "@jupyter-widgets/base",
            "_view_module_version": "1.2.0",
            "_view_name": "StyleView",
            "bar_color": null,
            "description_width": ""
          }
        },
        "b74e5e8da6e7448f972ed4e7042b3e28": {
          "model_module": "@jupyter-widgets/base",
          "model_name": "LayoutModel",
          "model_module_version": "1.2.0",
          "state": {
            "_model_module": "@jupyter-widgets/base",
            "_model_module_version": "1.2.0",
            "_model_name": "LayoutModel",
            "_view_count": null,
            "_view_module": "@jupyter-widgets/base",
            "_view_module_version": "1.2.0",
            "_view_name": "LayoutView",
            "align_content": null,
            "align_items": null,
            "align_self": null,
            "border": null,
            "bottom": null,
            "display": null,
            "flex": null,
            "flex_flow": null,
            "grid_area": null,
            "grid_auto_columns": null,
            "grid_auto_flow": null,
            "grid_auto_rows": null,
            "grid_column": null,
            "grid_gap": null,
            "grid_row": null,
            "grid_template_areas": null,
            "grid_template_columns": null,
            "grid_template_rows": null,
            "height": null,
            "justify_content": null,
            "justify_items": null,
            "left": null,
            "margin": null,
            "max_height": null,
            "max_width": null,
            "min_height": null,
            "min_width": null,
            "object_fit": null,
            "object_position": null,
            "order": null,
            "overflow": null,
            "overflow_x": null,
            "overflow_y": null,
            "padding": null,
            "right": null,
            "top": null,
            "visibility": null,
            "width": null
          }
        },
        "9bf76deb967d4bef869e6d74767b2520": {
          "model_module": "@jupyter-widgets/controls",
          "model_name": "DescriptionStyleModel",
          "model_module_version": "1.5.0",
          "state": {
            "_model_module": "@jupyter-widgets/controls",
            "_model_module_version": "1.5.0",
            "_model_name": "DescriptionStyleModel",
            "_view_count": null,
            "_view_module": "@jupyter-widgets/base",
            "_view_module_version": "1.2.0",
            "_view_name": "StyleView",
            "description_width": ""
          }
        },
        "81ca4dc388794799842fd0842046581d": {
          "model_module": "@jupyter-widgets/controls",
          "model_name": "HBoxModel",
          "model_module_version": "1.5.0",
          "state": {
            "_dom_classes": [],
            "_model_module": "@jupyter-widgets/controls",
            "_model_module_version": "1.5.0",
            "_model_name": "HBoxModel",
            "_view_count": null,
            "_view_module": "@jupyter-widgets/controls",
            "_view_module_version": "1.5.0",
            "_view_name": "HBoxView",
            "box_style": "",
            "children": [
              "IPY_MODEL_28cddfc1a55444d8bc1a5c54c15e275f",
              "IPY_MODEL_387b7229b6d0458da505dfdbd2600366",
              "IPY_MODEL_580356f13aed43369753b22dcbdd0c23"
            ],
            "layout": "IPY_MODEL_2a28bf8a14094d289b071ac4df359242"
          }
        },
        "28cddfc1a55444d8bc1a5c54c15e275f": {
          "model_module": "@jupyter-widgets/controls",
          "model_name": "HTMLModel",
          "model_module_version": "1.5.0",
          "state": {
            "_dom_classes": [],
            "_model_module": "@jupyter-widgets/controls",
            "_model_module_version": "1.5.0",
            "_model_name": "HTMLModel",
            "_view_count": null,
            "_view_module": "@jupyter-widgets/controls",
            "_view_module_version": "1.5.0",
            "_view_name": "HTMLView",
            "description": "",
            "description_tooltip": null,
            "layout": "IPY_MODEL_5210ac6eb27140e2b68ae2bcba05de90",
            "placeholder": "​",
            "style": "IPY_MODEL_706dff5c682d47e8b62153707216f454",
            "value": "Generating validation split: 100%"
          }
        },
        "387b7229b6d0458da505dfdbd2600366": {
          "model_module": "@jupyter-widgets/controls",
          "model_name": "FloatProgressModel",
          "model_module_version": "1.5.0",
          "state": {
            "_dom_classes": [],
            "_model_module": "@jupyter-widgets/controls",
            "_model_module_version": "1.5.0",
            "_model_name": "FloatProgressModel",
            "_view_count": null,
            "_view_module": "@jupyter-widgets/controls",
            "_view_module_version": "1.5.0",
            "_view_name": "ProgressView",
            "bar_style": "success",
            "description": "",
            "description_tooltip": null,
            "layout": "IPY_MODEL_c9cee0767474416dbafdbc4ff57a3947",
            "max": 872,
            "min": 0,
            "orientation": "horizontal",
            "style": "IPY_MODEL_a2a64426a42b4eabb775a7d083218584",
            "value": 872
          }
        },
        "580356f13aed43369753b22dcbdd0c23": {
          "model_module": "@jupyter-widgets/controls",
          "model_name": "HTMLModel",
          "model_module_version": "1.5.0",
          "state": {
            "_dom_classes": [],
            "_model_module": "@jupyter-widgets/controls",
            "_model_module_version": "1.5.0",
            "_model_name": "HTMLModel",
            "_view_count": null,
            "_view_module": "@jupyter-widgets/controls",
            "_view_module_version": "1.5.0",
            "_view_name": "HTMLView",
            "description": "",
            "description_tooltip": null,
            "layout": "IPY_MODEL_a3854cc104504a8796a12ba128c55925",
            "placeholder": "​",
            "style": "IPY_MODEL_7deb81e001584a278c2ad084130652b9",
            "value": " 872/872 [00:00&lt;00:00, 8711.02 examples/s]"
          }
        },
        "2a28bf8a14094d289b071ac4df359242": {
          "model_module": "@jupyter-widgets/base",
          "model_name": "LayoutModel",
          "model_module_version": "1.2.0",
          "state": {
            "_model_module": "@jupyter-widgets/base",
            "_model_module_version": "1.2.0",
            "_model_name": "LayoutModel",
            "_view_count": null,
            "_view_module": "@jupyter-widgets/base",
            "_view_module_version": "1.2.0",
            "_view_name": "LayoutView",
            "align_content": null,
            "align_items": null,
            "align_self": null,
            "border": null,
            "bottom": null,
            "display": null,
            "flex": null,
            "flex_flow": null,
            "grid_area": null,
            "grid_auto_columns": null,
            "grid_auto_flow": null,
            "grid_auto_rows": null,
            "grid_column": null,
            "grid_gap": null,
            "grid_row": null,
            "grid_template_areas": null,
            "grid_template_columns": null,
            "grid_template_rows": null,
            "height": null,
            "justify_content": null,
            "justify_items": null,
            "left": null,
            "margin": null,
            "max_height": null,
            "max_width": null,
            "min_height": null,
            "min_width": null,
            "object_fit": null,
            "object_position": null,
            "order": null,
            "overflow": null,
            "overflow_x": null,
            "overflow_y": null,
            "padding": null,
            "right": null,
            "top": null,
            "visibility": null,
            "width": null
          }
        },
        "5210ac6eb27140e2b68ae2bcba05de90": {
          "model_module": "@jupyter-widgets/base",
          "model_name": "LayoutModel",
          "model_module_version": "1.2.0",
          "state": {
            "_model_module": "@jupyter-widgets/base",
            "_model_module_version": "1.2.0",
            "_model_name": "LayoutModel",
            "_view_count": null,
            "_view_module": "@jupyter-widgets/base",
            "_view_module_version": "1.2.0",
            "_view_name": "LayoutView",
            "align_content": null,
            "align_items": null,
            "align_self": null,
            "border": null,
            "bottom": null,
            "display": null,
            "flex": null,
            "flex_flow": null,
            "grid_area": null,
            "grid_auto_columns": null,
            "grid_auto_flow": null,
            "grid_auto_rows": null,
            "grid_column": null,
            "grid_gap": null,
            "grid_row": null,
            "grid_template_areas": null,
            "grid_template_columns": null,
            "grid_template_rows": null,
            "height": null,
            "justify_content": null,
            "justify_items": null,
            "left": null,
            "margin": null,
            "max_height": null,
            "max_width": null,
            "min_height": null,
            "min_width": null,
            "object_fit": null,
            "object_position": null,
            "order": null,
            "overflow": null,
            "overflow_x": null,
            "overflow_y": null,
            "padding": null,
            "right": null,
            "top": null,
            "visibility": null,
            "width": null
          }
        },
        "706dff5c682d47e8b62153707216f454": {
          "model_module": "@jupyter-widgets/controls",
          "model_name": "DescriptionStyleModel",
          "model_module_version": "1.5.0",
          "state": {
            "_model_module": "@jupyter-widgets/controls",
            "_model_module_version": "1.5.0",
            "_model_name": "DescriptionStyleModel",
            "_view_count": null,
            "_view_module": "@jupyter-widgets/base",
            "_view_module_version": "1.2.0",
            "_view_name": "StyleView",
            "description_width": ""
          }
        },
        "c9cee0767474416dbafdbc4ff57a3947": {
          "model_module": "@jupyter-widgets/base",
          "model_name": "LayoutModel",
          "model_module_version": "1.2.0",
          "state": {
            "_model_module": "@jupyter-widgets/base",
            "_model_module_version": "1.2.0",
            "_model_name": "LayoutModel",
            "_view_count": null,
            "_view_module": "@jupyter-widgets/base",
            "_view_module_version": "1.2.0",
            "_view_name": "LayoutView",
            "align_content": null,
            "align_items": null,
            "align_self": null,
            "border": null,
            "bottom": null,
            "display": null,
            "flex": null,
            "flex_flow": null,
            "grid_area": null,
            "grid_auto_columns": null,
            "grid_auto_flow": null,
            "grid_auto_rows": null,
            "grid_column": null,
            "grid_gap": null,
            "grid_row": null,
            "grid_template_areas": null,
            "grid_template_columns": null,
            "grid_template_rows": null,
            "height": null,
            "justify_content": null,
            "justify_items": null,
            "left": null,
            "margin": null,
            "max_height": null,
            "max_width": null,
            "min_height": null,
            "min_width": null,
            "object_fit": null,
            "object_position": null,
            "order": null,
            "overflow": null,
            "overflow_x": null,
            "overflow_y": null,
            "padding": null,
            "right": null,
            "top": null,
            "visibility": null,
            "width": null
          }
        },
        "a2a64426a42b4eabb775a7d083218584": {
          "model_module": "@jupyter-widgets/controls",
          "model_name": "ProgressStyleModel",
          "model_module_version": "1.5.0",
          "state": {
            "_model_module": "@jupyter-widgets/controls",
            "_model_module_version": "1.5.0",
            "_model_name": "ProgressStyleModel",
            "_view_count": null,
            "_view_module": "@jupyter-widgets/base",
            "_view_module_version": "1.2.0",
            "_view_name": "StyleView",
            "bar_color": null,
            "description_width": ""
          }
        },
        "a3854cc104504a8796a12ba128c55925": {
          "model_module": "@jupyter-widgets/base",
          "model_name": "LayoutModel",
          "model_module_version": "1.2.0",
          "state": {
            "_model_module": "@jupyter-widgets/base",
            "_model_module_version": "1.2.0",
            "_model_name": "LayoutModel",
            "_view_count": null,
            "_view_module": "@jupyter-widgets/base",
            "_view_module_version": "1.2.0",
            "_view_name": "LayoutView",
            "align_content": null,
            "align_items": null,
            "align_self": null,
            "border": null,
            "bottom": null,
            "display": null,
            "flex": null,
            "flex_flow": null,
            "grid_area": null,
            "grid_auto_columns": null,
            "grid_auto_flow": null,
            "grid_auto_rows": null,
            "grid_column": null,
            "grid_gap": null,
            "grid_row": null,
            "grid_template_areas": null,
            "grid_template_columns": null,
            "grid_template_rows": null,
            "height": null,
            "justify_content": null,
            "justify_items": null,
            "left": null,
            "margin": null,
            "max_height": null,
            "max_width": null,
            "min_height": null,
            "min_width": null,
            "object_fit": null,
            "object_position": null,
            "order": null,
            "overflow": null,
            "overflow_x": null,
            "overflow_y": null,
            "padding": null,
            "right": null,
            "top": null,
            "visibility": null,
            "width": null
          }
        },
        "7deb81e001584a278c2ad084130652b9": {
          "model_module": "@jupyter-widgets/controls",
          "model_name": "DescriptionStyleModel",
          "model_module_version": "1.5.0",
          "state": {
            "_model_module": "@jupyter-widgets/controls",
            "_model_module_version": "1.5.0",
            "_model_name": "DescriptionStyleModel",
            "_view_count": null,
            "_view_module": "@jupyter-widgets/base",
            "_view_module_version": "1.2.0",
            "_view_name": "StyleView",
            "description_width": ""
          }
        },
        "477f0ef9bbaf49ef893230abdc8bf730": {
          "model_module": "@jupyter-widgets/controls",
          "model_name": "HBoxModel",
          "model_module_version": "1.5.0",
          "state": {
            "_dom_classes": [],
            "_model_module": "@jupyter-widgets/controls",
            "_model_module_version": "1.5.0",
            "_model_name": "HBoxModel",
            "_view_count": null,
            "_view_module": "@jupyter-widgets/controls",
            "_view_module_version": "1.5.0",
            "_view_name": "HBoxView",
            "box_style": "",
            "children": [
              "IPY_MODEL_d81d371378154ad2a6c378cde03bfc75",
              "IPY_MODEL_878ab88997c54ed58743a318150c7ced",
              "IPY_MODEL_4b55f4a0c6e5460d9704f034317c9efd"
            ],
            "layout": "IPY_MODEL_915fe53326a34c099f93fed7adb7a994"
          }
        },
        "d81d371378154ad2a6c378cde03bfc75": {
          "model_module": "@jupyter-widgets/controls",
          "model_name": "HTMLModel",
          "model_module_version": "1.5.0",
          "state": {
            "_dom_classes": [],
            "_model_module": "@jupyter-widgets/controls",
            "_model_module_version": "1.5.0",
            "_model_name": "HTMLModel",
            "_view_count": null,
            "_view_module": "@jupyter-widgets/controls",
            "_view_module_version": "1.5.0",
            "_view_name": "HTMLView",
            "description": "",
            "description_tooltip": null,
            "layout": "IPY_MODEL_5aa66a63fb3c4e1989c4e02ab756c292",
            "placeholder": "​",
            "style": "IPY_MODEL_401fb9cebc00447896f6e2528751d0ce",
            "value": "Generating test split: 100%"
          }
        },
        "878ab88997c54ed58743a318150c7ced": {
          "model_module": "@jupyter-widgets/controls",
          "model_name": "FloatProgressModel",
          "model_module_version": "1.5.0",
          "state": {
            "_dom_classes": [],
            "_model_module": "@jupyter-widgets/controls",
            "_model_module_version": "1.5.0",
            "_model_name": "FloatProgressModel",
            "_view_count": null,
            "_view_module": "@jupyter-widgets/controls",
            "_view_module_version": "1.5.0",
            "_view_name": "ProgressView",
            "bar_style": "success",
            "description": "",
            "description_tooltip": null,
            "layout": "IPY_MODEL_5bb8e3694cc34a869d532e55db882e5e",
            "max": 1821,
            "min": 0,
            "orientation": "horizontal",
            "style": "IPY_MODEL_6fac4d3d2670453ab4630f7ea9098895",
            "value": 1821
          }
        },
        "4b55f4a0c6e5460d9704f034317c9efd": {
          "model_module": "@jupyter-widgets/controls",
          "model_name": "HTMLModel",
          "model_module_version": "1.5.0",
          "state": {
            "_dom_classes": [],
            "_model_module": "@jupyter-widgets/controls",
            "_model_module_version": "1.5.0",
            "_model_name": "HTMLModel",
            "_view_count": null,
            "_view_module": "@jupyter-widgets/controls",
            "_view_module_version": "1.5.0",
            "_view_name": "HTMLView",
            "description": "",
            "description_tooltip": null,
            "layout": "IPY_MODEL_85f84cc81f824bbebc3c8687c75f2584",
            "placeholder": "​",
            "style": "IPY_MODEL_2bff71a7e5c740e3822ab2da7a1d2ea1",
            "value": " 1821/1821 [00:00&lt;00:00, 9181.03 examples/s]"
          }
        },
        "915fe53326a34c099f93fed7adb7a994": {
          "model_module": "@jupyter-widgets/base",
          "model_name": "LayoutModel",
          "model_module_version": "1.2.0",
          "state": {
            "_model_module": "@jupyter-widgets/base",
            "_model_module_version": "1.2.0",
            "_model_name": "LayoutModel",
            "_view_count": null,
            "_view_module": "@jupyter-widgets/base",
            "_view_module_version": "1.2.0",
            "_view_name": "LayoutView",
            "align_content": null,
            "align_items": null,
            "align_self": null,
            "border": null,
            "bottom": null,
            "display": null,
            "flex": null,
            "flex_flow": null,
            "grid_area": null,
            "grid_auto_columns": null,
            "grid_auto_flow": null,
            "grid_auto_rows": null,
            "grid_column": null,
            "grid_gap": null,
            "grid_row": null,
            "grid_template_areas": null,
            "grid_template_columns": null,
            "grid_template_rows": null,
            "height": null,
            "justify_content": null,
            "justify_items": null,
            "left": null,
            "margin": null,
            "max_height": null,
            "max_width": null,
            "min_height": null,
            "min_width": null,
            "object_fit": null,
            "object_position": null,
            "order": null,
            "overflow": null,
            "overflow_x": null,
            "overflow_y": null,
            "padding": null,
            "right": null,
            "top": null,
            "visibility": null,
            "width": null
          }
        },
        "5aa66a63fb3c4e1989c4e02ab756c292": {
          "model_module": "@jupyter-widgets/base",
          "model_name": "LayoutModel",
          "model_module_version": "1.2.0",
          "state": {
            "_model_module": "@jupyter-widgets/base",
            "_model_module_version": "1.2.0",
            "_model_name": "LayoutModel",
            "_view_count": null,
            "_view_module": "@jupyter-widgets/base",
            "_view_module_version": "1.2.0",
            "_view_name": "LayoutView",
            "align_content": null,
            "align_items": null,
            "align_self": null,
            "border": null,
            "bottom": null,
            "display": null,
            "flex": null,
            "flex_flow": null,
            "grid_area": null,
            "grid_auto_columns": null,
            "grid_auto_flow": null,
            "grid_auto_rows": null,
            "grid_column": null,
            "grid_gap": null,
            "grid_row": null,
            "grid_template_areas": null,
            "grid_template_columns": null,
            "grid_template_rows": null,
            "height": null,
            "justify_content": null,
            "justify_items": null,
            "left": null,
            "margin": null,
            "max_height": null,
            "max_width": null,
            "min_height": null,
            "min_width": null,
            "object_fit": null,
            "object_position": null,
            "order": null,
            "overflow": null,
            "overflow_x": null,
            "overflow_y": null,
            "padding": null,
            "right": null,
            "top": null,
            "visibility": null,
            "width": null
          }
        },
        "401fb9cebc00447896f6e2528751d0ce": {
          "model_module": "@jupyter-widgets/controls",
          "model_name": "DescriptionStyleModel",
          "model_module_version": "1.5.0",
          "state": {
            "_model_module": "@jupyter-widgets/controls",
            "_model_module_version": "1.5.0",
            "_model_name": "DescriptionStyleModel",
            "_view_count": null,
            "_view_module": "@jupyter-widgets/base",
            "_view_module_version": "1.2.0",
            "_view_name": "StyleView",
            "description_width": ""
          }
        },
        "5bb8e3694cc34a869d532e55db882e5e": {
          "model_module": "@jupyter-widgets/base",
          "model_name": "LayoutModel",
          "model_module_version": "1.2.0",
          "state": {
            "_model_module": "@jupyter-widgets/base",
            "_model_module_version": "1.2.0",
            "_model_name": "LayoutModel",
            "_view_count": null,
            "_view_module": "@jupyter-widgets/base",
            "_view_module_version": "1.2.0",
            "_view_name": "LayoutView",
            "align_content": null,
            "align_items": null,
            "align_self": null,
            "border": null,
            "bottom": null,
            "display": null,
            "flex": null,
            "flex_flow": null,
            "grid_area": null,
            "grid_auto_columns": null,
            "grid_auto_flow": null,
            "grid_auto_rows": null,
            "grid_column": null,
            "grid_gap": null,
            "grid_row": null,
            "grid_template_areas": null,
            "grid_template_columns": null,
            "grid_template_rows": null,
            "height": null,
            "justify_content": null,
            "justify_items": null,
            "left": null,
            "margin": null,
            "max_height": null,
            "max_width": null,
            "min_height": null,
            "min_width": null,
            "object_fit": null,
            "object_position": null,
            "order": null,
            "overflow": null,
            "overflow_x": null,
            "overflow_y": null,
            "padding": null,
            "right": null,
            "top": null,
            "visibility": null,
            "width": null
          }
        },
        "6fac4d3d2670453ab4630f7ea9098895": {
          "model_module": "@jupyter-widgets/controls",
          "model_name": "ProgressStyleModel",
          "model_module_version": "1.5.0",
          "state": {
            "_model_module": "@jupyter-widgets/controls",
            "_model_module_version": "1.5.0",
            "_model_name": "ProgressStyleModel",
            "_view_count": null,
            "_view_module": "@jupyter-widgets/base",
            "_view_module_version": "1.2.0",
            "_view_name": "StyleView",
            "bar_color": null,
            "description_width": ""
          }
        },
        "85f84cc81f824bbebc3c8687c75f2584": {
          "model_module": "@jupyter-widgets/base",
          "model_name": "LayoutModel",
          "model_module_version": "1.2.0",
          "state": {
            "_model_module": "@jupyter-widgets/base",
            "_model_module_version": "1.2.0",
            "_model_name": "LayoutModel",
            "_view_count": null,
            "_view_module": "@jupyter-widgets/base",
            "_view_module_version": "1.2.0",
            "_view_name": "LayoutView",
            "align_content": null,
            "align_items": null,
            "align_self": null,
            "border": null,
            "bottom": null,
            "display": null,
            "flex": null,
            "flex_flow": null,
            "grid_area": null,
            "grid_auto_columns": null,
            "grid_auto_flow": null,
            "grid_auto_rows": null,
            "grid_column": null,
            "grid_gap": null,
            "grid_row": null,
            "grid_template_areas": null,
            "grid_template_columns": null,
            "grid_template_rows": null,
            "height": null,
            "justify_content": null,
            "justify_items": null,
            "left": null,
            "margin": null,
            "max_height": null,
            "max_width": null,
            "min_height": null,
            "min_width": null,
            "object_fit": null,
            "object_position": null,
            "order": null,
            "overflow": null,
            "overflow_x": null,
            "overflow_y": null,
            "padding": null,
            "right": null,
            "top": null,
            "visibility": null,
            "width": null
          }
        },
        "2bff71a7e5c740e3822ab2da7a1d2ea1": {
          "model_module": "@jupyter-widgets/controls",
          "model_name": "DescriptionStyleModel",
          "model_module_version": "1.5.0",
          "state": {
            "_model_module": "@jupyter-widgets/controls",
            "_model_module_version": "1.5.0",
            "_model_name": "DescriptionStyleModel",
            "_view_count": null,
            "_view_module": "@jupyter-widgets/base",
            "_view_module_version": "1.2.0",
            "_view_name": "StyleView",
            "description_width": ""
          }
        }
      }
    }
  },
  "cells": [
    {
      "cell_type": "code",
      "execution_count": null,
      "metadata": {
        "id": "hK5lgNc2rD5p",
        "colab": {
          "base_uri": "https://localhost:8080/"
        },
        "outputId": "f7330e72-6539-4ca0-c65e-6aebab9921c0"
      },
      "outputs": [
        {
          "output_type": "stream",
          "name": "stdout",
          "text": [
            "Collecting datasets\n",
            "  Downloading datasets-2.14.5-py3-none-any.whl (519 kB)\n",
            "\u001b[2K     \u001b[90m━━━━━━━━━━━━━━━━━━━━━━━━━━━━━━━━━━━━━━━━\u001b[0m \u001b[32m519.6/519.6 kB\u001b[0m \u001b[31m7.9 MB/s\u001b[0m eta \u001b[36m0:00:00\u001b[0m\n",
            "\u001b[?25hRequirement already satisfied: numpy>=1.17 in /usr/local/lib/python3.10/dist-packages (from datasets) (1.23.5)\n",
            "Requirement already satisfied: pyarrow>=8.0.0 in /usr/local/lib/python3.10/dist-packages (from datasets) (9.0.0)\n",
            "Collecting dill<0.3.8,>=0.3.0 (from datasets)\n",
            "  Downloading dill-0.3.7-py3-none-any.whl (115 kB)\n",
            "\u001b[2K     \u001b[90m━━━━━━━━━━━━━━━━━━━━━━━━━━━━━━━━━━━━━━━━\u001b[0m \u001b[32m115.3/115.3 kB\u001b[0m \u001b[31m10.9 MB/s\u001b[0m eta \u001b[36m0:00:00\u001b[0m\n",
            "\u001b[?25hRequirement already satisfied: pandas in /usr/local/lib/python3.10/dist-packages (from datasets) (1.5.3)\n",
            "Requirement already satisfied: requests>=2.19.0 in /usr/local/lib/python3.10/dist-packages (from datasets) (2.31.0)\n",
            "Requirement already satisfied: tqdm>=4.62.1 in /usr/local/lib/python3.10/dist-packages (from datasets) (4.66.1)\n",
            "Collecting xxhash (from datasets)\n",
            "  Downloading xxhash-3.4.1-cp310-cp310-manylinux_2_17_x86_64.manylinux2014_x86_64.whl (194 kB)\n",
            "\u001b[2K     \u001b[90m━━━━━━━━━━━━━━━━━━━━━━━━━━━━━━━━━━━━━━━━\u001b[0m \u001b[32m194.1/194.1 kB\u001b[0m \u001b[31m18.3 MB/s\u001b[0m eta \u001b[36m0:00:00\u001b[0m\n",
            "\u001b[?25hCollecting multiprocess (from datasets)\n",
            "  Downloading multiprocess-0.70.15-py310-none-any.whl (134 kB)\n",
            "\u001b[2K     \u001b[90m━━━━━━━━━━━━━━━━━━━━━━━━━━━━━━━━━━━━━━━━\u001b[0m \u001b[32m134.8/134.8 kB\u001b[0m \u001b[31m14.2 MB/s\u001b[0m eta \u001b[36m0:00:00\u001b[0m\n",
            "\u001b[?25hRequirement already satisfied: fsspec[http]<2023.9.0,>=2023.1.0 in /usr/local/lib/python3.10/dist-packages (from datasets) (2023.6.0)\n",
            "Requirement already satisfied: aiohttp in /usr/local/lib/python3.10/dist-packages (from datasets) (3.8.6)\n",
            "Collecting huggingface-hub<1.0.0,>=0.14.0 (from datasets)\n",
            "  Downloading huggingface_hub-0.18.0-py3-none-any.whl (301 kB)\n",
            "\u001b[2K     \u001b[90m━━━━━━━━━━━━━━━━━━━━━━━━━━━━━━━━━━━━━━━━\u001b[0m \u001b[32m302.0/302.0 kB\u001b[0m \u001b[31m24.1 MB/s\u001b[0m eta \u001b[36m0:00:00\u001b[0m\n",
            "\u001b[?25hRequirement already satisfied: packaging in /usr/local/lib/python3.10/dist-packages (from datasets) (23.2)\n",
            "Requirement already satisfied: pyyaml>=5.1 in /usr/local/lib/python3.10/dist-packages (from datasets) (6.0.1)\n",
            "Requirement already satisfied: attrs>=17.3.0 in /usr/local/lib/python3.10/dist-packages (from aiohttp->datasets) (23.1.0)\n",
            "Requirement already satisfied: charset-normalizer<4.0,>=2.0 in /usr/local/lib/python3.10/dist-packages (from aiohttp->datasets) (3.3.0)\n",
            "Requirement already satisfied: multidict<7.0,>=4.5 in /usr/local/lib/python3.10/dist-packages (from aiohttp->datasets) (6.0.4)\n",
            "Requirement already satisfied: async-timeout<5.0,>=4.0.0a3 in /usr/local/lib/python3.10/dist-packages (from aiohttp->datasets) (4.0.3)\n",
            "Requirement already satisfied: yarl<2.0,>=1.0 in /usr/local/lib/python3.10/dist-packages (from aiohttp->datasets) (1.9.2)\n",
            "Requirement already satisfied: frozenlist>=1.1.1 in /usr/local/lib/python3.10/dist-packages (from aiohttp->datasets) (1.4.0)\n",
            "Requirement already satisfied: aiosignal>=1.1.2 in /usr/local/lib/python3.10/dist-packages (from aiohttp->datasets) (1.3.1)\n",
            "Requirement already satisfied: filelock in /usr/local/lib/python3.10/dist-packages (from huggingface-hub<1.0.0,>=0.14.0->datasets) (3.12.4)\n",
            "Requirement already satisfied: typing-extensions>=3.7.4.3 in /usr/local/lib/python3.10/dist-packages (from huggingface-hub<1.0.0,>=0.14.0->datasets) (4.5.0)\n",
            "Requirement already satisfied: idna<4,>=2.5 in /usr/local/lib/python3.10/dist-packages (from requests>=2.19.0->datasets) (3.4)\n",
            "Requirement already satisfied: urllib3<3,>=1.21.1 in /usr/local/lib/python3.10/dist-packages (from requests>=2.19.0->datasets) (2.0.6)\n",
            "Requirement already satisfied: certifi>=2017.4.17 in /usr/local/lib/python3.10/dist-packages (from requests>=2.19.0->datasets) (2023.7.22)\n",
            "Requirement already satisfied: python-dateutil>=2.8.1 in /usr/local/lib/python3.10/dist-packages (from pandas->datasets) (2.8.2)\n",
            "Requirement already satisfied: pytz>=2020.1 in /usr/local/lib/python3.10/dist-packages (from pandas->datasets) (2023.3.post1)\n",
            "Requirement already satisfied: six>=1.5 in /usr/local/lib/python3.10/dist-packages (from python-dateutil>=2.8.1->pandas->datasets) (1.16.0)\n",
            "Installing collected packages: xxhash, dill, multiprocess, huggingface-hub, datasets\n",
            "Successfully installed datasets-2.14.5 dill-0.3.7 huggingface-hub-0.18.0 multiprocess-0.70.15 xxhash-3.4.1\n"
          ]
        }
      ],
      "source": [
        "!pip install datasets"
      ]
    },
    {
      "cell_type": "code",
      "source": [
        "import nltk\n",
        "nltk.download('punkt')"
      ],
      "metadata": {
        "colab": {
          "base_uri": "https://localhost:8080/"
        },
        "id": "axoiy7pRsEiq",
        "outputId": "85f67942-c0a3-449c-e154-e71e3ff64b29"
      },
      "execution_count": null,
      "outputs": [
        {
          "output_type": "stream",
          "name": "stderr",
          "text": [
            "[nltk_data] Downloading package punkt to /root/nltk_data...\n",
            "[nltk_data]   Unzipping tokenizers/punkt.zip.\n"
          ]
        },
        {
          "output_type": "execute_result",
          "data": {
            "text/plain": [
              "True"
            ]
          },
          "metadata": {},
          "execution_count": 2
        }
      ]
    },
    {
      "cell_type": "code",
      "source": [
        "from google.colab import drive\n",
        "drive.mount('/content/drive')"
      ],
      "metadata": {
        "colab": {
          "base_uri": "https://localhost:8080/"
        },
        "id": "LVKvwlqGsE4C",
        "outputId": "8fdda074-c6fc-4ae4-d236-80d004bab6e0"
      },
      "execution_count": null,
      "outputs": [
        {
          "output_type": "stream",
          "name": "stdout",
          "text": [
            "Mounted at /content/drive\n"
          ]
        }
      ]
    },
    {
      "cell_type": "code",
      "source": [
        "%cd /content/drive/MyDrive/Colab\\ Notebooks/"
      ],
      "metadata": {
        "colab": {
          "base_uri": "https://localhost:8080/"
        },
        "id": "_smY-ihmsG_W",
        "outputId": "7ecfe47d-3c23-4639-acb4-251b5710b92a"
      },
      "execution_count": null,
      "outputs": [
        {
          "output_type": "stream",
          "name": "stdout",
          "text": [
            "/content/drive/MyDrive/Colab Notebooks\n"
          ]
        }
      ]
    },
    {
      "cell_type": "code",
      "source": [
        "import torch\n",
        "import numpy as np\n",
        "\n",
        "from nltk.tokenize import sent_tokenize\n",
        "\n",
        "from pathlib import Path\n",
        "from sklearn.model_selection import train_test_split\n",
        "from torch.utils.data import Dataset\n",
        "from torch.utils.data.dataloader import DataLoader\n",
        "from mingpt.bpe import BPETokenizer\n",
        "from mingpt.utils import set_seed\n",
        "set_seed(1234)"
      ],
      "metadata": {
        "id": "pUOytLwOrxwj"
      },
      "execution_count": null,
      "outputs": []
    },
    {
      "cell_type": "code",
      "source": [
        "import pandas as pd"
      ],
      "metadata": {
        "id": "Njm1lMNLzuoK"
      },
      "execution_count": null,
      "outputs": []
    },
    {
      "cell_type": "code",
      "source": [
        "import datasets\n",
        "sst = datasets.load_dataset('glue', 'sst2')"
      ],
      "metadata": {
        "colab": {
          "base_uri": "https://localhost:8080/",
          "height": 241,
          "referenced_widgets": [
            "453bc4b7dd464c55a15398d056b48a05",
            "17776d10d1e34b81aef312d960666ee2",
            "53603316b2d44791b279ca47edc305bd",
            "c8ab628127fd4dd798531ba481a1e235",
            "434137d927a0477b86bbd463865b8896",
            "fd793493ee844af58ea9175752d641cb",
            "9876bb543a204477aa9e634b61f6c8a3",
            "719f3178000643439fbc7b725b5fc021",
            "25234c65c4214df6babbf9c5f0b9104b",
            "98667646b6594c1b99c79818d3d64fab",
            "cc93114a6fbe40a7b758b31e790d8aaa",
            "4f3eebc258674552b2438cc94e11fa4c",
            "6fe51721a3fc4a00a9fd87723e50bd80",
            "118b439eb7564900805d4d6adf7fec14",
            "74bf27ae843d4a00bc2aab3c6cc0ca7e",
            "2b224f475acc4ef795a52c7764704400",
            "c9b91e8e86c5442786f116086739413e",
            "7e83c6cdc7e646ad83d516f9a035695a",
            "0e8ffe81cd1840a48fc490f2dbf314cd",
            "6674c70c15f64964ac4c655727961992",
            "b887034abd8f42c5bbffd74576a4f41f",
            "a3425d9575d440dcadccf39b76832918",
            "4f646170afeb4444aff172b307ddc552",
            "a0e7571692bb42d5b65000800484b20b",
            "243bce5d2f65458b8280720704e7ecb2",
            "f8545fb7faeb42808b8f2fbdfb12c51d",
            "f35f2fcf11d44793a030757f45c8a746",
            "7f09326977d448dea888f79ebb1ff536",
            "3ef3ace1b17e41c094d16403e9346373",
            "46b8886a2a434e94ba565174dfd93a1c",
            "309b0fdb17da4a71977a992ddf3cbffd",
            "20bb46c8cbc74aec8c7e0f94a68ad60f",
            "da183dd85a3640d09fefb38ba16186b1",
            "6b656a6c68844b9cbd91cf84d23238f9",
            "49ed70de38874c149eeeed1c188ff661",
            "1304f788a3ad4200834d7195cefa68b0",
            "7ca6e0f286634c5fbfc897fd4bfc3b9d",
            "9743d286e94e45959173af95afa3a0b3",
            "adee257c49374377a7ba87dc4f1badb9",
            "f7f9d195b0f94c778673fde143d388b8",
            "ae55f1e81ce840d6bb31cd69495b3beb",
            "c6402f2fc7d54190a173c0316b850c18",
            "9f696218330b48029ea25c1288a87774",
            "e63be4aa246e4e6a81a921fbc06a8486",
            "26beb917070b420195cfa7d2f5d94c46",
            "50e4afeee01f4b1d8b9aaad2afb4f195",
            "0fd7377cc08b400894ff30bcf0f957c8",
            "9e69a7a93c724e87b594e315e1dc552d",
            "e93ff22f51274e52881f228a635f04a6",
            "6501c22c7b374d10a2ea0cdd08e586ec",
            "26e5ffcf271e4174be440f7f177865c0",
            "efab52fb5703425994280e4187272a4f",
            "9ef1f24944104da8904bd919c5f42944",
            "b74e5e8da6e7448f972ed4e7042b3e28",
            "9bf76deb967d4bef869e6d74767b2520",
            "81ca4dc388794799842fd0842046581d",
            "28cddfc1a55444d8bc1a5c54c15e275f",
            "387b7229b6d0458da505dfdbd2600366",
            "580356f13aed43369753b22dcbdd0c23",
            "2a28bf8a14094d289b071ac4df359242",
            "5210ac6eb27140e2b68ae2bcba05de90",
            "706dff5c682d47e8b62153707216f454",
            "c9cee0767474416dbafdbc4ff57a3947",
            "a2a64426a42b4eabb775a7d083218584",
            "a3854cc104504a8796a12ba128c55925",
            "7deb81e001584a278c2ad084130652b9",
            "477f0ef9bbaf49ef893230abdc8bf730",
            "d81d371378154ad2a6c378cde03bfc75",
            "878ab88997c54ed58743a318150c7ced",
            "4b55f4a0c6e5460d9704f034317c9efd",
            "915fe53326a34c099f93fed7adb7a994",
            "5aa66a63fb3c4e1989c4e02ab756c292",
            "401fb9cebc00447896f6e2528751d0ce",
            "5bb8e3694cc34a869d532e55db882e5e",
            "6fac4d3d2670453ab4630f7ea9098895",
            "85f84cc81f824bbebc3c8687c75f2584",
            "2bff71a7e5c740e3822ab2da7a1d2ea1"
          ]
        },
        "id": "aJcYeL4Mr3Ji",
        "outputId": "dc6e12d9-942d-46b6-c344-bcaa8baf656b"
      },
      "execution_count": null,
      "outputs": [
        {
          "output_type": "display_data",
          "data": {
            "text/plain": [
              "Downloading builder script:   0%|          | 0.00/28.8k [00:00<?, ?B/s]"
            ],
            "application/vnd.jupyter.widget-view+json": {
              "version_major": 2,
              "version_minor": 0,
              "model_id": "453bc4b7dd464c55a15398d056b48a05"
            }
          },
          "metadata": {}
        },
        {
          "output_type": "display_data",
          "data": {
            "text/plain": [
              "Downloading metadata:   0%|          | 0.00/28.7k [00:00<?, ?B/s]"
            ],
            "application/vnd.jupyter.widget-view+json": {
              "version_major": 2,
              "version_minor": 0,
              "model_id": "4f3eebc258674552b2438cc94e11fa4c"
            }
          },
          "metadata": {}
        },
        {
          "output_type": "display_data",
          "data": {
            "text/plain": [
              "Downloading readme:   0%|          | 0.00/27.9k [00:00<?, ?B/s]"
            ],
            "application/vnd.jupyter.widget-view+json": {
              "version_major": 2,
              "version_minor": 0,
              "model_id": "4f646170afeb4444aff172b307ddc552"
            }
          },
          "metadata": {}
        },
        {
          "output_type": "display_data",
          "data": {
            "text/plain": [
              "Downloading data:   0%|          | 0.00/7.44M [00:00<?, ?B/s]"
            ],
            "application/vnd.jupyter.widget-view+json": {
              "version_major": 2,
              "version_minor": 0,
              "model_id": "6b656a6c68844b9cbd91cf84d23238f9"
            }
          },
          "metadata": {}
        },
        {
          "output_type": "display_data",
          "data": {
            "text/plain": [
              "Generating train split:   0%|          | 0/67349 [00:00<?, ? examples/s]"
            ],
            "application/vnd.jupyter.widget-view+json": {
              "version_major": 2,
              "version_minor": 0,
              "model_id": "26beb917070b420195cfa7d2f5d94c46"
            }
          },
          "metadata": {}
        },
        {
          "output_type": "display_data",
          "data": {
            "text/plain": [
              "Generating validation split:   0%|          | 0/872 [00:00<?, ? examples/s]"
            ],
            "application/vnd.jupyter.widget-view+json": {
              "version_major": 2,
              "version_minor": 0,
              "model_id": "81ca4dc388794799842fd0842046581d"
            }
          },
          "metadata": {}
        },
        {
          "output_type": "display_data",
          "data": {
            "text/plain": [
              "Generating test split:   0%|          | 0/1821 [00:00<?, ? examples/s]"
            ],
            "application/vnd.jupyter.widget-view+json": {
              "version_major": 2,
              "version_minor": 0,
              "model_id": "477f0ef9bbaf49ef893230abdc8bf730"
            }
          },
          "metadata": {}
        }
      ]
    },
    {
      "cell_type": "code",
      "source": [
        "print(sst['train'][:1200])"
      ],
      "metadata": {
        "colab": {
          "base_uri": "https://localhost:8080/"
        },
        "id": "fx7YwclwsokZ",
        "outputId": "508d7284-de78-43a3-83ff-50c91430b3fd"
      },
      "execution_count": null,
      "outputs": [
        {
          "output_type": "stream",
          "name": "stdout",
          "text": [
            "{'sentence': ['hide new secretions from the parental units ', 'contains no wit , only labored gags ', 'that loves its characters and communicates something rather beautiful about human nature ', 'remains utterly satisfied to remain the same throughout ', 'on the worst revenge-of-the-nerds clichés the filmmakers could dredge up ', \"that 's far too tragic to merit such superficial treatment \", 'demonstrates that the director of such hollywood blockbusters as patriot games can still turn out a small , personal film with an emotional wallop . ', 'of saucy ', \"a depressed fifteen-year-old 's suicidal poetry \", \"are more deeply thought through than in most ` right-thinking ' films \", 'goes to absurd lengths ', \"for those moviegoers who complain that ` they do n't make movies like they used to anymore \", \"the part where nothing 's happening , \", 'saw how bad this movie was ', 'lend some dignity to a dumb story ', 'the greatest musicians ', 'cold movie ', 'with his usual intelligence and subtlety ', 'redundant concept ', \"swimming is above all about a young woman 's face , and by casting an actress whose face projects that woman 's doubts and yearnings , it succeeds . \", 'equals the original and in some ways even betters it ', 'if anything , see it for karen black , who camps up a storm as a fringe feminist conspiracy theorist named dirty dick . ', 'a smile on your face ', 'comes from the brave , uninhibited performances ', 'excruciatingly unfunny and pitifully unromantic ', 'enriched by an imaginatively mixed cast of antic spirits ', \"which half of dragonfly is worse : the part where nothing 's happening , or the part where something 's happening \", 'in world cinema ', 'very good viewing alternative ', 'the plot is nothing but boilerplate clichés from start to finish , ', 'the action is stilted ', 'on all cylinders ', 'will find little of interest in this film , which is often preachy and poorly acted ', 'by far the worst movie of the year ', 'sit through , ', \"more than another `` best man '' clone by weaving a theme throughout this funny film \", \"it 's about issues most adults have to face in marriage and i think that 's what i liked about it -- the real issues tucked between the silly and crude storyline \", 'heroes ', 'oblivious to the existence of this film ', 'sharply ', 'the entire point of a shaggy dog story , of course , is that it goes nowhere , and this is classic nowheresville in every sense . ', 'sometimes dry ', \"as they come , already having been recycled more times than i 'd care to count \", 'covers this territory with wit and originality , suggesting that with his fourth feature ', 'a $ 40 million version of a game ', 'gorgeous and deceptively minimalist ', 'cross swords with the best of them and ', 'as a fringe feminist conspiracy theorist ', \"proves once again he has n't lost his touch , bringing off a superb performance in an admittedly middling film . \", 'disappointments ', 'the horrors ', 'a muddle splashed with bloody beauty as vivid as any scorsese has ever given us . ', 'many pointless ', 'a beautifully ', 'contrived , well-worn situations ', 'a doa ', \"poor ben bratt could n't find stardom if mapquest emailed him point-to-point driving directions . \", \"to be as subtle and touching as the son 's room \", 'starts with a legend ', 'far less sophisticated and ', 'rich veins of funny stuff in this movie ', 'no apparent joy ', 'shot on ugly digital video ', \"... a sour little movie at its core ; an exploration of the emptiness that underlay the relentless gaiety of the 1920 's ... the film 's ending has a `` what was it all for ? '' \", 'though ford and neeson capably hold our interest , but its just not a thrilling movie ', 'is pretty damned funny . ', 'we never feel anything for these characters ', \"'s a lousy one at that \", 'the corporate circus that is the recording industry in the current climate of mergers and downsizing ', 'the storylines are woven together skilfully , the magnificent swooping aerial shots are breathtaking , and the overall experience is awesome . ', 'of the most highly-praised disappointments i ', 'sounds like a cruel deception carried out by men of marginal intelligence , with reactionary ideas about women and a total lack of empathy . ', 'seem fresh ', 'to the dustbin of history ', 'as a director , eastwood is off his game ', 'pays earnest homage to turntablists ', 'weak and ', 'skip this dreck , ', 'contains very few laughs and even less surprises ', \"film to affirm love 's power to help people endure almost unimaginable horror \", 'are an absolute joy ', 'generates ', \", like life , is n't much fun without the highs and lows \", 'based on a true and historically significant story ', 'well-rounded tribute ', \", though many of the actors throw off a spark or two when they first appear , they ca n't generate enough heat in this cold vacuum of a comedy to start a reaction . \", 'so much like a young robert deniro ', 'khouri manages , with terrific flair , to keep the extremes of screwball farce and blood-curdling family intensity on one continuum . ', 'fashioning an engrossing entertainment out ', 'spiffy animated feature ', \"that 's so sloppily written and cast that you can not believe anyone more central to the creation of bugsy than the caterer \", 'alternating between facetious comic parody and pulp melodrama , this smart-aleck movie ... tosses around some intriguing questions about the difference between human and android life ', 'strung-together moments ', ', generous and subversive artworks ', \"it does n't follow the stale , standard , connect-the-dots storyline which has become commonplace in movies that explore the seamy underbelly of the criminal world \", 'funny yet ', 'overbearing and over-the-top ', \"it 's robert duvall ! \", 'rich and sudden wisdom ', \"acted and directed , it 's clear that washington most certainly has a new career ahead of him \", 'in memory ', 'respectable new one ', 'yet this grating showcase ', 'hate to tear your eyes away from the images long enough to read the subtitles ', 'addition to sporting one of the worst titles in recent cinematic history ', ', this gender-bending comedy is generally quite funny . ', \"build some robots , haul 'em to the theater with you for the late show , and put on your own mystery science theatre 3000 tribute to what is almost certainly going to go down as the worst -- and only -- killer website movie of this or any other year \", \"do n't work in concert \", 'the direction has a fluid , no-nonsense authority , and the performances by harris , phifer and cam ` ron seal the deal . ', 'would have liked it more if it had just gone that one step further ', \"it 's too harsh to work as a piece of storytelling , \", 'hawaiian shirt ', 'takes a classic story , casts attractive and talented actors and uses a magnificent landscape to create a feature film that is wickedly fun to watch . ', 'provide its keenest pleasures ', 'altogether too slight to be called any kind of masterpiece ', 'grievous but ', 'after you laugh once ( maybe twice ) , you will have completely forgotten the movie by the time you get back to your car in the parking lot . ', 'hopeless ', 'unpretentious , charming , quirky , original ', \"nicks and steinberg match their own creations for pure venality -- that 's giving it the old college try . \", 'very well-written and very well-acted . ', \"are n't many conclusive answers in the film \", 'clumsy dialogue , heavy-handed phoney-feeling sentiment , ', 'proves a lovely trifle that , unfortunately , is a little too in love with its own cuteness . ', 'bring tissues . ', \"the film 's mid-to-low budget is betrayed by the surprisingly shoddy makeup work . \", 'brings the proper conviction to his role as ( jason bourne ) . ', 'as a young woman of great charm , generosity and diplomacy ', \"there 's something poignant about an artist of 90-plus years taking the effort to share his impressions of life and loss and time and art with us . \", 'just too silly ', 'cinematic bon bons ', 'it is supremely unfunny and unentertaining to watch middle-age and ', 'a lively and engaging examination of how similar obsessions can dominate a family . ', 'irritates and ', 'collapse ', 'so many of the challenges it poses for itself that one can forgive the film its flaws ', \", it serves as a workable primer for the region 's recent history , and would make a terrific 10th-grade learning tool . \", 'wide-awake all the way through ', '( vainly , i think ) ', 'is one big excuse to play one lewd scene after another . ', 'is effective if you stick with it ', 'that underscore the importance of family tradition and familial community ', \"delivers what it promises : a look at the `` wild ride '' that ensues when brash young men set out to conquer the online world with laptops , cell phones and sketchy business plans \", 'watching this digital-effects-heavy , supposed family-friendly comedy ', 'absolutely and completely ridiculous and ', \"'s a very tasteful rock and roll movie . \", 'the movie is almost completely lacking in suspense , surprise and consistent emotional conviction . ', 'realistic portrayal ', 'as if trying to grab a lump of play-doh , the harder that liman tries to squeeze his story ', 'well-thought stunts or ', 'reveals how important our special talents can be when put in service of of others . ', 'no lika da ', 'a welcome relief ', 'the promise of digital filmmaking ', 'just one that could easily wait for your pay per view dollar ', 'justify a theatrical simulation of the death camp of auschwitz ii-birkenau ', 'extraordinary faith ', 'have i seen a film so willing to champion the fallibility of the human heart ', ', sometimes beautiful adaptation ', 'about as interesting ', 'caruso sometimes descends into sub-tarantino cuteness ... but for the most part he makes sure the salton sea works the way a good noir should , keeping it tight and nasty . ', 'overlong , and bombastic ', 'derivative and hammily ', 'most audacious , outrageous , ', 'at its best moments ', 'disney again ransacks its archives for a quick-buck sequel . ', 'that final , beautiful scene ', 'some movies suck you in despite their flaws , ', 'eats , meddles , argues , laughs , kibbitzes and fights ', 'the problem with the film is whether these ambitions , laudable in themselves , justify a theatrical simulation of the death camp of auschwitz ii-birkenau . ', ', compelling ', 'infectiously ', \"the picture runs a mere 84 minutes , but it 's no glance . \", 'think of this dog of a movie ', \"'s remarkable procession of sweeping pictures that have reinvigorated the romance genre . \", 'those so-so films that could have been much better ', 'a passable date film ', 'imax in short ', 'i hate it . ', \"'s pleasant enough -- and oozing with attractive men \", 'no one involved , save dash , shows the slightest aptitude for acting ', 'in this wildly uneven movie ', 'pokes , provokes , takes expressionistic license ', \"like one of ( spears ' ) music videos in content -- except that it goes on for at least 90 more minutes and , worse , that you have to pay if you want to see it \", 'with color and depth , and rather a good time ', 'silly , outrageous , ingenious ', \"being able to hit on a 15-year old when you 're over 100 \", \"the story of trouble every day ... is so sketchy it amounts to little more than preliminary notes for a science-fiction horror film , and the movie 's fragmentary narrative style makes piecing the story together frustrating difficult . \", \"the year 's best and most unpredictable comedy \", 'starts off so bad that you feel like running out screaming ', \"men in black ii achieves ultimate insignificance -- it 's the sci-fi comedy spectacle as whiffle-ball epic . \", 'elvira fans could hardly ask for more . ', 'a good one ', ', plodding picture ', 'the character dramas , which never reach satisfying conclusions ', 'lost in the translation this time ', 'speak for it while it forces you to ponder anew what a movie can be ', 'enables shafer to navigate spaces both large ... and small ... with considerable aplomb ', 'a plot cobbled together from largely flat and uncreative moments ', 'inane and awful ', 'told in scattered fashion ', 'takes chances that are bold by studio standards ', 'believe it or not , jason actually takes a backseat in his own film to special effects ', \"only thing to fear about `` fear dot com '' \", 'whole mess ', 'manages to infuse the rocky path to sibling reconciliation with flashes of warmth and gentle humor ', \"working from a surprisingly sensitive script co-written by gianni romoli ... ozpetek avoids most of the pitfalls you 'd expect in such a potentially sudsy set-up . \", 'a résumé loaded with credits like `` girl in bar # 3 ', 'enjoy the ride ', 'very little to add beyond the dark visions already relayed by superb recent predecessors ', 'the , yes , snail-like pacing ', 'an extremely unpleasant film . ', \"if it is n't entirely persuasive , it does give exposure to some talented performers \", 'the whole affair , true story or not , feels incredibly hokey ... ', \"are all things we 've seen before \", 'poignant and leavened ', 'breathless anticipation ', 'significantly better ', 'as predictable as the tides ', 'bewilderingly brilliant and entertaining ', \"it 's smooth and professional \", ', unassuming , subordinate ', 'the horror ', 'a technically superb film ', 'the positive change in tone here seems to have recharged him . ', 'pays earnest homage to turntablists and beat jugglers , old schoolers and current innovators ', 'a dim ', ', vicious and absurd ', 'because he acts so goofy all the time ', 'to a kinetic life so teeming that even cranky adults may rediscover the quivering kid inside ', \"'s at once laughable and compulsively watchable , \", 'merit its 103-minute length ', 'the value and respect for the term epic cinema ', \"as a dentist 's waiting room \", 'showing honest emotions ', 'amazingly lame . ', 'confessions may not be a straightforward bio ', 'seems a disappointingly thin slice of lower-class london life ; despite the title ... amounts to surprisingly little ', 'the story is bogus and ', 'this comic gem is as delightful as it is derivative . ', 'to spare wildlife ', 'ugly as the shabby digital photography ', 'understand the difference between dumb fun and just plain dumb ', 'traditionally structured ', \"frida is n't that much different from many a hollywood romance . \", 'does point the way for adventurous indian filmmakers toward a crossover into nonethnic markets . ', \"are worth the price of admission ... if `` gory mayhem '' is your idea of a good time \", 'was produced by jerry bruckheimer and directed by joel schumacher , and reflects the worst of their shallow styles : wildly overproduced , inadequately motivated every step of the way and demographically targeted to please every one ( and no one ) ', 'carnage and ', 'degraded , handheld blair witch video-cam footage ', 'second fiddle ', 'about the folly of superficiality that is itself ', 'serves as auto-critique , and its clumsiness as its own most damning censure . ', 'tedious norwegian offering which somehow snagged an oscar nomination . ', ', esther kahn is unusual but unfortunately also irritating . ', 'a stylish exercise ', 'halfway through this picture i was beginning to hate it ', 'a setup so easy it borders on facile ', 'a thoroughly awful movie ', 'takes hold and grips hard ', 'look smeary and blurry , to the point of distraction ', \"the picture 's fascinating byways \", 'guns , cheatfully filmed martial arts , disintegrating bloodsucker computer effects and jagged camera moves ', 'breezy , distracted rhythms ', 'than this mess ', 'evanescent , seamless and sumptuous stream ', 'slick and manufactured to claim street credibility . ', 'take care is nicely performed by a quintet of actresses , ', 'valuable messages ', 'in no small part thanks to lau ', 'two guys who desperately want to be quentin tarantino when they grow up ', 'no new plot conceptions ', 'essentially a collection of bits -- ', \"does n't bode well for the rest of it \", 'elevated by it -- the kind of movie ', 'usual worst ', 'hugh grant , who has a good line in charm ', 'arrive early and stay late ', 'is a pan-american movie , with moments of genuine insight into the urban heart . ', 'i could have used my two hours better watching being john malkovich again . ', 'shot in artful , watery tones of blue , green and brown ', 'an unorthodox little film noir organized crime story that includes one of the strangest ', 'considerable aplomb ', 'acted by diane lane and richard gere . ', 'scant ', 'an admittedly middling film ', 'too ludicrous ', \"the rock 's fighting skills are more in line with steven seagal \", 'rich and full ', 'warm water under a red bridge is a celebration of feminine energy , a tribute to the power of women to heal . ', 'that uses a sensational , real-life 19th-century crime as a metaphor for ', ', home movie will leave you wanting more , not to mention leaving you with some laughs and a smile on your face . ', ', the film retains ambiguities that make it well worth watching . ', 'ultra-cheesy dialogue ', 'added depth and resonance ', 'the sensational ', 'huge-screen format to make an old-fashioned nature film that educates viewers with words and pictures while entertaining them ', 'handsome but unfulfilling suspense drama ', \"'s not very good either . \", 'in her most charmless ', 'makes an unusual but pleasantly haunting debut behind the camera . ', 'a fine , rousing , g-rated family film , aimed mainly at little kids but with plenty of entertainment value to keep grown-ups from squirming in their seats . ', \"everything about girls ca n't swim , even its passages of sensitive observation , feels secondhand , familiar -- and not in a good way . \", 'the cast is spot on and ', 'ugly digital video ', 'can only love the players it brings to the fore for the gifted but no-nonsense human beings they are and for the still-inestimable contribution they have made to our shared history ', 'rather choppy ', 'becomes one more dumb high school comedy about sex gags and prom dates ', 'demands and receives excellent performances ', 'xxx is a blast of adrenalin , ', 'pure escapism ', \"create a film that 's not merely about kicking undead *** \", 'about love and culture ', 'is worse : ', 'horrifying ', 'mourns her tragedies in private ', 'the action scenes are poorly delivered ', \"it 's so bad \", 'so bad ', ', 84 minutes is short ', 'dabbles all around , never gaining much momentum ', 'a masterpiece ', 'a lot to do with the casting of juliette binoche as sand , who brings to the role her pale , dark beauty and characteristic warmth ', \"does n't leave you with much . \", 'good acting ', \"like most of jaglom 's films , some of it is honestly affecting \", \"marivaux 's rhythms , and mira sorvino 's limitations as a classical actress \", 'is less successful on other levels ', \"'s still quite worth seeing \", 'intelligent and moving . ', 'he appears miserable throughout as he swaggers through his scenes ', 'men ', 'accomplish what few sequels can ', 'a clunky tv-movie approach to detailing a chapter in the life of the celebrated irish playwright , poet and drinker ', \"i 'm not sure which half of dragonfly is worse : the part where nothing 's happening , or the part where something 's happening \", 'exhilarating , funny and fun . ', 'bound to appeal to women looking for a howlingly trashy time ', ', it never quite makes the grade as tawdry trash . ', 'has the right stuff for silly summer entertainment and has enough laughs to sustain interest to the end . ', 'endearing , caring ', 'seagal , who looks more like danny aiello these days ', 'enactments , however fascinating they may be as history , are too crude to serve the work especially well . ', 'not everything in this ambitious comic escapade works , but coppola , along with his sister , sofia , is a real filmmaker ', 'the dehumanizing and ego-destroying process ', 'taboo subject matter ', 'see this ', 'utterly incompetent conclusion ', \"has always been part of for the most part wilde 's droll whimsy helps `` being earnest '' overcome its weaknesses and parker 's creative interference ... \", \"you find yourself rooting for gai 's character to avoid the fate that has befallen every other carmen before her \", 'run for cover ', 'low budget ', 'a deceptively casual ode ', \"walked out muttering words like `` horrible '' and `` terrible , '' \", 'help chicago make the transition from stage to screen with considerable appeal intact ', 'you have ellen pompeo sitting next to you for the ride ', 'a giant step backward ', 'true fans ', 'just copies ', 'quite rich and exciting ', 'luminous interviews and amazingly evocative film from three decades ago ', 'from lynch , jeunet , and von trier while failing to find a spark of its own ', \", you ca n't help but get caught up in the thrill of the company 's astonishing growth . \", 'this frozen tundra soap opera ', 'a showdown ', 'is simply too overdone ', 'greatly ', 'free ', 'intriguing species ', 'try and evade ', 'scherfig , who has had a successful career in tv ', 'watching it leaves you giddy ', \"beautifully acted and directed , it 's clear that washington most certainly has a new career ahead of him if he so chooses . \", 'far tamer ', 'outrageously creative action ', 'the most purely enjoyable and satisfying evenings ', 'is never any question of how things will turn out ', 'only open new wounds ', 'despite suffering a sense-of-humour failure ', 'for a story ', \"in addition to hoffman 's powerful acting clinic \", 'right stuff ', 'the wonderful cinematography and naturalistic acting ', 'high-concept films ', 'sleepwalk through vulgarities in a sequel you can refuse ', 'with no reason for being ', 'just about all of the film is confusing on one level or another , making ararat far more demanding than it needs to be . ', 'invigorating , surreal , and resonant ', 'the chateau , a sense of light-heartedness , that makes it attractive throughout ', 'have a passion for the material ', \"maybe it is formula filmmaking , but there 's nothing wrong with that if the film is well-crafted and this one is . \", \"a movie that ca n't get sufficient distance from leroy 's \", 'romanticized rendering ', 'is terrific as rachel ', 'of special effects that run the gamut from cheesy to cheesier to cheesiest ', 'the worst film a man has made about women since valley of the dolls ', \"come , already having been recycled more times than i 'd care to count \", 'with awe ', 'joyous romp of a film . ', 'a nonstop hoot ', ', partisans and sabotage ', 'gory as the scenes of torture and self-mutilation ', 'just as the recent argentine film son of the bride reminded us that a feel-good movie can still show real heart ', \"ub equally spoofs and celebrates the more outre aspects of ` black culture ' and the dorkier aspects of ` white culture , ' even as it points out how inseparable the two are . \", 'the package in which this fascinating -- and timely -- content comes wrapped is disappointingly generic . ', 'this obscenely bad dark comedy , so crass ', 'naomi watts is terrific as rachel ; her petite frame and vulnerable persona emphasising her plight and isolation ', 'exciting and ', 'schticky ', 'and in the best way ', 'of our most flamboyant female comics ', 'squareness that would make it the darling of many a kids-and-family-oriented cable channel ', '( less a movie than ) an appalling , odoriferous thing ... so ', 'this film special ', 'of the amazing spider-man ', 'the stomach-turning violence ', 'could use a little more humanity ', 'not everything ', 'acquires an undeniable entertainment value as the slight , pale mr. broomfield continues to force himself on people and into situations that would make lesser men run for cover . ', 'a slow-moving police-procedural thriller ', 'a bad idea from frame one ', 'terrific , sweaty-palmed fun ', 'very funny joke ', \"volletta wallace 's maternal fury \", 'complex story ', 'atop wooden dialogue ', 'that it progresses in such a low-key manner that it risks monotony ', \"be burns 's strongest film since the brothers mcmullen \", \"ca n't miss it \", \"dover kosashvili 's outstanding feature debut so potent \", 'of the best short story writing ', 'it seeks excitement in manufactured high drama ', 'feeble comedy . ', 'an insult to every family ', 'it is essentially empty ', \"of the film 's problems \", 'makes my big fat greek wedding look like an apartheid drama ', 'is not even half the interest . ', 'never achieve the popularity of my big fat greek wedding ', \"`` auto focus '' works as an unusual biopic and document of male swingers in the playboy era \", \"right now , they 're merely signposts marking the slow , lingering death of imagination . \", 'appealing character quirks to forgive that still serious problem ', 'often lingers just as long on the irrelevant as on the engaging , which gradually turns what time is it there ? ', 'the energy it takes to describe how bad it is ', 'wait to see it then . ', 'could easily be called the best korean film of 2002 ', 'largest-ever historical canvas ', 'a solid cast , assured direction and complete lack of modern day irony . ', 'comatose ballerinas ', 'oh-so-important ', 'of the road , where the thematic ironies are too obvious and the sexual politics too smug ', 'formulaic equations ', \"'s a work that , with humor , warmth , and intelligence , captures a life interestingly lived \", 'deserve a passing grade ', \"you 're gon na like this movie . \", 'simply stupid , irrelevant ', 'weaves both the elements of the plot and a powerfully evocative mood combining heated sexuality with a haunting sense of malaise . ', 'a heavy-handed indictment of parental failings and ', 'felt performances across the board . ', 'seem weird and distanced ', \"has finally made a movie that is n't just offensive \", 'casual and fun ', 'plodding mess ', \"the weird thing about the santa clause 2 , purportedly a children 's movie , is that there is nothing in it to engage children emotionally . \", \"the film 's intimate camera work \", \"you 'll find yourself wishing that you and they were in another movie . \", 'of dishonesty ', 'as bestial ', 'as it is a loose collection of not-so-funny gags , scattered moments of lazy humor ', ', they prove more distressing than suspenseful . ', 'crackles ', 'a fairly revealing study of its two main characters ', 'high drama , disney-style ', 'may be more genial than ingenious , but it gets the job done . ', ', good action , good acting , good dialogue , good pace , good cinematography . ', 'her bully of a husband ', 'gaghan ... has thrown every suspenseful cliché in the book at this nonsensical story . ', 'the darker elements of misogyny and unprovoked violence suffocate the illumination created by the two daughters ', 'oozing , chilling and heart-warming ', 'stale retread ', 'filming the teeming life on the reefs ', 'an already thin story boils down to surviving invaders seeking an existent anti-virus . ', 'quite endearing . ', 'with fewer gags to break the tedium ', 'overbearing and ', 'deep deceptions ', 'things will turn out okay ', 'the paranoid claustrophobia of a submarine movie with the unsettling spookiness of the supernatural ', 'grand ', 'good-natured fun found in films like tremors ', 'betters it ', 'transfixes the audience ', 'moving and important ', 'dope ', 'an avid interest ', 'blessed with two fine , nuanced lead performances ', 'true star ', 'hampered -- no , paralyzed -- by a self-indulgent script ... ', \"is expressly for idiots who do n't care what kind of sewage they shovel into their mental gullets to simulate sustenance . \", \"is haunting ... ( it 's ) what punk rock music used to be , and what the video medium could use more of : spirit , perception , conviction \", 'which nurses plot holes gaping enough to pilot an entire olympic swim team through ', \"that 's both charming and well acted \", 'a bad blend ', 'the guy-in-a-dress genre ', 'director claude chabrol has become the master of innuendo . ', 'riveting and ', 'excruciatingly unfunny and pitifully unromantic . ', 'war movies ', 'an inuit masterpiece ', 'oscar ', 'the cliché-laden screenplay ', 'girlfriends are bad , wives are worse ', 'provide much more insight ', \", and as easy to be bored by as your abc 's , \", 'what you wish for ', 'fluid and mesmerizing ', \"... a vivid , thoughtful , unapologetically raw coming-of-age tale full of sex , drugs and rock 'n' roll . \", \"it 's a testament to the film 's considerable charm that it succeeds in entertaining , despite playing out like a feature-length sitcom replete with stereotypical familial quandaries . \", 'ransacks ', 'lacks the charisma and ability to carry the film on his admittedly broad shoulders . ', 'book report ', 'leave the theater ', 'spousal abuse ', 'the director , with his fake backdrops and stately pacing , ', 'a diverse and astonishingly articulate cast of palestinian and israeli children . ', 'anyone who suffers through this film ', 'one carried by a strong sense of humanism ', 'for all its brilliant touches , dragon loses its fire midway , nearly flickering out by its perfunctory conclusion . ', 'another entertaining romp from robert rodriguez . ', \"directed with purpose and finesse by england 's roger mitchell , who handily makes the move from pleasing , relatively lightweight commercial fare such as notting hill to commercial fare with real thematic heft . \", \"it 'll probably be in video stores by christmas \", 'funny , triumphant , ', 'underachiever ', 'a film of ideas and wry comic mayhem ', 'of moviegoers for real characters and compelling plots ', 'dime-store ruminations ', 'worth a ', \", reality shows -- reality shows for god 's sake ! \", \"whatever the movie 's sentimental , hypocritical lessons about sexism , its true colors come out in various wet t-shirt and shower scenes . \", \"'ll cry for your money back \", 'enthralling ', \"is worse : the part where nothing 's happening , or the part where something 's happening \", \"like max rothman 's future , does not work . \", 'of quirky characters and an engaging story ', 'has the thrown-together feel of a summer-camp talent show : hastily written , underrehearsed , arbitrarily plotted and ', \"making kahlo 's art a living , \", 'bad run ', 'may just end up trying to drown yourself in a lake afterwards . ', 'many pleasures ', 'is worth searching out ', 'at this time , with this cast , this movie is hopeless ', 'time bombs ', 'balances both traditional or modern stories together in a manner that one never overwhelms the other . ', 'the surface histrionics failing to compensate for the paper-thin characterizations and facile situations ', 'plumbs uncharted depths of stupidity , incoherence and sub-sophomoric sexual banter . ', \"a sour taste in one 's mouth \", 'decent performance ', '... familiar and predictable , and 4/5ths of it might as well have come from a xerox machine rather than ( writer-director ) franc . ', \"a headline-fresh thriller set among orthodox jews on the west bank , joseph cedar 's time of favor manages not only to find a compelling dramatic means of addressing a complex situation , it does so without compromising that complexity . \", 'responsible for one of the worst movies of one year ', 'appalling , shamelessly manipulative and contrived ', 'movie love ', 'human darkness ', 'understand that the idea of exploiting molestation for laughs is funny , not actually exploiting it yourself ', \"it 's too loud to shout insults at the screen \", \"'s a long way from orwell 's dark , intelligent warning cry ( 1984 ) \", 'a coming-of-age film that avoids the cartoonish clichés and sneering humor of the genre as it provides a fresh view of an old type -- ', 'the perfect movie ', \"ardently waste viewers ' time with a gobbler like this \", 'oscar-sweeping franchise predecessor ', 'it sets out with no pretensions and delivers big time ', \"see how many times they can work the words `` radical '' or `` suck '' into a sentence \", 'give you enough to feel good about ', 'unexpectedly insightful ', \"allen 's romantic comedies so pertinent and enduring \", 'is an extraordinary film , not least ', 'a doubt ', 'maudlin or ', 'with the the wisdom and humor of its subjects ', 'a party-hearty teen flick that scalds like acid . ', 'the wan , thinly sketched story ', 'provide the funniest moments in this oddly sweet comedy about jokester highway patrolmen ', 'this romantic/comedy asks the question how much souvlaki can you take before indigestion sets in . ', 'again dazzle and delight us ', 'that beneath the familiar , funny surface is a far bigger , far more meaningful story than one in which little green men come to earth for harvesting purposes ', \"aspires to be more than another `` best man '' clone by weaving a theme throughout this funny film \", \"impresses as a skillfully assembled , highly polished and professional adaptation ... just about as chilling and unsettling as ` manhunter ' was . \", 'failure to construct a story with even a trace of dramatic interest ', \"but it also comes with the laziness and arrogance of a thing that already knows it 's won . \", \"it 's a frightful vanity film that , no doubt , pays off what debt miramax felt they owed to benigni . \", 'laughed at ', ', future lizard endeavors will need to adhere more closely to the laws of laughter ', 'a philosophical void ', 'unlikable characters and a self-conscious sense ', 'intelligence or invention ', 'hot on the hardwood proves once again that a man in drag is not in and of himself funny . ', 'hopelessly juvenile ', 'shakespearean -- both in depth and breadth -- ', 'unique directing style ', 'required to give this comic slugfest some heart ', 'feel more like a non-stop cry for attention ', 'hip hop beat ', 'feel more like literary conceits than flesh-and-blood humans ', 'no explanation ', 'funniest and ', 'a chilly , remote , emotionally distant piece ... so dull that its tagline should be ', 'starts off witty and sophisticated and you ', 'a bargain-basement european pickup ', \", but what really sets the film apart is debrauwer 's refusal to push the easy emotional buttons \", 'shines on all the characters , as the direction is intelligently accomplished ', 'taps into the primal fears of young people trying to cope with the mysterious and brutal nature of adults ', 'lead a group of talented friends astray ', \"it 's just weirdness for the sake of weirdness , and where human nature should be ingratiating , it 's just grating . \", 'this gentle , mesmerizing portrait ', 'genial is the conceit , this is one of those rare pictures that you root for throughout , ', 'draws the audience into the unexplainable pain and eccentricities that are attached to the concept of loss ', 'spliced together bits and pieces of midnight run and 48 hours ( and , for that matter , shrek ) ', 'is so busy making reference to other films and trying to be other films that it fails to have a heart , mind or humor of its own ', \"it lacks the compassion , good-natured humor and the level of insight that made ( eyre 's ) first film something of a sleeper success . \", 'handles it in the most unexpected way ', 'those eternally devoted to the insanity of black will have an intermittently good time . ', 'obscenely bad ', 'devastatingly ', \"i do n't see the point \", 'comes off like a bad imitation of the bard ', 'that excites the imagination and tickles the funny bone ', 'one of its strengths ', 'of masterpiece ', 'into this dream hispanic role with a teeth-clenching gusto ', 'stiff or just plain bad ', 'makes these lives count ', 'jolts the laughs from the audience -- ', 'a delightful stimulus ', 'has no point ', 'of isolation and frustration ', 'winning shot ', 'of its music or comic antics , but through the perverse pleasure of watching disney scrape the bottom of its own cracker barrel ', 'feeling guilty for it ... then , miracle of miracles , the movie does a flip-flop . ', 'lewis ', \"that there 's no other reason why anyone should bother remembering it \", \"bogdanovich puts history in perspective and , via kirsten dunst 's remarkable performance , he showcases davies as a young woman of great charm , generosity and diplomacy . \", 'father cliché ', 'domestic tension and unhappiness ', \"the effort is sincere and the results are honest , but the film is so bleak that it 's hardly watchable \", 'called the best korean film of 2002 ', 'one of the best rock ', 'it forces you to watch people doing unpleasant things to each other and themselves ', 'of the holiday box office pie ', 'inexpressible and drab wannabe ', 'the hail of bullets , none of which ever seem to hit ', 'like an extended , open-ended poem than a traditionally structured story ', \"'s about as convincing as any other arnie musclefest , but has a little too much resonance with real world events and \", 'to hate ', 'to be mesmerised ', 'the people who loved the 1989 paradiso will prefer this new version ', 'a lot of energy ', 'for its success on a patient viewer ', 'while tattoo borrows heavily from both seven and the silence of the lambs , it manages to maintain both a level of sophisticated intrigue and human-scale characters that suck the audience in . ', \"this may be burns 's strongest film since the brothers mcmullen . \", 'turned down ', 'timely , tongue-in-cheek ', 'undramatic ', 'the pile of useless actioners ', 'morton deserves an oscar nomination . ', 'weirdly engaging and unpredictable character pieces ', 'efficiency and an affection for the period ', 'manages to accomplish what few sequels can -- it equals the original and in some ways even betters it ', 'does not work . ', \"it is n't merely offensive \", 'tell a story about the vietnam war before the pathology set in ', 'it irrigates our souls . ', 'a hint of humor ', 'with a big heart ', 'a rollicking adventure for you and all your mateys , regardless of their ages ', 'its most immediate and most obvious pleasure ', \"there are laughs aplenty , and , as a bonus , viewers do n't have to worry about being subjected to farts , urine , feces , semen , or any of the other foul substances that have overrun modern-day comedies \", 'one of those rare films that seems as though it was written for no one , but somehow manages to convince almost everyone that it was put on the screen , just for them . ', \"made a decent ` intro ' documentary \", 'makes us see familiar issues , like racism and homophobia , in a fresh way . ', 'the film goes right over the edge and kills every sense of believability ', \"a beyond-lame satire , teddy bears ' picnic ranks among the most pitiful directing debuts by an esteemed writer-actor . \", 'emotional seesawing ', \"movies with the courage to go over the top and movies that do n't care about being stupid \", \"target audience has n't graduated from junior high school \", 'this intricately structured and well-realized drama ', 'embracing ', 'the film a celluloid litmus test for the intellectual and emotional pedigree of your date and a giant step backward for a director i admire ', 'a meditation on faith and madness , frailty is blood-curdling stuff . ', 'a pretty listless collection ', 'other than its oscar-sweeping franchise predecessor ', \"almost everyone growing up believes their family must look like `` the addams family '' to everyone looking in \", 'have been called freddy gets molested by a dog ', 'moody male hustler ', 'uselessly redundant and shamelessly money-grubbing than most third-rate horror sequels ', 'the film is filled with humorous observations about the general absurdity of modern life as seen through the eyes outsiders , but deftly manages to avoid many of the condescending stereotypes that so often plague films dealing with the mentally ill ', 'which is mostly a bore ', 'an entertaining mix of period drama and flat-out farce that should please history fans ', \"suspect that you 'll be as bored watching morvern callar as the characters are in it . \", 'the problems and characters it reveals are universal and involving , and the film itself -- as well its delightful cast -- is so breezy , pretty and gifted , it really won my heart . ', 'love this movie ', '... the efforts of its star , kline , to lend some dignity to a dumb story are for naught . ', 'flat as the scruffy sands of its titular community ', 'liberal doses of dark humor , gorgeous exterior photography , and a stable-full of solid performances ', 'is badly edited , often awkwardly directed and suffers from the addition of a wholly unnecessary pre-credit sequence designed to give some of the characters a ` back story ', 'works smoothly ', 'with a creepy and dead-on performance ', \"might want to take a reality check before you pay the full ticket price to see `` simone , '' and consider a dvd rental instead . \", 'placed in the pantheon of the best of the swashbucklers ', 'a satisfyingly unsettling ride ', 'good a job as anyone ', ', smart and complicated ', 'the intimate , unguarded moments of folks who live in unusual homes -- ', 'are pretty valuable these days ', \"( i ) t 's certainly laudable that the movie deals with hot-button issues in a comedic context , but barbershop is n't as funny as it should be . \", 'that the only rip off that we were aware of ', 'beautiful to watch and ', 'accentuating ', 'no quarter to anyone seeking to pull a cohesive story out of its 2 1/2 - hour running time ', 'a wonderful ensemble cast ', 'endear ', 'the truly funny bits ', \"'s that painful . \", 'american beauty reeks ', 'clotted with heavy-handed symbolism , dime-store psychology and endless scenic shots that make 105 minutes seem twice as long ', 'without any of its sense of fun or energy ', \"be the cat 's meow \", \"'s simply stupid , irrelevant and deeply \", 'wonderland adventure , a stalker thriller , and ', 'be part of ', 'cinema history as the only movie ever ', 'comes from a renowned indian film culture that allows americans to finally revel in its splendor ', 'accomplished oscar winners ', 'of those underrated professionals who deserve but rarely receive it ', 'we find ourselves surprised at how much we care about the story ', 'an all-time low ', 'enjoyed it just ', 'reacting to it - feeling a part of its grand locations , ', \"delivered with such conviction that it 's hard not to be carried away \", 'colorful , vibrant introduction ', 'the slow parade of human frailty fascinates you ', \"famuyiwa 's feature deals with its subject matter in a tasteful , intelligent manner , rather than forcing us to endure every plot contrivance that the cliché-riddled genre can offer . \", 'a laugh between them ', 'that gradually sneaks up on the audience ', 'photographic marvel ', 'is shockingly bad and absolutely unnecessary . ', 'gets vivid performances from her cast and pulls off some deft ally mcbeal-style fantasy sequences . ', \"the result , however well-intentioned , is ironically just the sort of disposable , kitchen-sink homage that illustrates why the whole is so often less than the sum of its parts in today 's hollywood . \", 'while not for every taste , this often very funny collegiate gross-out comedy goes a long way toward restoring the luster of the national lampoon film franchise , too long reduced to direct-to-video irrelevancy . ', \"wow ' factor \", 'hashiguchi covers this territory with wit and originality , suggesting that with his fourth feature -- the first to be released in the u.s. -- a major director is emerging in world cinema . ', 'brazil-like , hyper-real satire ', 'low on both suspense and payoff ', 'find a scathing portrayal of a powerful entity strangling the life out of the people who want to believe in it the most ', 'an absolute delight for all audiences ', \"would tax einstein 's brain . \", \"'s its first sign of trouble \", \"ca n't believe anyone would really buy this stuff \", 'moonlight mile should strike a nerve in many . ', 'if ever such a dependable concept was botched in execution ', 'wedding feels a bit anachronistic . ', 'been lost in the translation this time ', 'revelatory performance ', 'the pianist like a surgeon mends a broken heart ; very meticulously but without any passion ', 'remains oddly detached ', 'that is more complex and honest than anything represented in a hollywood film ', 'nifty premise ', 'vein ', 'the wonderfully lush morvern callar is pure punk existentialism , and ', 'go down with a ship as leaky ', 'earnest movie ', 'effective enough ', \"showing us well-thought stunts or a car chase that we have n't seen 10,000 times \", 'make the film more silly than scary , like some sort of martha stewart decorating program run amok ', 'going at a rapid pace , ', 'still fun and enjoyable and ', 'a lazy exercise in bad filmmaking ', 'this thing is virtually unwatchable . ', \"'s also undeniably exceedingly clever \", 'would ever work in a mcculloch production again if they looked at how this movie turned out ', 'an entertainment destination for the general public ', 'i have ever seen , constantly pulling the rug from underneath us , seeing things from new sides , plunging deeper , getting more intense . ', \"england 's roger mitchell , who handily makes the move from pleasing \", 'to the enduring strengths of women ', 'surprisingly faithful ', 'the numerous scenes ', 'exaggerated and ', 'takes a really long , slow and dreary time ', 'improved upon the first ', 'that might have made it an exhilarating ', 'k-19 : the widowmaker is a great yarn . ', 'humorless ', 'thank ', 'just because a walk to remember ', 'bite ', 'amounts to little more than punishment . ', 'the humor is recognizably plympton ', 'likeable thanks to its cast , its cuisine and its quirky tunes . ', 'makes piecing the story together frustrating difficult ', 'a fascinating , compelling story ', \"the film 's hero is a bore and his innocence soon becomes a questionable kind of inexcusable dumb innocence \", 'a fascinating , dark thriller that keeps you hooked on the delicious pulpiness of its lurid fiction . ', 'whimsical and relevant today ', 'see the it ', 'tackles the difficult subject of grief and loss ', 'grotesque narcissism ', 'funny and sad ', \"is , arguably , the most accomplished work to date from hong kong 's versatile stanley kwan . \", 'it wore me down ', 'be so stupid ', 'as refreshing ', 'what we get in feardotcom is more like something from a bad clive barker movie . ', 'has created a brilliant motion picture . ', 'from the clumsy cliché of the ugly american ', 'a beautiful food entrée ', \"us a slice of life that 's very different from our own and yet instantly recognizable \", 'the passive-aggressive psychology of co-dependence ', \"his story ends or just ca n't tear himself away from the characters \", 'does not live up to its style ', 'scenes of cinematic perfection ', \"love liza 's tale \", \"the type of film about growing up that we do n't see often enough these days : realistic , urgent \", \"first , for a movie that tries to be smart , it 's kinda dumb . \", 'go see this delightful comedy . ', 'worst sense ', 'propelled by the acting ', 'presents us with an action movie that actually has a brain . ', 'human nature is a goofball movie , in the way that malkovich was , but it tries too hard ', 'overplayed ', 'should be poignant ', \"'' feels capable of charming the masses with star power , a pop-induced score and sentimental moments that have become a spielberg trademark . \", 'visceral and dangerously honest revelations about the men and machines behind the curtains of our planet ', 'kirshner and monroe seem to be in a contest to see who can out-bad-act the other . ', 'mug shots ', 'the barbarism of ` ethnic cleansing ', 'another masterpiece ', 'an incredibly layered and stylistic film ', 'a classic story ', 'daring ', \"wo n't feel cheated by the high infidelity of unfaithful . \", 'haute ', \"convey a strong sense of the girls ' environment . \", 'ugly and ', 'a journey spanning nearly three decades of bittersweet camaraderie and history , in which we feel that we truly know what makes holly and marina tick ', 'any insight ', \"a well-intentioned effort that 's still too burdened by the actor 's offbeat sensibilities for the earnest emotional core to emerge with any degree of accessibility . \", 'passionate , tumultuous affair ', 'the kind of under-inspired , overblown enterprise that gives hollywood sequels a bad name ', 'an enjoyable experience . ', \"'ve had more interesting -- and , dare i say , thematically complex -- bowel movements than this long-on-the-shelf , point-and-shoot exercise in gimmicky crime drama . \", 'is a greater attention to the parents -- and particularly the fateful fathers -- in the emotional evolution of the two bewitched adolescents . ', 'well to cram earplugs ', 'who is simply tired ', \"it 's the little nuances that perhaps had to escape from director mark romanek 's self-conscious scrutiny to happen , that finally get under your skin \", 'both convincing and radiant ', 'smart and dark - ', 'emaciated flick ', 'jim brown treats his women -- as dumb , credulous , unassuming , subordinate subjects ', 'point at things that explode into flame ', 'jolts the laughs from the audience ', 'heralds something special ', \"has n't escaped the rut dug by the last one \", 'a perfect performance ', 'this cinema verite speculation on the assassination of john f. kennedy may have been inspired by blair witch , but it takes its techniques into such fresh territory that the film never feels derivative ', 'an unsuccessful attempt at a movie ', 'sometimes confusing ', 'superlative ', 'buy the soundtrack ', \"'s sharply comic and surprisingly touching , \", 'a soap-opera quality twist in the last 20 minutes ... almost puts the kibosh on what is otherwise a sumptuous work of b-movie imagination . ', 'to change hackneyed concepts when it comes to dreaming up romantic comedies ', 'the folly of superficiality that is itself ', 'lumbering load ', 'a 95-minute commercial for nba properties ', 'though many of these guys are less than adorable ', 'peels layers from this character that may well not have existed on paper . ', 'is deadly dull ', 'inferior ', 'big-hearted and frequently ', 'striking deep chords of sadness ', 'laughs aplenty ', \"schaeffer is n't in this film , which may be why it works as well as it does . \", 'loud , ugly , irritating movie ', 'is impressive for the sights and sounds of the wondrous beats the world has to offer ', 'the scorpion king more than ably ', 'make a pretty good team ', 'lags badly in the middle and lurches between not-very-funny comedy , unconvincing dramatics and some last-minute action strongly reminiscent of run lola run ', 'does a great combination act as narrator , jewish grandmother and subject -- taking us through a film that is part biography , part entertainment and part history . ', 'bill plympton , the animation master ', 'impossible task ', 'that in a good way ', 'a watch that makes time go faster rather than ', 'very best pictures ', \"lack their idol 's energy and passion for detail \", 'and church meetings ', 'than in creating an emotionally complex , dramatically satisfying heroine ', 'compassionate ', \"will find in these characters ' foibles a timeless and unique perspective \", 'hugely entertaining from start to finish , featuring a fall from grace that still leaves shockwaves ', 'an ebullient affection ', 'somehow snagged an oscar nomination ', 'manages to show the gentle and humane side of middle eastern world politics ', \"` realistic ' \", 'nicely done ', 'a summer of good stuff ', 'the satire is just too easy to be genuinely satisfying . ', 'sustains ', 'neither is it as smart ', 'fare , with enough creative energy and wit to entertain all ages ', 'the movie is powerful and provocative . ', \"time literally stops on a dime in the tries-so-hard-to-be-cool `` clockstoppers , '' but that does n't mean it still wo n't feel like the longest 90 minutes of your movie-going life \", 'sharp edges and a deep vein of sadness ', \"those who do n't entirely ` get ' godard 's distinctive discourse will still come away with a sense of his reserved but existential poignancy . \", \"not only are the film 's sopranos gags incredibly dated and unfunny , they also demonstrate how desperate the makers of this ` we 're - doing-it-for - the-cash ' sequel were . \", \"'n safe as to often play like a milquetoast movie of the week blown up for the big screen \", 'like to skip but film buffs should get to know ', 'narrative discipline ', 'samuel l. jackson ', 'is this films reason for being . ', \"the old saying goes , because it 's true \", 'take any 12-year-old boy to see this picture ', 'aims for poetry and ends up sounding like satire ', 'come close to the level of intelligence and visual splendor that can be seen in other films ', 'embracing than monty ', 'is it hokey ', \"as assaults on america 's knee-jerk moral sanctimony \", \"that 's hardly any fun to watch \", \"get caught up in the thrill of the company 's astonishing growth \", \"it 's on par with the first one \", 'is moody , oozing , chilling and heart-warming all at once ', 'is an accuracy of observation in the work of the director , frank novak , that keeps the film grounded in an undeniable social realism ', 'is in the right place , his plea for democracy and civic action laudable ', 'above most of its ilk ', 'with spy kids 2 : the island of lost dreams , however , robert rodriguez adorns his family-film plot with an elegance and maturity that even most contemporary adult movies are lacking . ', 'from kevin kline who unfortunately works with a two star script ', 'change watching such a character , especially when rendered in as flat and ', \"i do n't think so . \", 'devotees of star trek ii : the wrath of khan will feel a nagging sense of deja vu , and the grandeur of the best next generation episodes is lacking ', 'is always a joy to watch , even when her material is not first-rate ', 'great to see this turd squashed under a truck , preferably a semi ', 'bile , and irony ', 'a faulty premise , ', 'haphazardness ', 'the plot grows thin soon , ', 'beloved-major ', 'by no means a great movie , but it is a refreshingly forthright one . ', 'crossing-over mumbo jumbo ', 'virtually unwatchable ', 'its premise is smart , but ', \"was amused and entertained by the unfolding of bielinsky 's cleverly constructed scenario , and greatly impressed by the skill of the actors involved in the enterprise . \", \"who seem bound and determined to duplicate bela lugosi 's now-cliched vampire accent \", 'light-hearted ', 'heavy with flabby rolls of typical toback machinations . ', 'to show us a good time ', 'pitiful , slapdash disaster . ', \"is one of the year 's best \", 'even witty ', 'a fierce dance ', 'crippled ', 'this piece of crap ', '... the lady and the duke surprisingly manages never to grow boring ... which proves that rohmer still has a sense of his audience . ', 'the most wondrous love story in years , it is a great film . ', 'its story about a young chinese woman , ah na , who has come to new york city to replace past tragedy with the american dream ', 'particularly impressive ', 'in the process comes out looking like something wholly original ', 'submerging ', 'nearly as fresh or enjoyable ', 'miserable and smug ', 'my great pleasure ', 'it all unfolds predictably , and the adventures that happen along the way seem repetitive and designed to fill time , providing no real sense of suspense . ', 'fascinating , dark thriller ', \"more of the same from taiwanese auteur tsai ming-liang , which is good news to anyone who 's fallen under the sweet , melancholy spell of this unique director 's previous films . \", 'down the reality drain ', 'the only way to tolerate this insipid , brutally clueless film might be with a large dose of painkillers . ', 'a historic scandal ', \"that 's steeped in mystery and a ravishing , baroque beauty \", \"cool stuff packed into espn 's ultimate x. \", 'idea ( of middle-aged romance ) is not handled well and , except for the fine star performances ', 'their lamentations are pretty much self-centered ', 'a pretty decent kid-pleasing , ', 'of classic romantic comedy to which it aspires ', ', bigelow demonstrates a breadth of vision and an attention to detail that propels her into the upper echelons of the directing world . ', 'is the refreshingly unhibited enthusiasm that the people , in spite of clearly evident poverty and hardship , bring to their music ', \"would n't have taken the protagonists a full hour to determine that in order to kill a zombie you must shoot it in the head \", 'give a pretty good overall picture of the situation in laramie following the murder of matthew shepard ', 'the fine line between cheese and earnestness remarkably well ', 'a documentary fails to live up to -- or offer any new insight into -- its chosen topic ', 'serious movie-goers embarking upon this journey ', 'insistent and repetitive ', 'nausea ', 'of survival wrapped in the heart-pounding suspense of a stylish psychological thriller ', 'no art ', 'seems to exist only for its climactic setpiece ', 'more silly than scary ', \"'s funny . \", 'its execution and skill ', \"'s coherent , well shot , and tartly \", 'you wish you were at home watching that movie instead of in the theater watching this one ', \"'s no point in extracting the bare bones of byatt 's plot for purposes of bland hollywood romance \", 'underdeveloped ', 'the jokes are flat ', 'a heartening tale of small victories ', 'suspense , intriguing characters and bizarre bank robberies , ', 'a gritty police thriller with all the dysfunctional family dynamics one could wish for ', 'with a wonderful ensemble cast of characters that bring the routine day to day struggles of the working class to life ', 'nonetheless appreciates the art and reveals a music scene that transcends culture and race . ', 'do we really need the tiger beat version ? ', 'the disadvantage of also looking cheap ', 'churn out one mediocre movie after another ', 'once folks started hanging out at the barbershop , they never wanted to leave . ', 'this movie is a phlegmatic bore , so tedious it makes the silly spy vs. spy film the sum of all fears , starring ben affleck , seem downright hitchcockian . ', \"cheapo animation ( like saturday morning tv in the '60s ) , a complex sword-and-sorcery plot and characters who all have big round eyes and japanese names \", 'sexual and romantic ', 'what begins brightly ', 'then just fell apart ', 'despite its dry wit and compassion , the film suffers from a philosophical emptiness and maddeningly sedate pacing . ', 'every top-notch british actor ', 'is awful . ', 'a deft sense of humor about itself , a playful spirit and a game cast ', 'will nevertheless find moving ', 'great ', \"like `` horrible '' and `` terrible \", 'provide an intense experience ', 'is off-putting ', 'gets bogged down over 140 minutes . ', ', this nicholas nickleby finds itself in reduced circumstances -- and , also like its hero , it remains brightly optimistic , coming through in the end . ', 'a pack of dogs who are smarter than him ', 'this is a very funny , heartwarming film . ', 'with such provocative material ', 'this film biggest problem ? ', 'with all the dysfunctional family dynamics one could wish for ', 'stylish and ', \"it 's lost the politics and the social observation and become just another situation romance about a couple of saps stuck in an inarticulate screenplay . \", 'measured against practically any like-themed film other than its oscar-sweeping franchise predecessor ', \"are the uneven performances by the cast members , who seem bound and determined to duplicate bela lugosi 's now-cliched vampire accent \", 'it plainly has no business going ', 'a larger-than-life figure , ', 'is truly gorgeous to behold ', 'devos and cassel have tremendous chemistry -- ', 'the most affecting depictions of a love affair ', 'stereotypical caretakers ', \"be surprised at the variety of tones in spielberg 's work \", \"made eddie murphy a movie star and the man has n't aged a day . \", 'yet permits laughter ', 'marked by acute writing and a host of splendid performances . ', 'some serious suspense ', \"waster ' \", 'an eerily suspenseful , deeply absorbing piece that works as a treatise on spirituality as well as a solid sci-fi thriller ', 'salton sea surprisingly engrossing ', 'no place for this story to go but down ', 'can open the door to liberation . ', 'are credited with the cliché-laden screenplay ', 'another best of the year selection . ', 'flat , ', 'exceptional lead performances ', 'positive impression ', \"much of what 's on saturday morning tv especially the pseudo-educational stuff we all ca n't stand \", 'that heralds something special ', 'muddled , simplistic and more than a little pretentious . ', 'dreamy ', 'the animated sequences are well done and perfectly constructed to convey a sense of childhood imagination ', 'the qualities ', 'than losers ', 'comedy that takes an astonishingly condescending attitude toward women ', 'flashy , overlong soap ', 'get the impression that writer and director burr steers knows the territory ', \"'s good to see michael caine whipping out the dirty words and punching people in the stomach again . \", 'sweetheart ', 'by no means a slam-dunk and sure to ultimately disappoint the action fans who will be moved to the edge of their seats by the dynamic first act ', 'it still works . ', 'some writer dude , i think his name was , uh , michael zaidan , was supposed to have like written the screenplay or something , but , dude ', 'a well paced and satisfying little drama ', 'begin to tell you how tedious , how resolutely unamusing , how thoroughly unrewarding all of this is , and what a reckless squandering of four fine acting talents ', 'loves ', ', dopey old ', 'because it was so endlessly , grotesquely , inventive ', 'wrenching performances ', 'kids , spirit ', \"the star who helped give a spark to `` chasing amy '' and `` changing lanes '' falls flat as thinking man cia agent jack ryan in this summer 's new action film , `` the sum of all fears \", 'escapes the precious trappings of most romantic comedies , infusing into the story very real ', \"trouble every day is a success in some sense , but it 's hard to like a film so cold and dead \", 'quickly becomes a tiresome cliché ', 'unlike so many other hollywood movies of its ilk ', 'a perceptive , good-natured movie ', 'keep the movie slaloming through its hackneyed elements with enjoyable ease ', 'be completely forgettable ', \"it 's nice to see piscopo again after all these years \", 'low-brow humor , gratuitous violence ', 'the best of a growing strain of daring films ', 'gripping portrait ', \"it 's actually watchable \", 'an ebullient tunisian film about the startling transformation of a tradition-bound widow who is drawn into the exotic world of belly dancing . ', 'a bland animated sequel ', 'his films ', \"a stab at soccer hooliganism , a double-barreled rip-off of quentin tarantino 's climactic shootout -- and \", 'festival ', 'trouble every day is a plodding mess . ', 'to be consumed and forgotten ', ', the screenplay by billy ray and terry george leaves something to be desired . ', 'its one-sidedness ', ', thought-provoking film ', 'uneven film ', \"is n't heated properly , so that it ends up \", 'takes off in totally unexpected directions and ', 'tried as a war criminal ', 'is a genre-curling crime story that revives the free-wheeling noir spirit of old french cinema . ', 'can only point the way -- but thank goodness for this signpost ', 'to make such a worthless film ', 'a celebrated wonder in the spotlight ', 'devoid of any of the qualities that made the first film so special . ', 'a technically superb film , ', \"a waterlogged version of ` fatal attraction ' for the teeny-bopper set ... \", 'to maintain both a level of sophisticated intrigue and human-scale characters that suck the audience in ', 'what a reckless squandering ', 'assured , glossy and shot through with brittle desperation ', 'off-beat and fanciful ', 'its exquisite acting , inventive screenplay , mesmerizing music , and ', 'like one long , meandering sketch inspired by the works of john waters and todd solondz , rather than a fully developed story ', 'by the ensemble cast , the flat dialogue by vincent r. nebrida or the gutless direction by laurice guillen ', 'time-consuming ', 'charlotte sometimes is a gem . ', \"is n't nearly surprising or clever enough to sustain a reasonable degree of suspense on its own \", \"so skeeved out that they 'd need a shower \", 'can outgag any of those young whippersnappers making moving pictures today ', \"a little too ponderous to work as shallow entertainment , not remotely incisive enough to qualify as drama , monsoon wedding serves mostly to whet one 's appetite for the bollywood films . \", 'epic treatment of a nationwide blight ', 'fresh-faced ', 'the profoundly devastating events of one year ago and the slow , painful healing process that has followed in their wake ', 'mr. nelson has made a film that is an undeniably worthy and devastating experience . ', \"the film 's desire to be liked sometimes undermines the possibility for an exploration of the thornier aspects of the nature/nurture argument in regards to homosexuality . \", 'worth a recommendation ', 'bigger ', 'our best achievements and other times ', 'sandra bullock and hugh grant make a great team , ', \"everything 's serious , poetic , earnest and -- sadly -- dull . \", 'in private ', 'has a caffeinated , sloppy brilliance , sparkling with ideas you wish had been developed with more care , but ', 'of anti-semitism ever seen on screen ', \"ends with a story that is so far-fetched it would be impossible to believe if it were n't true \", 'makes the banger sisters a fascinating character study with laughs to spare ', 'invigorating about ', \"'s mildly entertaining , \", \"it 's about family \", 'life and love ', 'questionable ', 'a twist ', 'with leonine power ', 'quiet , patient and tenacious as mr. lopez himself ', 'gaps in their relationships ', \"we 've seen the hippie-turned-yuppie plot before , but \", \"it 's supposed to be a romantic comedy - it suffers from too much norma rae and not enough pretty woman . \", 'badly edited ', 'run out of clever ideas and visual gags about halfway through ', 'i am baffled by jason x. ', 'to set and shoot a movie at the cannes film festival ', 'a smoother , more focused ', 'is not first-rate ', 'are relegated to the background -- a welcome step forward from the sally jesse raphael atmosphere of films like philadelphia and american beauty . ', 'zealand coming-of-age movie ', \"dramatize life 's messiness from inside out , in all its strange quirks \", 'p.t. anderson understands the grandness of romance and how love is the great equalizer that can calm us of our daily ills and bring out joys in our lives that we never knew were possible ', 'rises above superficiality . ', \"a sort of geriatric dirty harry , which will please eastwood 's loyal fans -- and suits the story , wherein our hero must ride roughshod over incompetent cops to get his man \", 'comes across as a fairly weak retooling . ', 'masterful british actor ian holm ', 'the hearts and minds ', 'conventional -- lots of boring talking heads , etc. -- to do the subject matter justice ', 'deemed important enough to make a film in which someone has to be hired to portray richard dawson ', 'blab ', 'is standard crime drama fare ... instantly forgettable and thoroughly dull . ', '-- that you should never forget ', 'has little to do with the story , which becomes something about how lame it is to try and evade your responsibilities and that you should never , ever , leave a large dog alone with a toddler ', 'more than ably ', 'and a terrible story ', \"'s that painful \", 'is a monumental achievement ', 'a zippy 96 minutes of mediocre special effects , hoary dialogue , fluxing accents , and -- worst of all -- silly-looking morlocks . ', 'comedic writing ', 'humorous and touching . ', 'of logic and misuse of two fine actors , morgan freeman and ashley judd ', \"it 's easy to love robin tunney \", \"i like that smith , he 's not making fun of these people , he 's not laughing at them . \", 'a guilty-pleasure , daytime-drama sort ', ', the grey zone attempts to be grandiloquent , but ends up merely pretentious -- in a grisly sort of way . ', 'what little atmosphere is generated by the shadowy lighting , macabre sets , and endless rain is offset by the sheer ugliness of everything else . ', 'more graceful way ', 'an uninspired preachy and clichéd war film . ', 'will turn out ', \"it 's the worst movie i 've seen this summer \", 'perfect material ', 'one of the most frantic , virulent and foul-natured christmas season pics ever delivered by a hollywood studio ', \"( seagal 's ) strenuous attempt at a change in expression \", \"gooding is the energetic frontman , and it 's hard to resist his enthusiasm , even if the filmmakers come up with nothing original in the way of slapstick sequences . \", 'promisingly but disintegrates into a dreary , humorless soap opera . ', 'offbeat humor , amusing characters , and a happy ending ', 'in a grisly sort of way ', 'nothing going for it other than its exploitive array of obligatory cheap ', 'more frustrating ', 'lacks both a purpose and a strong pulse ', 'there are laughs aplenty , and ', \"lifted from terry gilliam 's subconscious , pressed through kafka 's meat grinder and into buñuel 's casings \", 'of sleaziness '], 'label': [0, 0, 1, 0, 0, 0, 1, 1, 0, 1, 0, 0, 0, 0, 0, 1, 0, 1, 0, 1, 1, 1, 1, 1, 0, 1, 0, 1, 1, 0, 0, 1, 0, 0, 0, 1, 1, 1, 0, 1, 0, 0, 0, 1, 0, 1, 1, 0, 1, 0, 0, 1, 0, 1, 0, 0, 0, 1, 1, 0, 1, 0, 0, 0, 0, 1, 0, 0, 0, 1, 0, 0, 1, 0, 0, 1, 0, 0, 0, 1, 1, 1, 1, 1, 1, 0, 1, 1, 1, 1, 0, 1, 0, 1, 1, 1, 0, 1, 1, 1, 1, 1, 0, 1, 0, 1, 0, 0, 1, 1, 0, 1, 1, 1, 0, 0, 0, 0, 1, 0, 1, 0, 0, 0, 1, 0, 1, 1, 1, 0, 1, 0, 1, 0, 0, 1, 1, 1, 0, 0, 1, 1, 1, 0, 0, 1, 0, 1, 0, 1, 1, 0, 1, 1, 0, 0, 1, 1, 1, 0, 1, 0, 0, 1, 1, 0, 1, 1, 1, 0, 1, 1, 1, 0, 1, 0, 1, 1, 0, 1, 0, 0, 1, 0, 1, 1, 0, 0, 1, 0, 0, 1, 1, 0, 0, 0, 1, 1, 0, 0, 0, 1, 0, 0, 0, 1, 1, 0, 1, 0, 0, 0, 1, 0, 0, 1, 1, 1, 0, 1, 1, 0, 0, 1, 1, 1, 0, 0, 0, 1, 1, 1, 1, 0, 1, 0, 0, 0, 0, 1, 1, 0, 0, 1, 0, 1, 1, 0, 0, 0, 0, 0, 0, 0, 0, 1, 0, 0, 0, 1, 0, 1, 0, 0, 0, 1, 1, 1, 1, 1, 0, 0, 0, 0, 1, 0, 1, 1, 1, 0, 1, 1, 1, 1, 0, 1, 0, 1, 1, 1, 1, 1, 1, 0, 1, 1, 1, 0, 0, 0, 1, 1, 0, 1, 0, 1, 0, 0, 1, 1, 1, 1, 1, 0, 0, 0, 0, 0, 0, 1, 0, 1, 1, 0, 1, 1, 0, 0, 1, 1, 0, 1, 1, 0, 0, 1, 1, 0, 1, 1, 1, 0, 1, 0, 0, 1, 0, 1, 1, 0, 0, 1, 0, 1, 1, 0, 1, 0, 1, 1, 0, 1, 0, 1, 0, 1, 1, 1, 0, 1, 1, 1, 0, 1, 1, 0, 0, 0, 1, 1, 1, 1, 1, 0, 0, 0, 1, 1, 1, 1, 0, 1, 1, 0, 0, 0, 1, 1, 1, 0, 0, 1, 1, 0, 0, 1, 1, 0, 1, 1, 1, 0, 1, 1, 0, 0, 0, 1, 0, 0, 1, 1, 0, 1, 0, 0, 1, 1, 1, 1, 0, 0, 0, 0, 0, 0, 0, 0, 1, 0, 1, 0, 0, 0, 1, 1, 1, 0, 1, 0, 0, 1, 1, 1, 0, 1, 0, 1, 0, 1, 1, 0, 0, 1, 0, 0, 0, 0, 0, 1, 1, 1, 1, 1, 0, 0, 0, 1, 0, 1, 0, 1, 0, 0, 0, 1, 1, 1, 1, 1, 1, 1, 1, 1, 1, 1, 0, 0, 1, 0, 1, 0, 1, 1, 1, 0, 0, 1, 1, 0, 0, 1, 0, 1, 1, 1, 1, 0, 0, 0, 0, 0, 0, 1, 0, 1, 0, 1, 1, 0, 1, 0, 1, 1, 0, 1, 0, 0, 0, 1, 0, 0, 1, 0, 1, 0, 0, 1, 1, 0, 0, 1, 0, 0, 0, 1, 0, 1, 0, 0, 1, 0, 0, 0, 0, 1, 1, 0, 1, 1, 0, 1, 1, 1, 1, 0, 0, 1, 0, 0, 1, 0, 1, 1, 1, 1, 0, 0, 0, 1, 0, 0, 0, 1, 0, 0, 1, 1, 0, 0, 1, 0, 0, 1, 0, 1, 0, 1, 1, 1, 1, 0, 1, 1, 1, 0, 0, 0, 1, 1, 0, 0, 0, 0, 1, 1, 1, 1, 0, 1, 1, 1, 0, 0, 1, 0, 1, 1, 0, 1, 0, 0, 0, 1, 1, 1, 1, 0, 0, 1, 0, 0, 1, 1, 1, 1, 1, 1, 0, 1, 0, 0, 1, 1, 1, 1, 0, 0, 1, 1, 1, 1, 1, 1, 1, 1, 1, 1, 0, 0, 0, 1, 0, 1, 1, 0, 1, 0, 1, 1, 0, 0, 0, 1, 0, 1, 0, 1, 1, 0, 0, 1, 0, 1, 1, 0, 1, 1, 1, 1, 0, 1, 0, 0, 1, 1, 0, 1, 1, 1, 0, 0, 0, 0, 1, 0, 1, 1, 1, 1, 1, 1, 1, 0, 1, 1, 1, 1, 1, 1, 1, 1, 1, 0, 1, 0, 1, 1, 1, 1, 0, 1, 1, 0, 0, 0, 1, 0, 0, 0, 1, 0, 0, 1, 1, 1, 1, 0, 1, 1, 1, 0, 1, 1, 0, 0, 1, 0, 1, 1, 1, 1, 1, 1, 0, 0, 1, 1, 1, 0, 1, 1, 0, 0, 1, 1, 0, 1, 0, 1, 1, 1, 1, 0, 1, 1, 0, 0, 1, 0, 1, 0, 1, 1, 0, 1, 0, 1, 1, 1, 0, 1, 0, 1, 1, 0, 0, 0, 1, 1, 0, 0, 0, 1, 1, 1, 1, 1, 0, 1, 0, 1, 1, 0, 1, 0, 1, 0, 1, 0, 0, 0, 1, 1, 0, 0, 0, 1, 1, 0, 1, 1, 0, 0, 1, 1, 1, 0, 0, 0, 0, 0, 0, 1, 0, 0, 1, 1, 1, 1, 0, 1, 1, 1, 0, 1, 1, 0, 1, 1, 1, 0, 1, 1, 1, 1, 1, 1, 0, 1, 1, 1, 1, 0, 1, 0, 1, 1, 0, 1, 1, 0, 0, 1, 1, 1, 1, 1, 1, 0, 0, 1, 0, 0, 0, 1, 1, 1, 1, 1, 1, 1, 0, 0, 0, 0, 1, 0, 0, 0, 0, 0, 1, 1, 0, 0, 1, 1, 0, 1, 0, 1, 0, 1, 1, 1, 0, 0, 1, 1, 1, 1, 1, 1, 1, 0, 1, 0, 1, 1, 0, 0, 0, 1, 1, 0, 0, 1, 1, 1, 1, 0, 1, 1, 0, 1, 0, 0, 1, 0, 0, 0, 1, 1, 1, 0, 0, 0, 0, 1, 1, 1, 1, 1, 0, 0, 0, 1, 0, 0, 1, 1, 0, 0, 1, 0, 1, 1, 1, 0, 1, 0, 0, 1, 0, 1, 1, 0, 1, 1, 0, 1, 0, 0, 1, 1, 1, 1, 0, 1, 1, 1, 1, 1, 0, 1, 1, 0, 1, 0, 1, 0, 1, 1, 0, 1, 0, 1, 1, 1, 0, 0, 0, 1, 1, 1, 0, 1, 1, 1, 0, 1, 0, 1, 1, 1, 0, 1, 0, 0, 1, 1, 1, 0, 1, 0, 1, 1, 1, 1, 0, 1, 0, 1, 0, 0, 0, 0, 1, 0, 0, 1, 0, 1, 1, 0, 1, 0, 1, 0, 1, 0, 1, 1, 1, 0, 0, 0, 1, 0, 1, 1, 0, 1, 1, 0, 1, 0, 1, 1, 1, 1, 0, 1, 1, 0, 0, 1, 1, 1, 1, 1, 0, 1, 1, 1, 0, 0, 0, 0, 0, 0, 1, 1, 0, 1, 1, 1, 1, 1, 1, 0, 1, 1, 0, 1, 0, 0, 1, 0, 1, 0, 0, 1, 0, 1, 1, 0, 1, 1, 1, 0, 0, 1, 0, 1, 0, 1, 0, 0, 1, 0, 1, 0, 0, 0, 0, 1, 1, 0], 'idx': [0, 1, 2, 3, 4, 5, 6, 7, 8, 9, 10, 11, 12, 13, 14, 15, 16, 17, 18, 19, 20, 21, 22, 23, 24, 25, 26, 27, 28, 29, 30, 31, 32, 33, 34, 35, 36, 37, 38, 39, 40, 41, 42, 43, 44, 45, 46, 47, 48, 49, 50, 51, 52, 53, 54, 55, 56, 57, 58, 59, 60, 61, 62, 63, 64, 65, 66, 67, 68, 69, 70, 71, 72, 73, 74, 75, 76, 77, 78, 79, 80, 81, 82, 83, 84, 85, 86, 87, 88, 89, 90, 91, 92, 93, 94, 95, 96, 97, 98, 99, 100, 101, 102, 103, 104, 105, 106, 107, 108, 109, 110, 111, 112, 113, 114, 115, 116, 117, 118, 119, 120, 121, 122, 123, 124, 125, 126, 127, 128, 129, 130, 131, 132, 133, 134, 135, 136, 137, 138, 139, 140, 141, 142, 143, 144, 145, 146, 147, 148, 149, 150, 151, 152, 153, 154, 155, 156, 157, 158, 159, 160, 161, 162, 163, 164, 165, 166, 167, 168, 169, 170, 171, 172, 173, 174, 175, 176, 177, 178, 179, 180, 181, 182, 183, 184, 185, 186, 187, 188, 189, 190, 191, 192, 193, 194, 195, 196, 197, 198, 199, 200, 201, 202, 203, 204, 205, 206, 207, 208, 209, 210, 211, 212, 213, 214, 215, 216, 217, 218, 219, 220, 221, 222, 223, 224, 225, 226, 227, 228, 229, 230, 231, 232, 233, 234, 235, 236, 237, 238, 239, 240, 241, 242, 243, 244, 245, 246, 247, 248, 249, 250, 251, 252, 253, 254, 255, 256, 257, 258, 259, 260, 261, 262, 263, 264, 265, 266, 267, 268, 269, 270, 271, 272, 273, 274, 275, 276, 277, 278, 279, 280, 281, 282, 283, 284, 285, 286, 287, 288, 289, 290, 291, 292, 293, 294, 295, 296, 297, 298, 299, 300, 301, 302, 303, 304, 305, 306, 307, 308, 309, 310, 311, 312, 313, 314, 315, 316, 317, 318, 319, 320, 321, 322, 323, 324, 325, 326, 327, 328, 329, 330, 331, 332, 333, 334, 335, 336, 337, 338, 339, 340, 341, 342, 343, 344, 345, 346, 347, 348, 349, 350, 351, 352, 353, 354, 355, 356, 357, 358, 359, 360, 361, 362, 363, 364, 365, 366, 367, 368, 369, 370, 371, 372, 373, 374, 375, 376, 377, 378, 379, 380, 381, 382, 383, 384, 385, 386, 387, 388, 389, 390, 391, 392, 393, 394, 395, 396, 397, 398, 399, 400, 401, 402, 403, 404, 405, 406, 407, 408, 409, 410, 411, 412, 413, 414, 415, 416, 417, 418, 419, 420, 421, 422, 423, 424, 425, 426, 427, 428, 429, 430, 431, 432, 433, 434, 435, 436, 437, 438, 439, 440, 441, 442, 443, 444, 445, 446, 447, 448, 449, 450, 451, 452, 453, 454, 455, 456, 457, 458, 459, 460, 461, 462, 463, 464, 465, 466, 467, 468, 469, 470, 471, 472, 473, 474, 475, 476, 477, 478, 479, 480, 481, 482, 483, 484, 485, 486, 487, 488, 489, 490, 491, 492, 493, 494, 495, 496, 497, 498, 499, 500, 501, 502, 503, 504, 505, 506, 507, 508, 509, 510, 511, 512, 513, 514, 515, 516, 517, 518, 519, 520, 521, 522, 523, 524, 525, 526, 527, 528, 529, 530, 531, 532, 533, 534, 535, 536, 537, 538, 539, 540, 541, 542, 543, 544, 545, 546, 547, 548, 549, 550, 551, 552, 553, 554, 555, 556, 557, 558, 559, 560, 561, 562, 563, 564, 565, 566, 567, 568, 569, 570, 571, 572, 573, 574, 575, 576, 577, 578, 579, 580, 581, 582, 583, 584, 585, 586, 587, 588, 589, 590, 591, 592, 593, 594, 595, 596, 597, 598, 599, 600, 601, 602, 603, 604, 605, 606, 607, 608, 609, 610, 611, 612, 613, 614, 615, 616, 617, 618, 619, 620, 621, 622, 623, 624, 625, 626, 627, 628, 629, 630, 631, 632, 633, 634, 635, 636, 637, 638, 639, 640, 641, 642, 643, 644, 645, 646, 647, 648, 649, 650, 651, 652, 653, 654, 655, 656, 657, 658, 659, 660, 661, 662, 663, 664, 665, 666, 667, 668, 669, 670, 671, 672, 673, 674, 675, 676, 677, 678, 679, 680, 681, 682, 683, 684, 685, 686, 687, 688, 689, 690, 691, 692, 693, 694, 695, 696, 697, 698, 699, 700, 701, 702, 703, 704, 705, 706, 707, 708, 709, 710, 711, 712, 713, 714, 715, 716, 717, 718, 719, 720, 721, 722, 723, 724, 725, 726, 727, 728, 729, 730, 731, 732, 733, 734, 735, 736, 737, 738, 739, 740, 741, 742, 743, 744, 745, 746, 747, 748, 749, 750, 751, 752, 753, 754, 755, 756, 757, 758, 759, 760, 761, 762, 763, 764, 765, 766, 767, 768, 769, 770, 771, 772, 773, 774, 775, 776, 777, 778, 779, 780, 781, 782, 783, 784, 785, 786, 787, 788, 789, 790, 791, 792, 793, 794, 795, 796, 797, 798, 799, 800, 801, 802, 803, 804, 805, 806, 807, 808, 809, 810, 811, 812, 813, 814, 815, 816, 817, 818, 819, 820, 821, 822, 823, 824, 825, 826, 827, 828, 829, 830, 831, 832, 833, 834, 835, 836, 837, 838, 839, 840, 841, 842, 843, 844, 845, 846, 847, 848, 849, 850, 851, 852, 853, 854, 855, 856, 857, 858, 859, 860, 861, 862, 863, 864, 865, 866, 867, 868, 869, 870, 871, 872, 873, 874, 875, 876, 877, 878, 879, 880, 881, 882, 883, 884, 885, 886, 887, 888, 889, 890, 891, 892, 893, 894, 895, 896, 897, 898, 899, 900, 901, 902, 903, 904, 905, 906, 907, 908, 909, 910, 911, 912, 913, 914, 915, 916, 917, 918, 919, 920, 921, 922, 923, 924, 925, 926, 927, 928, 929, 930, 931, 932, 933, 934, 935, 936, 937, 938, 939, 940, 941, 942, 943, 944, 945, 946, 947, 948, 949, 950, 951, 952, 953, 954, 955, 956, 957, 958, 959, 960, 961, 962, 963, 964, 965, 966, 967, 968, 969, 970, 971, 972, 973, 974, 975, 976, 977, 978, 979, 980, 981, 982, 983, 984, 985, 986, 987, 988, 989, 990, 991, 992, 993, 994, 995, 996, 997, 998, 999, 1000, 1001, 1002, 1003, 1004, 1005, 1006, 1007, 1008, 1009, 1010, 1011, 1012, 1013, 1014, 1015, 1016, 1017, 1018, 1019, 1020, 1021, 1022, 1023, 1024, 1025, 1026, 1027, 1028, 1029, 1030, 1031, 1032, 1033, 1034, 1035, 1036, 1037, 1038, 1039, 1040, 1041, 1042, 1043, 1044, 1045, 1046, 1047, 1048, 1049, 1050, 1051, 1052, 1053, 1054, 1055, 1056, 1057, 1058, 1059, 1060, 1061, 1062, 1063, 1064, 1065, 1066, 1067, 1068, 1069, 1070, 1071, 1072, 1073, 1074, 1075, 1076, 1077, 1078, 1079, 1080, 1081, 1082, 1083, 1084, 1085, 1086, 1087, 1088, 1089, 1090, 1091, 1092, 1093, 1094, 1095, 1096, 1097, 1098, 1099, 1100, 1101, 1102, 1103, 1104, 1105, 1106, 1107, 1108, 1109, 1110, 1111, 1112, 1113, 1114, 1115, 1116, 1117, 1118, 1119, 1120, 1121, 1122, 1123, 1124, 1125, 1126, 1127, 1128, 1129, 1130, 1131, 1132, 1133, 1134, 1135, 1136, 1137, 1138, 1139, 1140, 1141, 1142, 1143, 1144, 1145, 1146, 1147, 1148, 1149, 1150, 1151, 1152, 1153, 1154, 1155, 1156, 1157, 1158, 1159, 1160, 1161, 1162, 1163, 1164, 1165, 1166, 1167, 1168, 1169, 1170, 1171, 1172, 1173, 1174, 1175, 1176, 1177, 1178, 1179, 1180, 1181, 1182, 1183, 1184, 1185, 1186, 1187, 1188, 1189, 1190, 1191, 1192, 1193, 1194, 1195, 1196, 1197, 1198, 1199]}\n"
          ]
        }
      ]
    },
    {
      "cell_type": "code",
      "source": [
        "class sentimentDataset(Dataset):\n",
        "\n",
        "    def __init__(self, split=\"train\", truncation=-1):\n",
        "\n",
        "\n",
        "        self.truncation = truncation  # int. If -1, then\n",
        "\n",
        "        sst = datasets.load_dataset('glue', 'sst2')\n",
        "        trainSplit = sst['train'][:1200]\n",
        "        df = pd.DataFrame({'sentence':trainSplit['sentence'],'label':trainSplit['label']})\n",
        "\n",
        "        # Train / test split\n",
        "        train, val = train_test_split(df, test_size=0.2, random_state=40, stratify=df.label)\n",
        "        if split == \"train\":\n",
        "            raw_data = train\n",
        "        else:\n",
        "            raw_data = val\n",
        "\n",
        "        # Tokenize\n",
        "        self.tokenizer = BPETokenizer()\n",
        "        self.data = []  # List of 1-d pytorch tensor\n",
        "        for x in raw_data.sentence:\n",
        "          y = raw_data[raw_data['sentence']==x].label\n",
        "          tokenized = self.tokenizer(x).view(-1)  # pytorch tensor\n",
        "          if truncation >= 0:\n",
        "            self.data.append((tokenized[:truncation],int(y)))\n",
        "          else:\n",
        "            self.data.append((tokenized,int(y)))\n",
        "\n",
        "        # Count some items\n",
        "        self.max_sentence_length = 512\n",
        "\n",
        "    def __len__(self):\n",
        "        return len(self.data)\n",
        "\n",
        "    def get_vocab_size(self):\n",
        "        \"\"\"\n",
        "        We have to set this to the max vocab size (i.e., that decided by the BPE tokenizer),\n",
        "        but actually, only a small number of vocab is used, especially for the small text.\n",
        "        \"\"\"\n",
        "        return len(self.tokenizer.encoder.encoder.items())\n",
        "\n",
        "    def __getitem__(self, idx):\n",
        "        \"\"\"\n",
        "        The output should be a tuple x and y, both as pytorch tensors.\n",
        "        Please refer to the `run()` method in the mingpt/trainer.py script for\n",
        "        how the x and y are going to be used.\n",
        "        \"\"\"\n",
        "        x = self.data[idx][0]\n",
        "        y = self.data[idx][-1]\n",
        "        return (x, y)\n",
        "\n",
        "    def get_block_size(self):\n",
        "        \"\"\"\n",
        "        block_size is the size at which lines are truncated to ensure they are equal-length.\n",
        "        \"\"\"\n",
        "        return self.max_sentence_length\n",
        "\n",
        "train_dataset = sentimentDataset(split=\"train\") #use this for long\n",
        "\n",
        "val_dataset = sentimentDataset(split=\"validation\")"
      ],
      "metadata": {
        "id": "U83g-tTIyTF2",
        "colab": {
          "base_uri": "https://localhost:8080/"
        },
        "outputId": "26772a77-9c1c-4c2f-c28f-0f4f224939b3"
      },
      "execution_count": null,
      "outputs": [
        {
          "output_type": "stream",
          "name": "stdout",
          "text": [
            "downloading https://openaipublic.blob.core.windows.net/gpt-2/models/124M/encoder.json to /root/.cache/mingpt/encoder.json\n",
            "downloading https://openaipublic.blob.core.windows.net/gpt-2/models/124M/vocab.bpe to /root/.cache/mingpt/vocab.bpe\n"
          ]
        }
      ]
    },
    {
      "cell_type": "code",
      "source": [
        "print(train_dataset)"
      ],
      "metadata": {
        "colab": {
          "base_uri": "https://localhost:8080/"
        },
        "id": "J6LfRH9MQIpR",
        "outputId": "fa4e6099-ab2b-409d-b114-0a49570a5abc"
      },
      "execution_count": null,
      "outputs": [
        {
          "output_type": "stream",
          "name": "stdout",
          "text": [
            "<__main__.sentimentDataset object at 0x7f3e5cd7ae60>\n"
          ]
        }
      ]
    },
    {
      "cell_type": "code",
      "source": [
        "def lm_collate_fn(batch, device):\n",
        "    x = [item[0] for item in batch]  # List (len B) of varying lengths\n",
        "    y = [item[1] for item in batch]  # List (len B) of the same lengths as x\n",
        "    maxlen = max([len(s) for s in x])\n",
        "\n",
        "    padded_x = []\n",
        "    for sx in x:\n",
        "        padded_x.append(torch.cat([sx, torch.ones(maxlen - len(sx))]))\n",
        "\n",
        "    return torch.stack(padded_x).long().to(device), torch.as_tensor(y).long().to(device)"
      ],
      "metadata": {
        "id": "1j0g1ZUfgisR"
      },
      "execution_count": null,
      "outputs": []
    },
    {
      "cell_type": "code",
      "source": [
        "from mingpt.model import GPT\n",
        "\n",
        "model_config = GPT.get_default_config()\n",
        "model_config.model_type = 'gpt-nano'\n",
        "model_config.vocab_size = train_dataset.get_vocab_size()\n",
        "model_config.block_size = train_dataset.get_block_size()\n",
        "model_config.n_classification_class = 2\n",
        "model = GPT(model_config)"
      ],
      "metadata": {
        "colab": {
          "base_uri": "https://localhost:8080/"
        },
        "id": "AMkaddxz_7iT",
        "outputId": "178a10e7-101e-4852-b7c3-9f5e14fb3899"
      },
      "execution_count": null,
      "outputs": [
        {
          "output_type": "stream",
          "name": "stdout",
          "text": [
            "number of parameters: 2.52M\n"
          ]
        }
      ]
    },
    {
      "cell_type": "code",
      "source": [
        "# Create a Trainer object and set the core hyper-parameters\n",
        "from mingpt.trainer import Trainer\n",
        "\n",
        "train_config = Trainer.get_default_config()\n",
        "train_config.learning_rate = 5e-4 # the model we're using is so small that we can go a bit faster\n",
        "train_config.max_iters = 3000  # For small corpus: 3000 iterations is plenty. For large corpus: 100000 iterations is needed\n",
        "train_config.num_workers = 0\n",
        "train_config.batch_size = 240    # For small corpus, batch size of 4 is fine.  For large corpus use 16\n",
        "trainer = Trainer(train_config, model, train_dataset, val_dataset, downstream_finetune=True, collate_fn=lm_collate_fn)"
      ],
      "metadata": {
        "colab": {
          "base_uri": "https://localhost:8080/"
        },
        "id": "ID75EEbuDxzW",
        "outputId": "2bc9d8e3-9890-4c05-be86-f4fae2561d46"
      },
      "execution_count": null,
      "outputs": [
        {
          "output_type": "stream",
          "name": "stdout",
          "text": [
            "running on device cpu\n"
          ]
        }
      ]
    },
    {
      "cell_type": "code",
      "source": [
        "def batch_end_callback(trainer):\n",
        "    if trainer.iter_num % 100 == 0:\n",
        "        print(f\"iter_dt {trainer.iter_dt * 1000:.2f}ms; iter {trainer.iter_num}: train loss {trainer.loss.item():.5f}\")\n",
        "trainer.set_callback('on_batch_end', batch_end_callback)\n",
        "\n",
        "# Train!\n",
        "trainer.run()"
      ],
      "metadata": {
        "colab": {
          "base_uri": "https://localhost:8080/"
        },
        "id": "dSiIuXpPE5Lr",
        "outputId": "222ead64-010a-4495-de1b-f977994e0630"
      },
      "execution_count": null,
      "outputs": [
        {
          "output_type": "stream",
          "name": "stdout",
          "text": [
            "iter_dt 0.00ms; iter 0: train loss 0.69113\n",
            "iter_dt 764.87ms; iter 100: train loss 0.08651\n",
            "iter_dt 796.84ms; iter 200: train loss 0.00355\n",
            "iter_dt 776.75ms; iter 300: train loss 0.01921\n",
            "iter_dt 918.73ms; iter 400: train loss 0.01800\n",
            "iter_dt 1189.61ms; iter 500: train loss 0.00133\n",
            "iter_dt 616.26ms; iter 600: train loss 0.00175\n",
            "iter_dt 882.44ms; iter 700: train loss 0.00004\n",
            "iter_dt 755.86ms; iter 800: train loss 0.00003\n",
            "iter_dt 818.85ms; iter 900: train loss 0.00001\n",
            "iter_dt 811.71ms; iter 1000: train loss 0.00002\n",
            "iter_dt 1053.46ms; iter 1100: train loss 0.00001\n",
            "iter_dt 1005.41ms; iter 1200: train loss 0.00000\n",
            "iter_dt 644.57ms; iter 1300: train loss 0.00000\n",
            "iter_dt 614.52ms; iter 1400: train loss 0.00000\n",
            "iter_dt 647.86ms; iter 1500: train loss 0.00000\n",
            "iter_dt 833.11ms; iter 1600: train loss 0.00002\n",
            "iter_dt 1050.58ms; iter 1700: train loss 0.00000\n",
            "iter_dt 874.56ms; iter 1800: train loss 0.00000\n",
            "iter_dt 835.62ms; iter 1900: train loss 0.00000\n",
            "iter_dt 735.03ms; iter 2000: train loss 0.00000\n",
            "iter_dt 771.09ms; iter 2100: train loss 0.00000\n",
            "iter_dt 716.34ms; iter 2200: train loss 0.00000\n",
            "iter_dt 783.87ms; iter 2300: train loss 0.00000\n",
            "iter_dt 873.57ms; iter 2400: train loss 0.00000\n",
            "iter_dt 699.68ms; iter 2500: train loss 0.00000\n",
            "iter_dt 772.82ms; iter 2600: train loss 0.00000\n",
            "iter_dt 540.67ms; iter 2700: train loss 0.00000\n",
            "iter_dt 639.13ms; iter 2800: train loss 0.00000\n",
            "iter_dt 605.84ms; iter 2900: train loss 0.00000\n"
          ]
        }
      ]
    },
    {
      "cell_type": "code",
      "source": [
        "import matplotlib.pyplot as plt"
      ],
      "metadata": {
        "id": "CXwkv6tyj8ci"
      },
      "execution_count": null,
      "outputs": []
    },
    {
      "cell_type": "code",
      "source": [
        "plt.plot(trainer.totalLoss, label='Train Loss')\n",
        "plt.plot(trainer.totalTestLoss, label='Validation Loss')\n",
        "plt.plot(trainer.totalAccuray, label='Accuray')\n",
        "plt.legend()"
      ],
      "metadata": {
        "colab": {
          "base_uri": "https://localhost:8080/",
          "height": 447
        },
        "id": "XUBox9GDjg54",
        "outputId": "6a3a6ae4-2ee1-4364-cc56-f344f7007a75"
      },
      "execution_count": null,
      "outputs": [
        {
          "output_type": "execute_result",
          "data": {
            "text/plain": [
              "<matplotlib.legend.Legend at 0x78542367c7c0>"
            ]
          },
          "metadata": {},
          "execution_count": 14
        },
        {
          "output_type": "display_data",
          "data": {
            "text/plain": [
              "<Figure size 640x480 with 1 Axes>"
            ],
            "image/png": "[encoded data removed]"
          },
          "metadata": {}
        }
      ]
    },
    {
      "cell_type": "code",
      "source": [
        "max(trainer.totalAccuray)"
      ],
      "metadata": {
        "colab": {
          "base_uri": "https://localhost:8080/"
        },
        "id": "xItEyRGn278j",
        "outputId": "161fd58c-b865-4aeb-f144-6b93827a867c"
      },
      "execution_count": null,
      "outputs": [
        {
          "output_type": "execute_result",
          "data": {
            "text/plain": [
              "0.7958333333333333"
            ]
          },
          "metadata": {},
          "execution_count": 15
        }
      ]
    },
    {
      "cell_type": "code",
      "source": [
        "trainer.totalAccuray[-1]"
      ],
      "metadata": {
        "colab": {
          "base_uri": "https://localhost:8080/"
        },
        "id": "1zwmKAFn2lZI",
        "outputId": "53696ff9-8a9f-4448-d6df-b518c3aa6e09"
      },
      "execution_count": null,
      "outputs": [
        {
          "output_type": "execute_result",
          "data": {
            "text/plain": [
              "0.7125"
            ]
          },
          "metadata": {},
          "execution_count": 16
        }
      ]
    },
    {
      "cell_type": "code",
      "source": [
        "plt.plot(trainer.totalLoss, label='Train Loss')"
      ],
      "metadata": {
        "colab": {
          "base_uri": "https://localhost:8080/",
          "height": 447
        },
        "id": "NwmuW3HpnpXX",
        "outputId": "ea3af643-04c9-4963-b2f7-c5979ba5dd44"
      },
      "execution_count": null,
      "outputs": [
        {
          "output_type": "execute_result",
          "data": {
            "text/plain": [
              "[<matplotlib.lines.Line2D at 0x78542129bfd0>]"
            ]
          },
          "metadata": {},
          "execution_count": 17
        },
        {
          "output_type": "display_data",
          "data": {
            "text/plain": [
              "<Figure size 640x480 with 1 Axes>"
            ],
            "image/png": "[encoded data removed]"
          },
          "metadata": {}
        }
      ]
    },
    {
      "cell_type": "code",
      "source": [
        "plt.plot(trainer.totalTestLoss, label='Accuray')"
      ],
      "metadata": {
        "colab": {
          "base_uri": "https://localhost:8080/",
          "height": 447
        },
        "id": "KWRnFtqp3MZu",
        "outputId": "cce6a57d-3b7f-4414-df7b-1850c43bfe25"
      },
      "execution_count": null,
      "outputs": [
        {
          "output_type": "execute_result",
          "data": {
            "text/plain": [
              "[<matplotlib.lines.Line2D at 0x78542113afe0>]"
            ]
          },
          "metadata": {},
          "execution_count": 18
        },
        {
          "output_type": "display_data",
          "data": {
            "text/plain": [
              "<Figure size 640x480 with 1 Axes>"
            ],
            "image/png": "[encoded data removed]"
          },
          "metadata": {}
        }
      ]
    },
    {
      "cell_type": "code",
      "source": [
        "plt.plot(trainer.totalAccuray, label='Accuray')"
      ],
      "metadata": {
        "colab": {
          "base_uri": "https://localhost:8080/",
          "height": 447
        },
        "id": "5jfKuEyMkPiU",
        "outputId": "7e1b159a-d764-4d9f-809c-461d04fe78d9"
      },
      "execution_count": null,
      "outputs": [
        {
          "output_type": "execute_result",
          "data": {
            "text/plain": [
              "[<matplotlib.lines.Line2D at 0x7854211cd8d0>]"
            ]
          },
          "metadata": {},
          "execution_count": 19
        },
        {
          "output_type": "display_data",
          "data": {
            "text/plain": [
              "<Figure size 640x480 with 1 Axes>"
            ],
            "image/png": "[encoded data removed]"
          },
          "metadata": {}
        }
      ]
    }
  ]
}