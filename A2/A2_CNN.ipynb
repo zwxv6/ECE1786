{
  "nbformat": 4,
  "nbformat_minor": 0,
  "metadata": {
    "colab": {
      "provenance": []
    },
    "kernelspec": {
      "name": "python3",
      "display_name": "Python 3"
    },
    "language_info": {
      "name": "python"
    }
  },
  "cells": [
    {
      "cell_type": "code",
      "execution_count": null,
      "metadata": {
        "id": "zPiYjeUPhBsa",
        "colab": {
          "base_uri": "https://localhost:8080/"
        },
        "outputId": "df8e9a10-7cc3-4ce1-9dbc-0ad1cd180d3b"
      },
      "outputs": [
        {
          "output_type": "stream",
          "name": "stderr",
          "text": [
            ".vector_cache/glove.6B.zip: 862MB [02:38, 5.43MB/s]                           \n",
            "100%|█████████▉| 399999/400000 [00:28<00:00, 14086.74it/s]\n"
          ]
        }
      ],
      "source": [
        "import torch\n",
        "import torchtext\n",
        "from torchtext import data\n",
        "import torch.optim as optim\n",
        "import argparse\n",
        "import os\n",
        "import pandas as pd\n",
        "from sklearn.model_selection import train_test_split\n",
        "import numpy as np\n",
        "import matplotlib.pyplot as plt\n",
        "import torch.nn.functional as F\n",
        "import random\n",
        "\n",
        "# 3.3.1\n",
        "# The first time you run this will download a 862MB size file to .vector_cache/glove.6B.zip\n",
        "glove = torchtext.vocab.GloVe(name=\"6B\",dim=100) # embedding size = 100"
      ]
    },
    {
      "cell_type": "code",
      "source": [
        "def splitData():\n",
        "  df = pd.read_table('/content/data.tsv')\n",
        "\n",
        "  train, test = train_test_split(df, test_size=0.2, random_state=40, stratify=df.label)\n",
        "  training, validation = train_test_split(train, test_size=0.2, random_state=40, stratify=train.label)\n",
        "\n",
        "  print('length of text of train set:',len(training.text))\n",
        "  print('length of label of train set:',len(training.label))\n",
        "  print('length of text of test set:',len(test.text))\n",
        "  print('length of label of test set:',len(test.label))\n",
        "  print('length of text of validation set:',len(validation.text))\n",
        "  print('length of label of validation set:',len(validation.label))\n",
        "  print('===========')\n",
        "  print('length of label 0 of train set:',len(training[training['label']==0]))\n",
        "  print('length of label 1 of train set:',len(training[training['label']==1]))\n",
        "  print('length of label 0 of validation set:',len(validation[validation['label']==0]))\n",
        "  print('length of label 1 of validation set:',len(validation[validation['label']==1]))\n",
        "  print('length of label 0 of test set:',len(test[test['label']==0]))\n",
        "  print('length of label 1 of test set:',len(test[test['label']==1]))\n",
        "  print('===========')\n",
        "  df3=pd.merge(training,test, how='inner')\n",
        "  print('Do train set and test set have the same sample? ', not df3.empty)\n",
        "  df4=pd.merge(training,validation, how='inner')\n",
        "  print('Do train set and validation set have the same sample? ', not df4.empty)\n",
        "  df5=pd.merge(test,validation, how='inner')\n",
        "  print('Do test set and validation set have the same sample? ', not df5.empty)\n",
        "\n",
        "  overFit = df.sample(n=50)\n",
        "  overFit.to_csv('overfit.tsv', sep=\"\\t\")\n",
        "  training.to_csv('train.tsv', sep=\"\\t\")\n",
        "  test.to_csv('test.tsv', sep=\"\\t\")\n",
        "  validation.to_csv('validation.tsv', sep=\"\\t\")"
      ],
      "metadata": {
        "id": "tE4CFXgTrIYy"
      },
      "execution_count": null,
      "outputs": []
    },
    {
      "cell_type": "code",
      "source": [
        "# please upload data.tsv into colab\n",
        "splitData()"
      ],
      "metadata": {
        "colab": {
          "base_uri": "https://localhost:8080/"
        },
        "id": "xe7nkCGsrKkP",
        "outputId": "df66b788-a5eb-47bb-fbaf-7cc13bd5fb6d"
      },
      "execution_count": null,
      "outputs": [
        {
          "output_type": "stream",
          "name": "stdout",
          "text": [
            "length of text of train set: 6400\n",
            "length of label of train set: 6400\n",
            "length of text of test set: 2000\n",
            "length of label of test set: 2000\n",
            "length of text of validation set: 1600\n",
            "length of label of validation set: 1600\n",
            "===========\n",
            "length of label 0 of train set: 3200\n",
            "length of label 1 of train set: 3200\n",
            "length of label 0 of validation set: 800\n",
            "length of label 1 of validation set: 800\n",
            "length of label 0 of test set: 1000\n",
            "length of label 1 of test set: 1000\n",
            "===========\n",
            "Do train set and test set have the same sample?  False\n",
            "Do train set and validation set have the same sample?  False\n",
            "Do test set and validation set have the same sample?  False\n"
          ]
        }
      ]
    },
    {
      "cell_type": "code",
      "source": [
        "class TextDataset(torch.utils.data.Dataset):\n",
        "  # TextDataset is Described in Section 3.3 of Assignment 2\n",
        "    def __init__(self, vocab, split=\"train\"):\n",
        "        data_path = \"data\"\n",
        "        df = pd.read_csv(os.path.join(data_path, f\"{split}.tsv\"), sep=\"\\t\")\n",
        "\n",
        "        # X: torch.tensor (maxlen, batch_size), padded indices\n",
        "        # Y: torch.tensor of len N\n",
        "        X, Y = [], []\n",
        "        V = len(vocab.vectors)\n",
        "        for i, row in df.iterrows():\n",
        "            L = row[\"text\"].split()\n",
        "            X.append(torch.tensor([vocab.stoi.get(w, V-1) for w in L]))  # Use the last word in the vocab as the \"out-of-vocabulary\" token\n",
        "            Y.append(row.label)\n",
        "        self.X = X\n",
        "        self.Y = torch.tensor(Y)\n",
        "\n",
        "    def __len__(self):\n",
        "        return len(self.X)\n",
        "\n",
        "    def __getitem__(self, idx):\n",
        "        return self.X[idx], self.Y[idx]"
      ],
      "metadata": {
        "id": "6QgfmZAtrVnw"
      },
      "execution_count": null,
      "outputs": []
    },
    {
      "cell_type": "code",
      "source": [
        "# my_collate_function prepares batches\n",
        "# it also pads each batch with zeroes.\n",
        "def my_collate_function(batch, device):\n",
        "    # Handle the padding here\n",
        "    # batch is approximately: [dataset[i] for i in range(0, batch_size)]\n",
        "    # Since the dataset[i]'s contents is defined in the __getitem__() above, this collate function\n",
        "    # should be set correspondingly.\n",
        "    # Also: collate_function just takes one argument. To pass in additional arguments (e.g., device),\n",
        "    # we need to wrap up an anonymous function (using lambda below)\n",
        "    batch_x, batch_y = [], []\n",
        "    max_len = 0\n",
        "    for x,y in batch:\n",
        "        batch_y.append(y)\n",
        "        max_len = max(max_len, len(x))\n",
        "    for x,y in batch:\n",
        "        x_p = torch.concat(\n",
        "            [x, torch.zeros(max_len - len(x))]\n",
        "        )\n",
        "        batch_x.append(x_p)\n",
        "    return torch.stack(batch_x).t().int().to(device), torch.tensor(batch_y).to(device)"
      ],
      "metadata": {
        "id": "1S2RMQporWlz"
      },
      "execution_count": null,
      "outputs": []
    },
    {
      "cell_type": "code",
      "source": [
        "class CNNModel(torch.nn.Module):\n",
        "  def __init__(self, vocab,k1,k2,n1,n2):\n",
        "    super().__init__()\n",
        "    self.k1 = (k1, 100)\n",
        "    self.k2 = (k2, 100)\n",
        "    self.n1 = n1\n",
        "    self.n2 = n2\n",
        "    self.probabilityFunction = torch.nn.Sigmoid()\n",
        "\n",
        "    self.embedding = torch.nn.Embedding.from_pretrained(vocab.vectors)\n",
        "\n",
        "    self.conv1 = torch.nn.Conv2d(in_channels=1, out_channels=self.n1, kernel_size=self.k1, bias=False)\n",
        "    self.bn1 = torch.nn.BatchNorm2d(self.n1)\n",
        "    self.maxpool1 = torch.nn.AdaptiveMaxPool2d(output_size=(1, 1))\n",
        "\n",
        "    self.conv2 = torch.nn.Conv2d(in_channels=1, out_channels=self.n2, kernel_size=self.k2, bias=False)\n",
        "    self.bn2 = torch.nn.BatchNorm2d(self.n2)\n",
        "    self.maxpool2 = torch.nn.AdaptiveMaxPool2d(output_size=(1, 1))\n",
        "\n",
        "    self.out = torch.nn.Linear(self.n1+self.n2, 1)\n",
        "\n",
        "  def forward(self, x):\n",
        "    e = self.embedding(x)\n",
        "    input = torch.transpose(e, 0, 1).unsqueeze(1)\n",
        "    x1 = self.conv1(input)\n",
        "    x1 = F.relu(x1)\n",
        "    x1 = self.bn1(x1)\n",
        "    x1 = self.maxpool1(x1)\n",
        "\n",
        "    x2 = self.conv2(input)\n",
        "    x2 = F.relu(x2)\n",
        "    x2 = self.bn2(x2)\n",
        "    x2 = self.maxpool2(x2)\n",
        "\n",
        "    concatenate = torch.cat((x1, x2), dim=1)\n",
        "    output = self.out(concatenate.squeeze())\n",
        "    logits = self.probabilityFunction(output)\n",
        "\n",
        "    return logits.reshape([-1])"
      ],
      "metadata": {
        "id": "o3eAPjd7kz6X"
      },
      "execution_count": null,
      "outputs": []
    },
    {
      "cell_type": "markdown",
      "source": [
        "part 5.1"
      ],
      "metadata": {
        "id": "uYubgv92tnlM"
      }
    },
    {
      "cell_type": "code",
      "source": [
        "def overfitTest(epochs,batchSize,learningRate,k1,k2,n1,n2):\n",
        "    #   fix seed\n",
        "    torch.manual_seed(2)\n",
        "\n",
        "    device = torch.device('cuda' if torch.cuda.is_available() else 'cpu')\n",
        "    print (\"Using device:\", device)\n",
        "\n",
        "    overfit_dataset = TextDataset(glove, \"overfit\")\n",
        "\n",
        "    overfit_dataloader = torch.utils.data.DataLoader(\n",
        "        dataset=overfit_dataset,\n",
        "        batch_size=batchSize,\n",
        "        shuffle=False,\n",
        "        collate_fn=lambda batch: my_collate_function(batch, device))\n",
        "\n",
        "    model = CNNModel(glove,k1=k1,k2=k2,n1=n1,n2=n2)\n",
        "    optimizer = torch.optim.Adam(params=model.parameters(), lr=learningRate)\n",
        "    lossFunction = torch.nn.BCEWithLogitsLoss()\n",
        "    probabilityFunction = torch.nn.Sigmoid()\n",
        "\n",
        "    totalLoss = []\n",
        "    totalAccuray = []\n",
        "\n",
        "    for i in range(epochs):\n",
        "      currentEpochLoss = 0\n",
        "      numbers = 0\n",
        "      currentAccuray = 0\n",
        "      for X_overfit, y_overfit in overfit_dataloader:\n",
        "        optimizer.zero_grad()\n",
        "        logits = model(x=X_overfit)\n",
        "        currentLoss = lossFunction(logits, y_overfit.float())\n",
        "        currentEpochLoss = currentEpochLoss + currentLoss\n",
        "        currentLoss.backward()\n",
        "        optimizer.step()\n",
        "\n",
        "        probability = probabilityFunction(logits)\n",
        "        probability = torch.maximum(probability, torch.tensor([1e-5]))\n",
        "        probability = torch.minimum(probability, torch.tensor([0.99999]))\n",
        "        Y_pred = torch.round(probability)\n",
        "\n",
        "        n = 0\n",
        "        for eachy_test in y_overfit:\n",
        "          if eachy_test.item() == Y_pred[n]:\n",
        "            currentAccuray  = currentAccuray + 1\n",
        "          n = n + 1\n",
        "        numbers = numbers + len(Y_pred)\n",
        "\n",
        "      totalEpochAccuray = currentAccuray/numbers\n",
        "      totalAccuray.append(totalEpochAccuray)\n",
        "\n",
        "      averageCurrentEpochLoss = currentEpochLoss/len(overfit_dataloader)\n",
        "      totalLoss.append(averageCurrentEpochLoss.item())\n",
        "\n",
        "    return totalLoss, totalAccuray"
      ],
      "metadata": {
        "id": "oVS7iMgzrcUv"
      },
      "execution_count": null,
      "outputs": []
    },
    {
      "cell_type": "code",
      "source": [
        "# please create a folder called 'data' in colab and put 'overfit.tsv' 'train.tsv' 'test.tsv' 'validation.tsv' into 'data' folder\n",
        "totalLossO, totalAccurayO = overfitTest(1500,4,0.001,2,4,50,50)\n",
        "print(totalAccurayO[-1])\n",
        "plt.plot(totalLossO, label='Overfit Loss')\n",
        "plt.plot(totalAccurayO, label='Accuray')\n",
        "plt.legend()"
      ],
      "metadata": {
        "colab": {
          "base_uri": "https://localhost:8080/",
          "height": 482
        },
        "id": "f_DfE5Ukrdw6",
        "outputId": "4893ec3e-b099-45f6-91f8-ef7556e35008"
      },
      "execution_count": null,
      "outputs": [
        {
          "output_type": "stream",
          "name": "stdout",
          "text": [
            "Using device: cpu\n",
            "1.0\n"
          ]
        },
        {
          "output_type": "execute_result",
          "data": {
            "text/plain": [
              "<matplotlib.legend.Legend at 0x7d80372cb370>"
            ]
          },
          "metadata": {},
          "execution_count": 24
        },
        {
          "output_type": "display_data",
          "data": {
            "text/plain": [
              "<Figure size 640x480 with 1 Axes>"
            ],
            "image/png": "[encoded data removed]"
          },
          "metadata": {}
        }
      ]
    },
    {
      "cell_type": "markdown",
      "source": [
        "part 5.2.1"
      ],
      "metadata": {
        "id": "WwYKnyqhtzrl"
      }
    },
    {
      "cell_type": "code",
      "source": [
        "def main(epochs,batchSize,learningRate,k1,k2,n1,n2):\n",
        "    #   fix seed\n",
        "    torch.manual_seed(2)\n",
        "\n",
        "    device = torch.device('cuda' if torch.cuda.is_available() else 'cpu')\n",
        "    print (\"Using device:\", device)\n",
        "\n",
        "    ### 3.3 Processing of the data ###\n",
        "\n",
        "\n",
        "    # 3.3.2\n",
        "\n",
        "    train_dataset = TextDataset(glove, \"train\")\n",
        "    val_dataset = TextDataset(glove, \"validation\")\n",
        "    test_dataset = TextDataset(glove, \"test\")\n",
        "\n",
        "    # 3.3.3\n",
        "    train_dataloader = torch.utils.data.DataLoader(\n",
        "        dataset=train_dataset,\n",
        "        batch_size=batchSize,\n",
        "        shuffle=False,\n",
        "        collate_fn=lambda batch: my_collate_function(batch, device))\n",
        "    validation_dataloader = torch.utils.data.DataLoader(\n",
        "        dataset=val_dataset,\n",
        "        batch_size=batchSize,\n",
        "        shuffle=False,\n",
        "        collate_fn=lambda batch: my_collate_function(batch, device))\n",
        "\n",
        "    test_dataloader = torch.utils.data.DataLoader(\n",
        "        dataset=test_dataset,\n",
        "        batch_size=batchSize,\n",
        "        shuffle=False,\n",
        "        collate_fn=lambda batch: my_collate_function(batch, device))\n",
        "\n",
        "    # Instantiate your model(s) and train them and so on\n",
        "    # We suggest parameterizing the model - k1, n1, k2, n2, and other hyperparameters\n",
        "    # so that it is easier to experiment with\n",
        "\n",
        "    #4.3\n",
        "    model = CNNModel(glove,k1=k1,k2=k2,n1=n1,n2=n2)\n",
        "    optimizer = torch.optim.Adam(params=model.parameters(), lr=learningRate)\n",
        "    lossFunction = torch.nn.BCEWithLogitsLoss()\n",
        "    probabilityFunction = torch.nn.Sigmoid()\n",
        "\n",
        "    totalLoss = []\n",
        "    totalTestLoss = []\n",
        "    totalValidationLoss = []\n",
        "    totalAccuray = []\n",
        "\n",
        "    for i in range(epochs):\n",
        "      currentEpochLoss = 0\n",
        "      currentEpochLossV = 0\n",
        "      currentEpochLossT = 0\n",
        "      currentEpochValidationLoss = 0\n",
        "      for X_train, y_train in train_dataloader:\n",
        "        optimizer.zero_grad()\n",
        "        logits = model(x=X_train)\n",
        "        currentLoss = lossFunction(logits, y_train.float())\n",
        "        currentEpochLoss = currentEpochLoss + currentLoss\n",
        "        currentLoss.backward()\n",
        "        optimizer.step()\n",
        "\n",
        "      averageCurrentEpochLoss = currentEpochLoss/len(train_dataloader)\n",
        "      totalLoss.append(averageCurrentEpochLoss.item())\n",
        "\n",
        "      for X_validation, y_validation in validation_dataloader:\n",
        "        model.eval()\n",
        "        with torch.no_grad():\n",
        "          logitsV = model(x=X_validation)\n",
        "        currentLossV = lossFunction(logitsV, y_validation.float())\n",
        "        currentEpochLossV = currentEpochLossV + currentLossV\n",
        "\n",
        "      averageCurrentEpochLossV = currentEpochLossV/len(validation_dataloader)\n",
        "      totalValidationLoss.append(averageCurrentEpochLossV.item())\n",
        "\n",
        "    #4.5\n",
        "      currentAccuray = 0\n",
        "      numbers = 0\n",
        "      for X_test, y_test in test_dataloader:\n",
        "        model.eval()\n",
        "        with torch.no_grad():\n",
        "          logitsT = model(x=X_test)\n",
        "        currentLossT = lossFunction(logitsT, y_test.float())\n",
        "        currentEpochLossT = currentEpochLossT + currentLossT\n",
        "\n",
        "        probability = probabilityFunction(logitsT)\n",
        "        probability = torch.maximum(probability, torch.tensor([1e-5]))\n",
        "        probability = torch.minimum(probability, torch.tensor([0.99999]))\n",
        "        Y_pred = torch.round(probability)\n",
        "\n",
        "        n = 0\n",
        "        for eachy_test in y_test:\n",
        "          if eachy_test.item() == Y_pred[n]:\n",
        "            currentAccuray  = currentAccuray + 1\n",
        "          n = n + 1\n",
        "        numbers = numbers + len(Y_pred)\n",
        "\n",
        "      totalEpochAccuray = currentAccuray/numbers\n",
        "      totalAccuray.append(totalEpochAccuray)\n",
        "\n",
        "      averageCurrentEpochLossT = currentEpochLossT/len(validation_dataloader)\n",
        "      totalTestLoss.append(averageCurrentEpochLossT.item())\n",
        "\n",
        "    #4.7\n",
        "    torch.save(model.state_dict(), '/content/CNNModel')\n",
        "\n",
        "\n",
        "    return model, totalLoss, totalValidationLoss, totalTestLoss, totalAccuray"
      ],
      "metadata": {
        "id": "xly6B7r-uX7d"
      },
      "execution_count": null,
      "outputs": []
    },
    {
      "cell_type": "code",
      "source": [
        "#50,4,0.001,2,4,20,20 0.9085"
      ],
      "metadata": {
        "id": "d9zgtaBS4pw9"
      },
      "execution_count": null,
      "outputs": []
    },
    {
      "cell_type": "code",
      "source": [
        "# please create a folder called 'data' in colab and put 'overfit.tsv' 'train.tsv' 'test.tsv' 'validation.tsv' into 'data' folder\n",
        "embedding, totalLoss, totalValidationLoss, totalTestLoss, totalAccuray = main(50,4,0.001,2,4,20,20)\n",
        "plt.plot(totalLoss, label='Train Loss')\n",
        "plt.plot(totalValidationLoss, label='Validation Loss')\n",
        "plt.plot(totalTestLoss, label='Test Loss')\n",
        "plt.plot(totalAccuray, label='Accuray')\n",
        "plt.legend()"
      ],
      "metadata": {
        "colab": {
          "base_uri": "https://localhost:8080/",
          "height": 465
        },
        "id": "tBB25Ap-unt-",
        "outputId": "74843bc6-0f2e-4a34-f19a-df1de320c6fa"
      },
      "execution_count": null,
      "outputs": [
        {
          "output_type": "stream",
          "name": "stdout",
          "text": [
            "Using device: cpu\n"
          ]
        },
        {
          "output_type": "execute_result",
          "data": {
            "text/plain": [
              "<matplotlib.legend.Legend at 0x7f490a594d00>"
            ]
          },
          "metadata": {},
          "execution_count": 9
        },
        {
          "output_type": "display_data",
          "data": {
            "text/plain": [
              "<Figure size 640x480 with 1 Axes>"
            ],
            "image/png": "[encoded data removed]"
          },
          "metadata": {}
        }
      ]
    },
    {
      "cell_type": "code",
      "source": [
        "print(totalAccuray[-1])"
      ],
      "metadata": {
        "colab": {
          "base_uri": "https://localhost:8080/"
        },
        "id": "B37NFCpjwc1O",
        "outputId": "f8b6f8e9-3b4f-40c6-9762-1bb1e5a31962"
      },
      "execution_count": null,
      "outputs": [
        {
          "output_type": "stream",
          "name": "stdout",
          "text": [
            "0.9085\n"
          ]
        }
      ]
    },
    {
      "cell_type": "code",
      "source": [
        "print(max(totalAccuray))"
      ],
      "metadata": {
        "colab": {
          "base_uri": "https://localhost:8080/"
        },
        "id": "u4TyUVDZrDHp",
        "outputId": "99276fbd-da73-46fd-c36c-32df329d9c25"
      },
      "execution_count": null,
      "outputs": [
        {
          "output_type": "stream",
          "name": "stdout",
          "text": [
            "0.914\n"
          ]
        }
      ]
    },
    {
      "cell_type": "markdown",
      "source": [
        "5.2.2"
      ],
      "metadata": {
        "id": "zzRnaeuOtRfr"
      }
    },
    {
      "cell_type": "code",
      "source": [
        "class CNNModelNoFreeze(torch.nn.Module):\n",
        "  def __init__(self, vocab,k1,k2,n1,n2):\n",
        "    super().__init__()\n",
        "    self.k1 = (k1, 100)\n",
        "    self.k2 = (k2, 100)\n",
        "    self.n1 = n1\n",
        "    self.n2 = n2\n",
        "    self.probabilityFunction = torch.nn.Sigmoid()\n",
        "\n",
        "    self.embedding = torch.nn.Embedding.from_pretrained(vocab.vectors,freeze=False)\n",
        "\n",
        "    self.conv1 = torch.nn.Conv2d(in_channels=1, out_channels=self.n1, kernel_size=self.k1, bias=False)\n",
        "    self.bn1 = torch.nn.BatchNorm2d(self.n1)\n",
        "    self.maxpool1 = torch.nn.AdaptiveMaxPool2d(output_size=(1, 1))\n",
        "\n",
        "    self.conv2 = torch.nn.Conv2d(in_channels=1, out_channels=self.n2, kernel_size=self.k2, bias=False)\n",
        "    self.bn2 = torch.nn.BatchNorm2d(self.n2)\n",
        "    self.maxpool2 = torch.nn.AdaptiveMaxPool2d(output_size=(1, 1))\n",
        "\n",
        "    self.out = torch.nn.Linear(self.n1+self.n2, 1)\n",
        "\n",
        "  def forward(self, x):\n",
        "    e = self.embedding(x)\n",
        "    input = torch.transpose(e, 0, 1).unsqueeze(1)\n",
        "    x1 = self.conv1(input)\n",
        "    x1 = F.relu(x1)\n",
        "    x1 = self.bn1(x1)\n",
        "    x1 = self.maxpool1(x1)\n",
        "\n",
        "    x2 = self.conv2(input)\n",
        "    x2 = F.relu(x2)\n",
        "    x2 = self.bn2(x2)\n",
        "    x2 = self.maxpool2(x2)\n",
        "\n",
        "    concatenate = torch.cat((x1, x2), dim=1)\n",
        "    output = self.out(concatenate.squeeze())\n",
        "    logits = self.probabilityFunction(output)\n",
        "\n",
        "    return logits.reshape([-1])"
      ],
      "metadata": {
        "id": "HHYj_yVezOy-"
      },
      "execution_count": null,
      "outputs": []
    },
    {
      "cell_type": "code",
      "source": [
        "def mainNoFreeze(epochs,batchSize,learningRate,k1,k2,n1,n2):\n",
        "    #   fix seed\n",
        "    torch.manual_seed(2)\n",
        "\n",
        "    device = torch.device('cuda' if torch.cuda.is_available() else 'cpu')\n",
        "    print (\"Using device:\", device)\n",
        "\n",
        "    ### 3.3 Processing of the data ###\n",
        "\n",
        "\n",
        "    # 3.3.2\n",
        "\n",
        "    train_dataset = TextDataset(glove, \"train\")\n",
        "    val_dataset = TextDataset(glove, \"validation\")\n",
        "    test_dataset = TextDataset(glove, \"test\")\n",
        "\n",
        "    # 3.3.3\n",
        "    train_dataloader = torch.utils.data.DataLoader(\n",
        "        dataset=train_dataset,\n",
        "        batch_size=batchSize,\n",
        "        shuffle=False,\n",
        "        collate_fn=lambda batch: my_collate_function(batch, device))\n",
        "    validation_dataloader = torch.utils.data.DataLoader(\n",
        "        dataset=val_dataset,\n",
        "        batch_size=batchSize,\n",
        "        shuffle=False,\n",
        "        collate_fn=lambda batch: my_collate_function(batch, device))\n",
        "\n",
        "    test_dataloader = torch.utils.data.DataLoader(\n",
        "        dataset=test_dataset,\n",
        "        batch_size=batchSize,\n",
        "        shuffle=False,\n",
        "        collate_fn=lambda batch: my_collate_function(batch, device))\n",
        "\n",
        "    # Instantiate your model(s) and train them and so on\n",
        "    # We suggest parameterizing the model - k1, n1, k2, n2, and other hyperparameters\n",
        "    # so that it is easier to experiment with\n",
        "\n",
        "    #4.3\n",
        "    model = CNNModelNoFreeze(glove,k1=k1,k2=k2,n1=n1,n2=n2)\n",
        "    optimizer = torch.optim.Adam(params=model.parameters(), lr=learningRate)\n",
        "    lossFunction = torch.nn.BCEWithLogitsLoss()\n",
        "    probabilityFunction = torch.nn.Sigmoid()\n",
        "\n",
        "    totalLoss = []\n",
        "    totalTestLoss = []\n",
        "    totalValidationLoss = []\n",
        "    totalAccuray = []\n",
        "\n",
        "    for i in range(epochs):\n",
        "      print(i)\n",
        "      currentEpochLoss = 0\n",
        "      currentEpochLossV = 0\n",
        "      currentEpochLossT = 0\n",
        "      currentEpochValidationLoss = 0\n",
        "      for X_train, y_train in train_dataloader:\n",
        "        optimizer.zero_grad()\n",
        "        logits = model(x=X_train)\n",
        "        currentLoss = lossFunction(logits, y_train.float())\n",
        "        currentEpochLoss = currentEpochLoss + currentLoss\n",
        "        currentLoss.backward()\n",
        "        optimizer.step()\n",
        "\n",
        "      averageCurrentEpochLoss = currentEpochLoss/len(train_dataloader)\n",
        "      totalLoss.append(averageCurrentEpochLoss.item())\n",
        "\n",
        "      for X_validation, y_validation in validation_dataloader:\n",
        "        model.eval()\n",
        "        with torch.no_grad():\n",
        "          logitsV = model(x=X_validation)\n",
        "        currentLossV = lossFunction(logitsV, y_validation.float())\n",
        "        currentEpochLossV = currentEpochLossV + currentLossV\n",
        "\n",
        "      averageCurrentEpochLossV = currentEpochLossV/len(validation_dataloader)\n",
        "      totalValidationLoss.append(averageCurrentEpochLossV.item())\n",
        "\n",
        "    #4.5\n",
        "      currentAccuray = 0\n",
        "      numbers = 0\n",
        "      for X_test, y_test in test_dataloader:\n",
        "        model.eval()\n",
        "        with torch.no_grad():\n",
        "          logitsT = model(x=X_test)\n",
        "        currentLossT = lossFunction(logitsT, y_test.float())\n",
        "        currentEpochLossT = currentEpochLossT + currentLossT\n",
        "\n",
        "        probability = probabilityFunction(logitsT)\n",
        "        probability = torch.maximum(probability, torch.tensor([1e-5]))\n",
        "        probability = torch.minimum(probability, torch.tensor([0.99999]))\n",
        "        Y_pred = torch.round(probability)\n",
        "\n",
        "        n = 0\n",
        "        for eachy_test in y_test:\n",
        "          if eachy_test.item() == Y_pred[n]:\n",
        "            currentAccuray  = currentAccuray + 1\n",
        "          n = n + 1\n",
        "        numbers = numbers + len(Y_pred)\n",
        "\n",
        "      totalEpochAccuray = currentAccuray/numbers\n",
        "      totalAccuray.append(totalEpochAccuray)\n",
        "\n",
        "      averageCurrentEpochLossT = currentEpochLossT/len(validation_dataloader)\n",
        "      totalTestLoss.append(averageCurrentEpochLossT.item())\n",
        "\n",
        "    #4.7\n",
        "    torch.save(model.state_dict(), '/content/CNNNoFreezeModel')\n",
        "\n",
        "\n",
        "    return model, totalLoss, totalValidationLoss, totalTestLoss, totalAccuray"
      ],
      "metadata": {
        "id": "8XK6Ydv-0LJS"
      },
      "execution_count": null,
      "outputs": []
    },
    {
      "cell_type": "code",
      "source": [
        "# please create a folder called 'data' in colab and put 'overfit.tsv' 'train.tsv' 'test.tsv' 'validation.tsv' into 'data' folder\n",
        "embeddingNoFreeze, totalLossNoFreeze, totalValidationLossNoFreeze, totalTestLossNoFreeze, totalAccurayNoFreeze = mainNoFreeze(50,4,0.001,2,4,20,20) #n1,2-20 0.903\n",
        "plt.plot(totalLossNoFreeze, label='Train Loss')\n",
        "plt.plot(totalValidationLossNoFreeze, label='Validation Loss')\n",
        "plt.plot(totalTestLossNoFreeze, label='Test Loss')\n",
        "plt.plot(totalAccurayNoFreeze, label='Accuray')\n",
        "plt.legend()"
      ],
      "metadata": {
        "colab": {
          "base_uri": "https://localhost:8080/",
          "height": 1000
        },
        "id": "_UX9lCYG0SQn",
        "outputId": "24bb61e3-9d98-4cda-a668-06ea3f0c716b"
      },
      "execution_count": null,
      "outputs": [
        {
          "output_type": "stream",
          "name": "stdout",
          "text": [
            "Using device: cpu\n",
            "0\n",
            "1\n",
            "2\n",
            "3\n",
            "4\n",
            "5\n",
            "6\n",
            "7\n",
            "8\n",
            "9\n",
            "10\n",
            "11\n",
            "12\n",
            "13\n",
            "14\n",
            "15\n",
            "16\n",
            "17\n",
            "18\n",
            "19\n",
            "20\n",
            "21\n",
            "22\n",
            "23\n",
            "24\n",
            "25\n",
            "26\n",
            "27\n",
            "28\n",
            "29\n",
            "30\n",
            "31\n",
            "32\n",
            "33\n",
            "34\n",
            "35\n",
            "36\n",
            "37\n",
            "38\n",
            "39\n",
            "40\n",
            "41\n",
            "42\n",
            "43\n",
            "44\n",
            "45\n",
            "46\n",
            "47\n",
            "48\n",
            "49\n"
          ]
        },
        {
          "output_type": "execute_result",
          "data": {
            "text/plain": [
              "<matplotlib.legend.Legend at 0x7f56ffb6b610>"
            ]
          },
          "metadata": {},
          "execution_count": 13
        },
        {
          "output_type": "display_data",
          "data": {
            "text/plain": [
              "<Figure size 640x480 with 1 Axes>"
            ],
            "image/png": "[encoded data removed]"
          },
          "metadata": {}
        }
      ]
    },
    {
      "cell_type": "code",
      "source": [
        "print(totalAccuray[-1])"
      ],
      "metadata": {
        "colab": {
          "base_uri": "https://localhost:8080/"
        },
        "id": "EAM4iJzqko5A",
        "outputId": "210a7a16-8004-4754-9a82-f4c313751ed3"
      },
      "execution_count": null,
      "outputs": [
        {
          "output_type": "stream",
          "name": "stdout",
          "text": [
            "0.886\n"
          ]
        }
      ]
    },
    {
      "cell_type": "markdown",
      "source": [
        "5.3"
      ],
      "metadata": {
        "id": "tlJ2I-ICtV6J"
      }
    },
    {
      "cell_type": "code",
      "source": [
        "def print_closest_cosine_words(vec, n=5):\n",
        "    dists = torch.cosine_similarity(glove.vectors, vec.unsqueeze(0))# compute distances to all words\n",
        "    print(dists)\n",
        "    lst = sorted(enumerate(dists.numpy()), key=lambda x: x[1]) # sort by distance\n",
        "    for idx, difference in lst[:-n-1:-1]:                         # take the top n\n",
        "        print(glove.itos[idx], \"\\t%5.2f\" % difference)"
      ],
      "metadata": {
        "id": "djtkMeJBxOvs"
      },
      "execution_count": null,
      "outputs": []
    },
    {
      "cell_type": "code",
      "source": [
        "for g in range(0,5):\n",
        "  index = random.randint(0,len(embedding.conv1.weight))\n",
        "  print_closest_cosine_words(embedding.conv1.weight[g][0][0].detach(),5)"
      ],
      "metadata": {
        "colab": {
          "base_uri": "https://localhost:8080/"
        },
        "id": "K6RcOwTD2NLT",
        "outputId": "82706c06-268f-44ba-c2e4-0ab295068b97"
      },
      "execution_count": null,
      "outputs": [
        {
          "output_type": "stream",
          "name": "stdout",
          "text": [
            "tensor([ 0.1351,  0.0347,  0.1043,  ..., -0.0811, -0.0835,  0.0595])\n",
            "whereupon \t 0.51\n",
            "divulging \t 0.48\n",
            "blindfolds \t 0.48\n",
            "ambushing \t 0.47\n",
            "depositing \t 0.45\n",
            "tensor([-0.1006, -0.1549, -0.1828,  ...,  0.1526,  0.0548,  0.0170])\n",
            "buitoni \t 0.49\n",
            "ozanam \t 0.46\n",
            "vongola \t 0.45\n",
            "palmes \t 0.44\n",
            "vemork \t 0.44\n",
            "tensor([-0.0408,  0.0070, -0.0063,  ...,  0.0243,  0.2301,  0.0461])\n",
            "zords \t 0.43\n",
            "3,399 \t 0.42\n",
            "holdouts \t 0.41\n",
            "outshot \t 0.40\n",
            "9-6 \t 0.40\n",
            "tensor([-0.0901, -0.0310, -0.1188,  ...,  0.0818,  0.0119, -0.0338])\n",
            "heartened \t 0.54\n",
            "cautiously \t 0.53\n",
            "surefooted \t 0.53\n",
            "terrifically \t 0.51\n",
            "encouragingly \t 0.51\n",
            "tensor([-0.2193, -0.0411, -0.0271,  ...,  0.1270,  0.1372,  0.0581])\n",
            "chy \t 0.44\n",
            "gehr \t 0.43\n",
            "boda \t 0.42\n",
            "augured \t 0.42\n",
            "wrang \t 0.41\n"
          ]
        }
      ]
    },
    {
      "cell_type": "code",
      "source": [
        "for g in range(0,5):\n",
        "  index = random.randint(0,len(embedding.conv2.weight))\n",
        "  print_closest_cosine_words(embedding.conv2.weight[g][0][0].detach(),5)"
      ],
      "metadata": {
        "colab": {
          "base_uri": "https://localhost:8080/"
        },
        "id": "Rb4OCZaY2Qyp",
        "outputId": "78c1796d-e859-406b-8a61-4493148ec398"
      },
      "execution_count": null,
      "outputs": [
        {
          "output_type": "stream",
          "name": "stdout",
          "text": [
            "tensor([-0.2936, -0.4698, -0.3348,  ...,  0.2274,  0.4005,  0.2613])\n",
            "jaitapur \t 0.64\n",
            "220.9 \t 0.62\n",
            "arpa-e \t 0.61\n",
            "201.9 \t 0.61\n",
            "386.5 \t 0.60\n",
            "tensor([-0.1563, -0.0108,  0.0390,  ...,  0.2509,  0.1719,  0.0810])\n",
            "segredo \t 0.47\n",
            "lihd \t 0.46\n",
            "oo.oo \t 0.46\n",
            "wouldn \t 0.45\n",
            "guhng \t 0.45\n",
            "tensor([ 0.0064, -0.0247, -0.0386,  ...,  0.1091,  0.0145,  0.0598])\n",
            "demonstrates \t 0.47\n",
            "theorem \t 0.43\n",
            "supercharges \t 0.42\n",
            "implies \t 0.42\n",
            "gymnopilus \t 0.42\n",
            "tensor([ 0.0055, -0.0567, -0.0198,  ...,  0.1451,  0.0249,  0.0472])\n",
            "1030s \t 0.43\n",
            "1180s \t 0.41\n",
            "1170s \t 0.40\n",
            "1140s \t 0.40\n",
            "adelsverein \t 0.39\n",
            "tensor([-0.3152, -0.1163, -0.1058,  ...,  0.3193,  0.1676,  0.1824])\n",
            "naah \t 0.50\n",
            "leeze \t 0.49\n",
            "dunno \t 0.49\n",
            "pshaw \t 0.48\n",
            "healthwise \t 0.48\n"
          ]
        }
      ]
    },
    {
      "cell_type": "code",
      "source": [
        "for g in range(0,5):\n",
        "  index = random.randint(0,len(embeddingNoFreeze.conv1.weight))\n",
        "  print_closest_cosine_words(embeddingNoFreeze.conv1.weight[g][0][0].detach(),5)"
      ],
      "metadata": {
        "id": "vH7wpdHfyxuq"
      },
      "execution_count": null,
      "outputs": []
    },
    {
      "cell_type": "code",
      "source": [
        "for g in range(0,5):\n",
        "  index = random.randint(0,len(embeddingNoFreeze.conv2.weight))\n",
        "  print_closest_cosine_words(embeddingNoFreeze.conv2.weight[g][0][0].detach(),5)"
      ],
      "metadata": {
        "id": "Bh02sRdj0IWv"
      },
      "execution_count": null,
      "outputs": []
    }
  ]
}