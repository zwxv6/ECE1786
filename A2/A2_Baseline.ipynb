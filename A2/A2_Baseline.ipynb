{
  "nbformat": 4,
  "nbformat_minor": 0,
  "metadata": {
    "colab": {
      "provenance": []
    },
    "kernelspec": {
      "name": "python3",
      "display_name": "Python 3"
    },
    "language_info": {
      "name": "python"
    }
  },
  "cells": [
    {
      "cell_type": "code",
      "source": [
        "import torch\n",
        "import torchtext\n",
        "from torchtext import data\n",
        "import torch.optim as optim\n",
        "import argparse\n",
        "import os\n",
        "import pandas as pd\n",
        "from sklearn.model_selection import train_test_split\n",
        "import numpy as np\n",
        "import matplotlib.pyplot as plt\n",
        "\n",
        "# 3.3.1\n",
        "# The first time you run this will download a 862MB size file to .vector_cache/glove.6B.zip\n",
        "glove = torchtext.vocab.GloVe(name=\"6B\",dim=100) # embedding size = 100"
      ],
      "metadata": {
        "id": "WxKKUDVCZzow",
        "colab": {
          "base_uri": "https://localhost:8080/"
        },
        "outputId": "1b32c9b4-8000-4102-8179-acc692ec377e"
      },
      "execution_count": null,
      "outputs": [
        {
          "output_type": "stream",
          "name": "stderr",
          "text": [
            ".vector_cache/glove.6B.zip: 862MB [02:39, 5.40MB/s]                           \n",
            "100%|█████████▉| 399999/400000 [00:29<00:00, 13696.09it/s]\n"
          ]
        }
      ]
    },
    {
      "cell_type": "markdown",
      "source": [
        "**A2P3_2**"
      ],
      "metadata": {
        "id": "9AjYJoTYde2B"
      }
    },
    {
      "cell_type": "code",
      "source": [
        "def splitData():\n",
        "  df = pd.read_table('/content/data.tsv')\n",
        "\n",
        "  train, test = train_test_split(df, test_size=0.2, random_state=40, stratify=df.label)\n",
        "  training, validation = train_test_split(train, test_size=0.2, random_state=40, stratify=train.label)\n",
        "\n",
        "  print('length of text of train set:',len(training.text))\n",
        "  print('length of label of train set:',len(training.label))\n",
        "  print('length of text of test set:',len(test.text))\n",
        "  print('length of label of test set:',len(test.label))\n",
        "  print('length of text of validation set:',len(validation.text))\n",
        "  print('length of label of validation set:',len(validation.label))\n",
        "  print('===========')\n",
        "  print('length of label 0 of train set:',len(training[training['label']==0]))\n",
        "  print('length of label 1 of train set:',len(training[training['label']==1]))\n",
        "  print('length of label 0 of validation set:',len(validation[validation['label']==0]))\n",
        "  print('length of label 1 of validation set:',len(validation[validation['label']==1]))\n",
        "  print('length of label 0 of test set:',len(test[test['label']==0]))\n",
        "  print('length of label 1 of test set:',len(test[test['label']==1]))\n",
        "  print('===========')\n",
        "  df3=pd.merge(training,test, how='inner')\n",
        "  print('Do train set and test set have the same sample? ', not df3.empty)\n",
        "  df4=pd.merge(training,validation, how='inner')\n",
        "  print('Do train set and validation set have the same sample? ', not df4.empty)\n",
        "  df5=pd.merge(test,validation, how='inner')\n",
        "  print('Do test set and validation set have the same sample? ', not df5.empty)\n",
        "\n",
        "  overFit = df.sample(n=50)\n",
        "  overFit.to_csv('overfit.tsv', sep=\"\\t\")\n",
        "  training.to_csv('train.tsv', sep=\"\\t\")\n",
        "  test.to_csv('test.tsv', sep=\"\\t\")\n",
        "  validation.to_csv('validation.tsv', sep=\"\\t\")\n"
      ],
      "metadata": {
        "id": "JJwMTac8Xzul"
      },
      "execution_count": null,
      "outputs": []
    },
    {
      "cell_type": "code",
      "source": [
        "# please upload data.tsv into colab\n",
        "splitData()"
      ],
      "metadata": {
        "colab": {
          "base_uri": "https://localhost:8080/"
        },
        "id": "oz45ebjkZknc",
        "outputId": "fb52e905-d81f-48f4-fef4-aee1b1efcd85"
      },
      "execution_count": null,
      "outputs": [
        {
          "output_type": "stream",
          "name": "stdout",
          "text": [
            "length of text of train set: 6400\n",
            "length of label of train set: 6400\n",
            "length of text of test set: 2000\n",
            "length of label of test set: 2000\n",
            "length of text of validation set: 1600\n",
            "length of label of validation set: 1600\n",
            "===========\n",
            "length of label 0 of train set: 3200\n",
            "length of label 1 of train set: 3200\n",
            "length of label 0 of validation set: 800\n",
            "length of label 1 of validation set: 800\n",
            "length of label 0 of test set: 1000\n",
            "length of label 1 of test set: 1000\n",
            "===========\n",
            "Do train set and test set have the same sample?  False\n",
            "Do train set and validation set have the same sample?  False\n",
            "Do test set and validation set have the same sample?  False\n"
          ]
        }
      ]
    },
    {
      "cell_type": "code",
      "execution_count": null,
      "metadata": {
        "id": "1WX3k6dqZS9F"
      },
      "outputs": [],
      "source": [
        "class TextDataset(torch.utils.data.Dataset):\n",
        "  # TextDataset is Described in Section 3.3 of Assignment 2\n",
        "    def __init__(self, vocab, split=\"train\"):\n",
        "        data_path = \"data\"\n",
        "        df = pd.read_csv(os.path.join(data_path, f\"{split}.tsv\"), sep=\"\\t\")\n",
        "\n",
        "        # X: torch.tensor (maxlen, batch_size), padded indices\n",
        "        # Y: torch.tensor of len N\n",
        "        X, Y = [], []\n",
        "        V = len(vocab.vectors)\n",
        "        for i, row in df.iterrows():\n",
        "            L = row[\"text\"].split()\n",
        "            X.append(torch.tensor([vocab.stoi.get(w, V-1) for w in L]))  # Use the last word in the vocab as the \"out-of-vocabulary\" token\n",
        "            Y.append(row.label)\n",
        "        self.X = X\n",
        "        self.Y = torch.tensor(Y)\n",
        "\n",
        "    def __len__(self):\n",
        "        return len(self.X)\n",
        "\n",
        "    def __getitem__(self, idx):\n",
        "        return self.X[idx], self.Y[idx]"
      ]
    },
    {
      "cell_type": "code",
      "source": [
        "# my_collate_function prepares batches\n",
        "# it also pads each batch with zeroes.\n",
        "def my_collate_function(batch, device):\n",
        "    # Handle the padding here\n",
        "    # batch is approximately: [dataset[i] for i in range(0, batch_size)]\n",
        "    # Since the dataset[i]'s contents is defined in the __getitem__() above, this collate function\n",
        "    # should be set correspondingly.\n",
        "    # Also: collate_function just takes one argument. To pass in additional arguments (e.g., device),\n",
        "    # we need to wrap up an anonymous function (using lambda below)\n",
        "    batch_x, batch_y = [], []\n",
        "    max_len = 0\n",
        "    for x,y in batch:\n",
        "        batch_y.append(y)\n",
        "        max_len = max(max_len, len(x))\n",
        "    for x,y in batch:\n",
        "        x_p = torch.concat(\n",
        "            [x, torch.zeros(max_len - len(x))]\n",
        "        )\n",
        "        batch_x.append(x_p)\n",
        "    return torch.stack(batch_x).t().int().to(device), torch.tensor(batch_y).to(device)"
      ],
      "metadata": {
        "id": "CfThD15-Zf3n"
      },
      "execution_count": null,
      "outputs": []
    },
    {
      "cell_type": "markdown",
      "source": [
        "part 4.1 - 4.2"
      ],
      "metadata": {
        "id": "pctX3Gscs5zS"
      }
    },
    {
      "cell_type": "code",
      "source": [
        "class baselineModel(torch.nn.Module):\n",
        "  def __init__(self, vocab, embedding_size):\n",
        "    super().__init__()\n",
        "\n",
        "    self.embedding = torch.nn.Embedding.from_pretrained(vocab.vectors)\n",
        "    self.out = torch.nn.Linear(embedding_size, 1)\n",
        "\n",
        "\n",
        "  def forward(self, x):\n",
        "    e = self.embedding(x)\n",
        "    average = torch.mean(e, 0, True)\n",
        "    logits = self.out(average)\n",
        "    return logits.reshape([-1])"
      ],
      "metadata": {
        "id": "tDm6VVTdIu7R"
      },
      "execution_count": null,
      "outputs": []
    },
    {
      "cell_type": "markdown",
      "source": [
        "part 4.3 (include 4.7)"
      ],
      "metadata": {
        "id": "SVv3hQLCs9qQ"
      }
    },
    {
      "cell_type": "code",
      "source": [
        "def main(epochs,batchSize,learningRate):\n",
        "    #   fix seed\n",
        "    torch.manual_seed(2)\n",
        "\n",
        "    device = torch.device('cuda' if torch.cuda.is_available() else 'cpu')\n",
        "    print (\"Using device:\", device)\n",
        "\n",
        "    ### 3.3 Processing of the data ###\n",
        "\n",
        "\n",
        "    # 3.3.2\n",
        "\n",
        "    train_dataset = TextDataset(glove, \"train\")\n",
        "    val_dataset = TextDataset(glove, \"validation\")\n",
        "    test_dataset = TextDataset(glove, \"test\")\n",
        "\n",
        "    # 3.3.3\n",
        "    train_dataloader = torch.utils.data.DataLoader(\n",
        "        dataset=train_dataset,\n",
        "        batch_size=batchSize,\n",
        "        shuffle=False,\n",
        "        collate_fn=lambda batch: my_collate_function(batch, device))\n",
        "    validation_dataloader = torch.utils.data.DataLoader(\n",
        "        dataset=val_dataset,\n",
        "        batch_size=batchSize,\n",
        "        shuffle=False,\n",
        "        collate_fn=lambda batch: my_collate_function(batch, device))\n",
        "\n",
        "    test_dataloader = torch.utils.data.DataLoader(\n",
        "        dataset=test_dataset,\n",
        "        batch_size=batchSize,\n",
        "        shuffle=False,\n",
        "        collate_fn=lambda batch: my_collate_function(batch, device))\n",
        "\n",
        "    # Instantiate your model(s) and train them and so on\n",
        "    # We suggest parameterizing the model - k1, n1, k2, n2, and other hyperparameters\n",
        "    # so that it is easier to experiment with\n",
        "\n",
        "    #4.3\n",
        "    model = baselineModel(glove, embedding_size=glove.vectors.shape[1])\n",
        "    optimizer = torch.optim.Adam(params=model.parameters(), lr=learningRate)\n",
        "    lossFunction = torch.nn.BCEWithLogitsLoss()\n",
        "    probabilityFunction = torch.nn.Sigmoid()\n",
        "\n",
        "    totalLoss = []\n",
        "    totalTestLoss = []\n",
        "    totalValidationLoss = []\n",
        "    totalAccuray = []\n",
        "\n",
        "    for i in range(epochs):\n",
        "      currentEpochLoss = 0\n",
        "      currentEpochLossV = 0\n",
        "      currentEpochLossT = 0\n",
        "      currentEpochValidationLoss = 0\n",
        "      for X_train, y_train in train_dataloader:\n",
        "        optimizer.zero_grad()\n",
        "        logits = model(x=X_train)\n",
        "        currentLoss = lossFunction(logits, y_train.float())\n",
        "        currentEpochLoss = currentEpochLoss + currentLoss\n",
        "        currentLoss.backward()\n",
        "        optimizer.step()\n",
        "\n",
        "      averageCurrentEpochLoss = currentEpochLoss/len(train_dataloader)\n",
        "      totalLoss.append(averageCurrentEpochLoss.item())\n",
        "\n",
        "      for X_validation, y_validation in validation_dataloader:\n",
        "        model.eval()\n",
        "        with torch.no_grad():\n",
        "          logitsV = model(x=X_validation)\n",
        "        currentLossV = lossFunction(logitsV, y_validation.float())\n",
        "        currentEpochLossV = currentEpochLossV + currentLossV\n",
        "\n",
        "      averageCurrentEpochLossV = currentEpochLossV/len(validation_dataloader)\n",
        "      totalValidationLoss.append(averageCurrentEpochLossV.item())\n",
        "\n",
        "    #4.5\n",
        "      currentAccuray = 0\n",
        "      numbers = 0\n",
        "      for X_test, y_test in test_dataloader:\n",
        "        model.eval()\n",
        "        with torch.no_grad():\n",
        "          logitsT = model(x=X_test)\n",
        "        currentLossT = lossFunction(logitsT, y_test.float())\n",
        "        currentEpochLossT = currentEpochLossT + currentLossT\n",
        "\n",
        "        probability = probabilityFunction(logitsT)\n",
        "        probability = torch.maximum(probability, torch.tensor([1e-5]))\n",
        "        probability = torch.minimum(probability, torch.tensor([0.99999]))\n",
        "        Y_pred = torch.round(probability)\n",
        "\n",
        "        n = 0\n",
        "        for eachy_test in y_test:\n",
        "          if eachy_test.item() == Y_pred[n]:\n",
        "            currentAccuray  = currentAccuray + 1\n",
        "          n = n + 1\n",
        "        numbers = numbers + len(Y_pred)\n",
        "\n",
        "      totalEpochAccuray = currentAccuray/numbers\n",
        "      totalAccuray.append(totalEpochAccuray)\n",
        "\n",
        "      averageCurrentEpochLossT = currentEpochLossT/len(validation_dataloader)\n",
        "      totalTestLoss.append(averageCurrentEpochLossT.item())\n",
        "\n",
        "    #4.7 saving model\n",
        "    torch.save(model.state_dict(), '/content/baselineModel')\n",
        "\n",
        "\n",
        "    return model, totalLoss, totalValidationLoss, totalTestLoss, totalAccuray"
      ],
      "metadata": {
        "id": "Lsvao6WhZiKR"
      },
      "execution_count": null,
      "outputs": []
    },
    {
      "cell_type": "code",
      "source": [
        "# please create a folder called 'data' in colab and put 'overfit.tsv' 'train.tsv' 'test.tsv' 'validation.tsv' into 'data' folder\n",
        "embedding, totalLoss, totalValidationLoss, totalTestLoss, totalAccuray = main(50,4,0.001)\n",
        "plt.plot(totalLoss, label='Train Loss')\n",
        "plt.plot(totalValidationLoss, label='Validation Loss')\n",
        "plt.plot(totalTestLoss, label='Test Loss')\n",
        "plt.plot(totalAccuray, label='Accuray')\n",
        "plt.legend()"
      ],
      "metadata": {
        "colab": {
          "base_uri": "https://localhost:8080/",
          "height": 465
        },
        "id": "eQzrFqtkOvpw",
        "outputId": "4756565a-4e5f-4c62-dc33-7dadcc635e33"
      },
      "execution_count": null,
      "outputs": [
        {
          "output_type": "stream",
          "name": "stdout",
          "text": [
            "Using device: cpu\n"
          ]
        },
        {
          "output_type": "execute_result",
          "data": {
            "text/plain": [
              "<matplotlib.legend.Legend at 0x7e9afc87cf70>"
            ]
          },
          "metadata": {},
          "execution_count": 9
        },
        {
          "output_type": "display_data",
          "data": {
            "text/plain": [
              "<Figure size 640x480 with 1 Axes>"
            ],
            "image/png": "[encoded data removed]"
          },
          "metadata": {}
        }
      ]
    },
    {
      "cell_type": "code",
      "source": [
        "print(totalAccuray[-1])"
      ],
      "metadata": {
        "colab": {
          "base_uri": "https://localhost:8080/"
        },
        "id": "Kum7GIJgpqkk",
        "outputId": "87cfa626-d67f-4971-8f6b-7c911a74bc54"
      },
      "execution_count": null,
      "outputs": [
        {
          "output_type": "stream",
          "name": "stdout",
          "text": [
            "0.8855\n"
          ]
        }
      ]
    },
    {
      "cell_type": "markdown",
      "source": [
        "**4.4**"
      ],
      "metadata": {
        "id": "PbbeLT_Rgwtn"
      }
    },
    {
      "cell_type": "code",
      "source": [
        "def overfitTest(epochs,batchSize,learningRate):\n",
        "    #   fix seed\n",
        "    torch.manual_seed(2)\n",
        "\n",
        "    device = torch.device('cuda' if torch.cuda.is_available() else 'cpu')\n",
        "    print (\"Using device:\", device)\n",
        "\n",
        "    overfit_dataset = TextDataset(glove, \"overfit\")\n",
        "\n",
        "    overfit_dataloader = torch.utils.data.DataLoader(\n",
        "        dataset=overfit_dataset,\n",
        "        batch_size=batchSize,\n",
        "        shuffle=False,\n",
        "        collate_fn=lambda batch: my_collate_function(batch, device))\n",
        "\n",
        "    model = baselineModel(glove, embedding_size=glove.vectors.shape[1])\n",
        "    optimizer = torch.optim.Adam(params=model.parameters(), lr=learningRate)\n",
        "    lossFunction = torch.nn.BCEWithLogitsLoss()\n",
        "    probabilityFunction = torch.nn.Sigmoid()\n",
        "\n",
        "    totalLoss = []\n",
        "    totalAccuray = []\n",
        "\n",
        "    for i in range(epochs):\n",
        "      currentEpochLoss = 0\n",
        "      numbers = 0\n",
        "      currentAccuray = 0\n",
        "      for X_overfit, y_overfit in overfit_dataloader:\n",
        "        optimizer.zero_grad()\n",
        "        logits = model(x=X_overfit)\n",
        "        currentLoss = lossFunction(logits, y_overfit.float())\n",
        "        currentEpochLoss = currentEpochLoss + currentLoss\n",
        "        currentLoss.backward()\n",
        "        optimizer.step()\n",
        "\n",
        "        probability = probabilityFunction(logits)\n",
        "        probability = torch.maximum(probability, torch.tensor([1e-5]))\n",
        "        probability = torch.minimum(probability, torch.tensor([0.99999]))\n",
        "        Y_pred = torch.round(probability)\n",
        "\n",
        "        n = 0\n",
        "        for eachy_test in y_overfit:\n",
        "          if eachy_test.item() == Y_pred[n]:\n",
        "            currentAccuray  = currentAccuray + 1\n",
        "          n = n + 1\n",
        "        numbers = numbers + len(Y_pred)\n",
        "\n",
        "      totalEpochAccuray = currentAccuray/numbers\n",
        "      totalAccuray.append(totalEpochAccuray)\n",
        "\n",
        "      averageCurrentEpochLoss = currentEpochLoss/len(overfit_dataloader)\n",
        "      totalLoss.append(averageCurrentEpochLoss.item())\n",
        "\n",
        "    return totalLoss, totalAccuray"
      ],
      "metadata": {
        "id": "IQx84T8qdS6y"
      },
      "execution_count": null,
      "outputs": []
    },
    {
      "cell_type": "code",
      "source": [
        "# please create a folder called 'data' in colab and put 'overfit.tsv' 'train.tsv' 'test.tsv' 'validation.tsv' into 'data' folder\n",
        "totalLossO, totalAccurayO = overfitTest(1000,4,0.001)\n",
        "print(totalAccurayO[-1])\n",
        "plt.plot(totalLossO, label='Overfit Loss')\n",
        "plt.plot(totalAccurayO, label='Accuray')\n",
        "plt.legend()"
      ],
      "metadata": {
        "colab": {
          "base_uri": "https://localhost:8080/",
          "height": 482
        },
        "id": "yX_V0zpSfySQ",
        "outputId": "bb267e15-a5d8-4304-cb70-c8bf6c3a3bb5"
      },
      "execution_count": null,
      "outputs": [
        {
          "output_type": "stream",
          "name": "stdout",
          "text": [
            "Using device: cpu\n",
            "1.0\n"
          ]
        },
        {
          "output_type": "execute_result",
          "data": {
            "text/plain": [
              "<matplotlib.legend.Legend at 0x7f452b4728f0>"
            ]
          },
          "metadata": {},
          "execution_count": 31
        },
        {
          "output_type": "display_data",
          "data": {
            "text/plain": [
              "<Figure size 640x480 with 1 Axes>"
            ],
            "image/png": "[encoded data removed]"
          },
          "metadata": {}
        }
      ]
    },
    {
      "cell_type": "markdown",
      "source": [
        "**4.6**"
      ],
      "metadata": {
        "id": "Y0Phpz44cpu2"
      }
    },
    {
      "cell_type": "code",
      "source": [
        "def print_closest_cosine_words(vec, n=5):\n",
        "    dists = torch.cosine_similarity(glove.vectors, vec.unsqueeze(0))# compute distances to all words\n",
        "    print(dists)\n",
        "    lst = sorted(enumerate(dists.numpy()), key=lambda x: x[1]) # sort by distance\n",
        "    for idx, difference in lst[:-n-1:-1]:                         # take the top n\n",
        "        print(glove.itos[idx], \"\\t%5.2f\" % difference)"
      ],
      "metadata": {
        "id": "RR98O1a1e2mU"
      },
      "execution_count": null,
      "outputs": []
    },
    {
      "cell_type": "code",
      "source": [
        "print_closest_cosine_words(embedding.out.weight[0].detach(),20)"
      ],
      "metadata": {
        "colab": {
          "base_uri": "https://localhost:8080/"
        },
        "id": "hzT3e7xZqcPG",
        "outputId": "25bccdb2-cea3-4c3a-e7dd-821067e887e3"
      },
      "execution_count": null,
      "outputs": [
        {
          "output_type": "stream",
          "name": "stdout",
          "text": [
            "tensor([-0.0096, -0.0674, -0.0201,  ...,  0.1340, -0.0174,  0.0909])\n",
            "insipid \t 0.55\n",
            "underwhelming \t 0.53\n",
            "flattering \t 0.52\n",
            "campy \t 0.52\n",
            "pleasing \t 0.51\n",
            "simplistic \t 0.51\n",
            "verbiage \t 0.50\n",
            "watchable \t 0.50\n",
            "appetizing \t 0.50\n",
            "emptier \t 0.50\n",
            "funnily \t 0.49\n",
            "tepid \t 0.49\n",
            "hokum \t 0.49\n",
            "visuals \t 0.49\n",
            "nuanced \t 0.48\n",
            "retread \t 0.48\n",
            "laughable \t 0.48\n",
            "cheesy \t 0.48\n",
            "cartoony \t 0.48\n",
            "uninspired \t 0.48\n"
          ]
        }
      ]
    }
  ]
}